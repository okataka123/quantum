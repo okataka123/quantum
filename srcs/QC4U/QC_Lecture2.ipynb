{
 "cells": [
  {
   "cell_type": "markdown",
   "id": "d01d7b61-f3cc-4a1d-9c15-97805fa6ca66",
   "metadata": {},
   "source": [
    "# Lec2 Grover's Argorithm\n",
    "Reference\n",
    "- [[Youtube]【誰でも量子コンピュータ！量子アルゴリズム編】Quantum Computing for You【第2回・9/16実施】](https://www.youtube.com/watch?v=ZSqYDf_vSAo&list=TLGGjihUoF88W5MyMjA0MjAyNA)\n",
    "- [[Youtube] 量子コンピュータ授業 #4　グローバーのアルゴリズム](https://www.youtube.com/watch?v=U6HszEyIuEw)\n",
    "- [[Qiita] Groverのアルゴリズム](https://qiita.com/shnchr/items/4160d2d066873824e35e)"
   ]
  },
  {
   "cell_type": "code",
   "execution_count": 1,
   "id": "f34466ae-cce7-41d4-8ac9-4ffdf842321a",
   "metadata": {},
   "outputs": [],
   "source": [
    "from qiskit import QuantumCircuit, QuantumRegister\n",
    "from qiskit_aer import Aer\n",
    "from qiskit.visualization import array_to_latex"
   ]
  },
  {
   "cell_type": "code",
   "execution_count": 2,
   "id": "bc9f52d9-e1b8-4e5f-a825-e07c137554f2",
   "metadata": {},
   "outputs": [],
   "source": [
    "n = 2\n",
    "qc = QuantumCircuit()\n",
    "qr = QuantumRegister(n)\n",
    "qc.add_register(qr)"
   ]
  },
  {
   "cell_type": "code",
   "execution_count": 3,
   "id": "4b726575-99be-470a-95d8-648f70176df4",
   "metadata": {},
   "outputs": [
    {
     "data": {
      "text/plain": [
       "<qiskit.circuit.instructionset.InstructionSet at 0x7fb1df908760>"
      ]
     },
     "execution_count": 3,
     "metadata": {},
     "output_type": "execute_result"
    }
   ],
   "source": [
    "# qc.h(qr[0])\n",
    "# qc.h(qr[1])\n",
    "\n",
    "qc.h(qr) # コレでいっぺんに全ての量子ビットにHadamardゲートをつけることができる。"
   ]
  },
  {
   "cell_type": "code",
   "execution_count": 4,
   "id": "3cdf7f7f-4111-41f2-b1a1-e2f45eaaf6d5",
   "metadata": {},
   "outputs": [
    {
     "data": {
      "image/png": "[encoded data removed]",
      "text/plain": [
       "<Figure size 221.914x200.667 with 1 Axes>"
      ]
     },
     "execution_count": 4,
     "metadata": {},
     "output_type": "execute_result"
    }
   ],
   "source": [
    "qc.draw('mpl')"
   ]
  },
  {
   "cell_type": "code",
   "execution_count": 5,
   "id": "f2d9fb3f-2004-4fe9-8733-2b2ffd2aff60",
   "metadata": {},
   "outputs": [],
   "source": [
    "sim = Aer.get_backend('statevector_simulator')"
   ]
  },
  {
   "cell_type": "code",
   "execution_count": 6,
   "id": "2e65e82c-d65f-4fc7-ac85-82e5c35fd4e3",
   "metadata": {},
   "outputs": [
    {
     "name": "stdout",
     "output_type": "stream",
     "text": [
      "Statevector([0.5+0.j, 0.5+0.j, 0.5+0.j, 0.5+0.j],\n",
      "            dims=(2, 2))\n"
     ]
    }
   ],
   "source": [
    "res = sim.run(qc).result()\n",
    "print(res.data()['statevector'])"
   ]
  },
  {
   "cell_type": "markdown",
   "id": "51a1c106-dcce-49e3-9d38-c0ca27ec4fa6",
   "metadata": {},
   "source": [
    "$\\ket{\\psi} = \\frac{1}{2}\\ket{00} + \\frac{1}{2}\\ket{01} + \\frac{1}{2}\\ket{10} + \\frac{1}{2}\\ket{11}$"
   ]
  },
  {
   "cell_type": "code",
   "execution_count": 7,
   "id": "bdf71df2-78f7-4c54-bf88-9c8b1bd26d31",
   "metadata": {},
   "outputs": [
    {
     "data": {
      "text/plain": [
       "<qiskit.circuit.instructionset.InstructionSet at 0x7fb1de634b20>"
      ]
     },
     "execution_count": 7,
     "metadata": {},
     "output_type": "execute_result"
    }
   ],
   "source": [
    "# Control Z\n",
    "# qr[0]は制御ビット、qr[1]は対象ビット\n",
    "# Z変換は、\\0> -> \\0>, \\1> -> -\\1>\n",
    "# qr[0]が\\0>のときは対象ビットは何もしない、qr[0]が\\1>のときは対象ビットはZ変換する。\n",
    "qc.cz(qr[0], qr[1]) "
   ]
  },
  {
   "cell_type": "code",
   "execution_count": 8,
   "id": "977536d5-7c60-409e-9bac-c7fc29803c85",
   "metadata": {},
   "outputs": [
    {
     "data": {
      "image/png": "[encoded data removed]",
      "text/plain": [
       "<Figure size 305.525x200.667 with 1 Axes>"
      ]
     },
     "execution_count": 8,
     "metadata": {},
     "output_type": "execute_result"
    }
   ],
   "source": [
    "qc.draw('mpl')"
   ]
  },
  {
   "cell_type": "markdown",
   "id": "4d52a2d7-0e5c-4617-9902-5d8b14d734aa",
   "metadata": {},
   "source": [
    "上図の様に回路図が対象になる理由は、Control Zは制御ビットと対象ビットを入れ替えても結果が変わらないから。"
   ]
  },
  {
   "cell_type": "code",
   "execution_count": 9,
   "id": "04dbc68c-76b3-4c15-ba2c-4d8f839e2613",
   "metadata": {},
   "outputs": [
    {
     "data": {
      "text/latex": [
       "$$\n",
       "state =\n",
       "\\begin{bmatrix}\n",
       "\\frac{1}{2} & \\frac{1}{2} & \\frac{1}{2} & - \\frac{1}{2}  \\\\\n",
       " \\end{bmatrix}\n",
       "$$"
      ],
      "text/plain": [
       "<IPython.core.display.Latex object>"
      ]
     },
     "execution_count": 9,
     "metadata": {},
     "output_type": "execute_result"
    }
   ],
   "source": [
    "# 量子回路qcをシミュレートする。\n",
    "sim = Aer.get_backend('statevector_simulator')\n",
    "res = sim.run(qc).result()\n",
    "state = res.data()['statevector']\n",
    "array_to_latex(state, prefix='state =')"
   ]
  },
  {
   "cell_type": "markdown",
   "id": "331f3269-2939-4e45-bb38-40aeb785f628",
   "metadata": {},
   "source": [
    "よって、Control Zは$\\ket{11}$を$-\\ket{11}$にする作用を持つ。他($\\ket{00}, \\ket{01}, \\ket{10}$)は変化させない。"
   ]
  },
  {
   "cell_type": "markdown",
   "id": "6ef526ea-ef56-4197-9af5-958c90374509",
   "metadata": {},
   "source": [
    "### Control ZがHadamardとXで作ることができることの説明"
   ]
  },
  {
   "cell_type": "code",
   "execution_count": 10,
   "id": "1dad63c8-edde-4c31-ad32-0e1a520d7808",
   "metadata": {},
   "outputs": [],
   "source": [
    "n = 1\n",
    "qc = QuantumCircuit()\n",
    "qr = QuantumRegister(n)\n",
    "qc.add_register(qr)"
   ]
  },
  {
   "cell_type": "code",
   "execution_count": 11,
   "id": "2a62460a-0712-4534-bd10-fe44da5b9c68",
   "metadata": {},
   "outputs": [
    {
     "data": {
      "text/plain": [
       "<qiskit.circuit.instructionset.InstructionSet at 0x7fb1dcc07280>"
      ]
     },
     "execution_count": 11,
     "metadata": {},
     "output_type": "execute_result"
    }
   ],
   "source": [
    "qc.h(qr[0])\n",
    "qc.x(qr[0]) # Xはビット反転\n",
    "qc.h(qr[0])"
   ]
  },
  {
   "cell_type": "code",
   "execution_count": 12,
   "id": "8a65c859-6d0b-442f-bcb1-121ececd8867",
   "metadata": {},
   "outputs": [
    {
     "data": {
      "image/png": "[encoded data removed]",
      "text/plain": [
       "<Figure size 371.107x117.056 with 1 Axes>"
      ]
     },
     "execution_count": 12,
     "metadata": {},
     "output_type": "execute_result"
    }
   ],
   "source": [
    "qc.draw('mpl')"
   ]
  },
  {
   "cell_type": "code",
   "execution_count": 13,
   "id": "98d7673b-c3b7-4535-8ae2-6d6910937f93",
   "metadata": {},
   "outputs": [
    {
     "data": {
      "text/latex": [
       "$$\n",
       "state =\n",
       "\\begin{bmatrix}\n",
       "1 & 0  \\\\\n",
       " \\end{bmatrix}\n",
       "$$"
      ],
      "text/plain": [
       "<IPython.core.display.Latex object>"
      ]
     },
     "execution_count": 13,
     "metadata": {},
     "output_type": "execute_result"
    }
   ],
   "source": [
    "# 量子回路qcをシミュレートする。\n",
    "sim = Aer.get_backend('statevector_simulator')\n",
    "res = sim.run(qc).result()\n",
    "state = res.data()['statevector']\n",
    "array_to_latex(state, prefix='state =')"
   ]
  },
  {
   "cell_type": "markdown",
   "id": "43915831-f1c6-47f5-a61e-4082863e3bb6",
   "metadata": {},
   "source": [
    "$H\\ket{0} = \\frac{1}{\\sqrt{2}}(\\ket{0} + \\ket{1})$, $H\\ket{1} = \\frac{1}{\\sqrt{2}}(\\ket{0} - \\ket{1})$\n",
    "であることに注意すると、  \n",
    "入力が$\\ket{0}$のとき、\n",
    "$$\n",
    "\\begin{align}\n",
    "    HXH\\ket{0} &= HX(\\frac{1}{\\sqrt{2}}(\\ket{0} + \\ket{1})) \\\\\n",
    "               &= H(\\frac{1}{\\sqrt{2}}(\\ket{0} + \\ket{1})) \\\\\n",
    "               &= \\frac{1}{\\sqrt{2}}(H\\ket{0} + H\\ket{1}) \\\\\n",
    "               &= \\frac{1}{\\sqrt{2}}(\\frac{1}{\\sqrt{2}}(\\ket{0} + \\ket{1}) + \\frac{1}{\\sqrt{2}}(\\ket{0} - \\ket{1})) \\\\\n",
    "               &= \\ket{0}\n",
    "\\end{align}\n",
    "$$\n",
    "入力が$\\ket{1}$のとき、\n",
    "$$\n",
    "\\begin{align}\n",
    "    HXH\\ket{1} &= HX(\\frac{1}{\\sqrt{2}}(\\ket{0} - \\ket{1})) \\\\\n",
    "               &= H(\\frac{1}{\\sqrt{2}}(\\ket{1} - \\ket{0})) \\\\\n",
    "               &= \\frac{1}{\\sqrt{2}}(H\\ket{1} - H\\ket{0}) \\\\\n",
    "               &= \\frac{1}{\\sqrt{2}}(\\frac{1}{\\sqrt{2}}(\\ket{0} - \\ket{1}) - \\frac{1}{\\sqrt{2}}(\\ket{0} + \\ket{1})) \\\\\n",
    "               &= -\\ket{1}\n",
    "\\end{align}\n",
    "$$\n",
    "以上をまとめると、\n",
    "$$\n",
    "\\begin{align}\n",
    "    HXH\\ket{0} &= \\ket{0} \\\\\n",
    "    HXH\\ket{1} &= -\\ket{1} \n",
    "\\end{align}\n",
    "$$\n",
    "となることがわかるため、$HXH = Z$であることが結論付けられる。  \n",
    "同様に、実は$HZH = X$であることも分かる。  \n",
    "またHadamardゲートの特徴として、重ね合わせ状態を作る働きもあるし、逆に重ね合わせ状態が入力されたら重ね合わせを解く（確定的にする）働きもする。"
   ]
  },
  {
   "cell_type": "code",
   "execution_count": 14,
   "id": "b90fbc84-f41e-48cb-8e2a-17c8c423239e",
   "metadata": {},
   "outputs": [
    {
     "data": {
      "text/plain": [
       "<qiskit.circuit.instructionset.InstructionSet at 0x7fb1df4328e0>"
      ]
     },
     "execution_count": 14,
     "metadata": {},
     "output_type": "execute_result"
    }
   ],
   "source": [
    "n = 1\n",
    "qc = QuantumCircuit()\n",
    "qr = QuantumRegister(n)\n",
    "qc.add_register(qr)\n",
    "\n",
    "# 入力ビットを\\1>に初期化する。\n",
    "qc.initialize([0, 1], 0)"
   ]
  },
  {
   "cell_type": "code",
   "execution_count": 15,
   "id": "c3688db8-d8db-48f2-a58e-a94da53ef4dc",
   "metadata": {},
   "outputs": [
    {
     "data": {
      "text/plain": [
       "<qiskit.circuit.instructionset.InstructionSet at 0x7fb1df432700>"
      ]
     },
     "execution_count": 15,
     "metadata": {},
     "output_type": "execute_result"
    }
   ],
   "source": [
    "qc.h(qr[0])\n",
    "qc.x(qr[0]) # Xはビット反転\n",
    "qc.h(qr[0])"
   ]
  },
  {
   "cell_type": "code",
   "execution_count": 16,
   "id": "ec70b9f7-d0b7-4315-9242-15dda935ae87",
   "metadata": {},
   "outputs": [
    {
     "data": {
      "image/png": "[encoded data removed]",
      "text/plain": [
       "<Figure size 454.719x117.056 with 1 Axes>"
      ]
     },
     "execution_count": 16,
     "metadata": {},
     "output_type": "execute_result"
    }
   ],
   "source": [
    "qc.draw('mpl')"
   ]
  },
  {
   "cell_type": "code",
   "execution_count": 17,
   "id": "fda36a51-d40f-4626-8e56-56591f636bf8",
   "metadata": {},
   "outputs": [
    {
     "data": {
      "text/latex": [
       "$$\n",
       "state =\n",
       "\\begin{bmatrix}\n",
       "0 & -1  \\\\\n",
       " \\end{bmatrix}\n",
       "$$"
      ],
      "text/plain": [
       "<IPython.core.display.Latex object>"
      ]
     },
     "execution_count": 17,
     "metadata": {},
     "output_type": "execute_result"
    }
   ],
   "source": [
    "# 量子回路qcをシミュレートする。\n",
    "sim = Aer.get_backend('statevector_simulator')\n",
    "res = sim.run(qc).result()\n",
    "state = res.data()['statevector']\n",
    "array_to_latex(state, prefix='state =')"
   ]
  },
  {
   "cell_type": "markdown",
   "id": "b7cc884e-8c57-4ba8-863c-458e1231a8e4",
   "metadata": {},
   "source": [
    "ZがXを使って作れたのと同様に、CZもCXを使って作ることができる。以後、それを見ていく。"
   ]
  },
  {
   "cell_type": "code",
   "execution_count": 18,
   "id": "cedd63b1-54e6-4157-9648-2d84f87faf03",
   "metadata": {},
   "outputs": [],
   "source": [
    "n = 2\n",
    "qc = QuantumCircuit()\n",
    "qr = QuantumRegister(n)\n",
    "qc.add_register(qr)"
   ]
  },
  {
   "cell_type": "code",
   "execution_count": 19,
   "id": "a025d586-8db1-432b-8aa9-4f36a182e3d8",
   "metadata": {},
   "outputs": [
    {
     "data": {
      "text/plain": [
       "<qiskit.circuit.instructionset.InstructionSet at 0x7fb1dcb662b0>"
      ]
     },
     "execution_count": 19,
     "metadata": {},
     "output_type": "execute_result"
    }
   ],
   "source": [
    "qc.h(qr) # 4通りの入力を全て確認するのは面倒なので、両ビット共に\\0>にHadamardゲートを掛けて重ね合わせ状態を作っておく。\n",
    "\n",
    "qc.h(qr[1])\n",
    "qc.cx(qr[0], qr[1])\n",
    "qc.h(qr[1])"
   ]
  },
  {
   "cell_type": "code",
   "execution_count": 20,
   "id": "469101c7-5a8d-4e66-b427-edbb2cdde1fc",
   "metadata": {},
   "outputs": [
    {
     "data": {
      "image/png": "[encoded data removed]",
      "text/plain": [
       "<Figure size 472.949x200.667 with 1 Axes>"
      ]
     },
     "execution_count": 20,
     "metadata": {},
     "output_type": "execute_result"
    }
   ],
   "source": [
    "qc.draw('mpl')"
   ]
  },
  {
   "cell_type": "code",
   "execution_count": 21,
   "id": "8009d632-203c-44ef-8af7-27824f52c570",
   "metadata": {},
   "outputs": [
    {
     "data": {
      "text/html": [
       "<pre style=\"word-wrap: normal;white-space: pre;background: #fff0;line-height: 1.1;font-family: &quot;Courier New&quot;,Courier,monospace\">      ┌───┐               \n",
       "q4_0: ┤ H ├───────■───────\n",
       "      ├───┤┌───┐┌─┴─┐┌───┐\n",
       "q4_1: ┤ H ├┤ H ├┤ X ├┤ H ├\n",
       "      └───┘└───┘└───┘└───┘</pre>"
      ],
      "text/plain": [
       "      ┌───┐               \n",
       "q4_0: ┤ H ├───────■───────\n",
       "      ├───┤┌───┐┌─┴─┐┌───┐\n",
       "q4_1: ┤ H ├┤ H ├┤ X ├┤ H ├\n",
       "      └───┘└───┘└───┘└───┘"
      ]
     },
     "execution_count": 21,
     "metadata": {},
     "output_type": "execute_result"
    }
   ],
   "source": [
    "qc.draw()"
   ]
  },
  {
   "cell_type": "code",
   "execution_count": 22,
   "id": "0c5c7126-64f4-4a36-b6b9-20b9eb4f2b27",
   "metadata": {},
   "outputs": [
    {
     "data": {
      "text/latex": [
       "$$\n",
       "state =\n",
       "\\begin{bmatrix}\n",
       "\\frac{1}{2} & \\frac{1}{2} & \\frac{1}{2} & - \\frac{1}{2}  \\\\\n",
       " \\end{bmatrix}\n",
       "$$"
      ],
      "text/plain": [
       "<IPython.core.display.Latex object>"
      ]
     },
     "execution_count": 22,
     "metadata": {},
     "output_type": "execute_result"
    }
   ],
   "source": [
    "# 量子回路qcをシミュレートする。\n",
    "sim = Aer.get_backend('statevector_simulator')\n",
    "res = sim.run(qc).result()\n",
    "state = res.data()['statevector']\n",
    "array_to_latex(state, prefix='state =')"
   ]
  },
  {
   "cell_type": "markdown",
   "id": "f39e8cdb-a28c-40ec-95fa-b84dcf961df6",
   "metadata": {},
   "source": [
    "この結果により、$\\ket{11}$だけ符号が反転することが分かるので、コレはCZゲートを実現していることが分かる。"
   ]
  },
  {
   "cell_type": "markdown",
   "id": "2f9e3a8e-84c5-4d44-9b7f-d3fb78336a18",
   "metadata": {},
   "source": [
    "---\n",
    "## Groverのアルゴリズム\n",
    "重ね合わせ状態から、一つほしい状態を探索するためのアルゴリズム"
   ]
  },
  {
   "cell_type": "code",
   "execution_count": 23,
   "id": "1056edd6-8a8e-40ee-a4de-44cb2a859283",
   "metadata": {},
   "outputs": [],
   "source": [
    "n = 5\n",
    "qc = QuantumCircuit()\n",
    "qr = QuantumRegister(n)\n",
    "qc.add_register(qr)"
   ]
  },
  {
   "cell_type": "code",
   "execution_count": 24,
   "id": "e3f085a9-8c93-4831-ac7a-291376208d83",
   "metadata": {},
   "outputs": [
    {
     "data": {
      "text/plain": [
       "<qiskit.circuit.instructionset.InstructionSet at 0x7fb1dcae5d00>"
      ]
     },
     "execution_count": 24,
     "metadata": {},
     "output_type": "execute_result"
    }
   ],
   "source": [
    "# まず重ね合わせ状態を作る。\n",
    "qc.h(qr)"
   ]
  },
  {
   "cell_type": "code",
   "execution_count": 25,
   "id": "4388b7ca-1484-4bc4-aa15-72178c20e86b",
   "metadata": {},
   "outputs": [
    {
     "name": "stdout",
     "output_type": "stream",
     "text": [
      "01100\n"
     ]
    }
   ],
   "source": [
    "# 符号を反転させたい番号\n",
    "N = 12\n",
    "binN = format(N, '05b') #5桁の2進数にする。\n",
    "print(binN)\n",
    "# ビットが0のやつを、1に反転する。\n",
    "for k in range(n):\n",
    "    if binN[n-1-k] == '0':\n",
    "        qc.x(qr[k])"
   ]
  },
  {
   "cell_type": "code",
   "execution_count": 26,
   "id": "68815df1-2751-4699-ae92-9ee3499bcda2",
   "metadata": {},
   "outputs": [
    {
     "data": {
      "text/plain": [
       "<qiskit.circuit.instructionset.InstructionSet at 0x7fb1dcaf0670>"
      ]
     },
     "execution_count": 26,
     "metadata": {},
     "output_type": "execute_result"
    }
   ],
   "source": [
    "# 多重制御Zゲートを作りたいが、mczはライブラリに無いので、以下のようにして作る。\n",
    "qc.h(qr[n-1])\n",
    "qc.mcx(qr[:n-1] ,qr[n-1]) # 多重制御Xゲート。qr[:n-1]は制御ビット、qr[n-1]は対象ビット\n",
    "qc.h(qr[n-1])"
   ]
  },
  {
   "cell_type": "code",
   "execution_count": 27,
   "id": "43363125-b06f-496e-8cd0-e1cefef76af1",
   "metadata": {},
   "outputs": [
    {
     "data": {
      "image/png": "[encoded data removed]",
      "text/plain": [
       "<Figure size 556.762x451.5 with 1 Axes>"
      ]
     },
     "execution_count": 27,
     "metadata": {},
     "output_type": "execute_result"
    }
   ],
   "source": [
    "qc.draw('mpl')"
   ]
  },
  {
   "cell_type": "code",
   "execution_count": 28,
   "id": "48453197-422c-4ac2-ab11-6a8d9f8c07db",
   "metadata": {},
   "outputs": [
    {
     "data": {
      "text/html": [
       "<pre style=\"word-wrap: normal;white-space: pre;background: #fff0;line-height: 1.1;font-family: &quot;Courier New&quot;,Courier,monospace\">      ┌───┐┌───┐               \n",
       "q5_0: ┤ H ├┤ X ├───────■───────\n",
       "      ├───┤├───┤       │       \n",
       "q5_1: ┤ H ├┤ X ├───────■───────\n",
       "      ├───┤└───┘       │       \n",
       "q5_2: ┤ H ├────────────■───────\n",
       "      ├───┤            │       \n",
       "q5_3: ┤ H ├────────────■───────\n",
       "      ├───┤┌───┐┌───┐┌─┴─┐┌───┐\n",
       "q5_4: ┤ H ├┤ X ├┤ H ├┤ X ├┤ H ├\n",
       "      └───┘└───┘└───┘└───┘└───┘</pre>"
      ],
      "text/plain": [
       "      ┌───┐┌───┐               \n",
       "q5_0: ┤ H ├┤ X ├───────■───────\n",
       "      ├───┤├───┤       │       \n",
       "q5_1: ┤ H ├┤ X ├───────■───────\n",
       "      ├───┤└───┘       │       \n",
       "q5_2: ┤ H ├────────────■───────\n",
       "      ├───┤            │       \n",
       "q5_3: ┤ H ├────────────■───────\n",
       "      ├───┤┌───┐┌───┐┌─┴─┐┌───┐\n",
       "q5_4: ┤ H ├┤ X ├┤ H ├┤ X ├┤ H ├\n",
       "      └───┘└───┘└───┘└───┘└───┘"
      ]
     },
     "execution_count": 28,
     "metadata": {},
     "output_type": "execute_result"
    }
   ],
   "source": [
    "qc.draw()"
   ]
  },
  {
   "cell_type": "code",
   "execution_count": 29,
   "id": "1c9c0c77-d1b0-41f7-8cd8-7a60d9a7c97a",
   "metadata": {},
   "outputs": [],
   "source": [
    "# ビットをもとに戻す。\n",
    "for k in range(n):\n",
    "    if binN[n-1-k] == '0':\n",
    "        qc.x(qr[k])"
   ]
  },
  {
   "cell_type": "code",
   "execution_count": 30,
   "id": "4cbf4eb8-a9c2-46f2-8c85-744f59094511",
   "metadata": {},
   "outputs": [
    {
     "data": {
      "text/latex": [
       "$$\n",
       "state =\n",
       "\\begin{bmatrix}\n",
       "0.1767766953 & 0.1767766953 & 0.1767766953 & 0.1767766953 & \\cdots & 0.1767766953 & 0.1767766953 & 0.1767766953  \\\\\n",
       " \\end{bmatrix}\n",
       "$$"
      ],
      "text/plain": [
       "<IPython.core.display.Latex object>"
      ]
     },
     "execution_count": 30,
     "metadata": {},
     "output_type": "execute_result"
    }
   ],
   "source": [
    "# 量子回路qcをシミュレートする。\n",
    "sim = Aer.get_backend('statevector_simulator')\n",
    "res = sim.run(qc).result()\n",
    "state = res.data()['statevector']\n",
    "array_to_latex(state, prefix='state =')"
   ]
  },
  {
   "cell_type": "markdown",
   "id": "d79d28d0-76fa-421e-8bc8-dbd42c419093",
   "metadata": {},
   "source": [
    "$0.17677...$は$\\frac{1}{\\sqrt{32}}$を意味している。"
   ]
  },
  {
   "cell_type": "code",
   "execution_count": 31,
   "id": "a464fc78-fe85-4ec5-acb6-7a8df64b4f34",
   "metadata": {
    "scrolled": true
   },
   "outputs": [
    {
     "name": "stdout",
     "output_type": "stream",
     "text": [
      "Statevector([ 0.1767767-2.16489014e-17j,  0.1767767-2.16489014e-17j,\n",
      "              0.1767767-2.16489014e-17j,  0.1767767-2.16489014e-17j,\n",
      "              0.1767767-2.16489014e-17j,  0.1767767-2.16489014e-17j,\n",
      "              0.1767767-2.16489014e-17j,  0.1767767-2.16489014e-17j,\n",
      "              0.1767767-2.16489014e-17j,  0.1767767-2.16489014e-17j,\n",
      "              0.1767767-2.16489014e-17j,  0.1767767-2.16489014e-17j,\n",
      "             -0.1767767+4.32978028e-17j,  0.1767767-2.16489014e-17j,\n",
      "              0.1767767-2.16489014e-17j,  0.1767767-2.16489014e-17j,\n",
      "              0.1767767+4.62223187e-33j,  0.1767767+4.62223187e-33j,\n",
      "              0.1767767+4.62223187e-33j,  0.1767767+4.62223187e-33j,\n",
      "              0.1767767+4.62223187e-33j,  0.1767767+4.62223187e-33j,\n",
      "              0.1767767+4.62223187e-33j,  0.1767767+3.08148791e-33j,\n",
      "              0.1767767+4.62223187e-33j,  0.1767767+4.62223187e-33j,\n",
      "              0.1767767+4.62223187e-33j,  0.1767767+3.08148791e-33j,\n",
      "              0.1767767-2.16489014e-17j,  0.1767767+3.08148791e-33j,\n",
      "              0.1767767+3.08148791e-33j,  0.1767767+3.08148791e-33j],\n",
      "            dims=(2, 2, 2, 2, 2))\n"
     ]
    }
   ],
   "source": [
    "state"
   ]
  },
  {
   "cell_type": "code",
   "execution_count": 32,
   "id": "e511185c-6c50-4c29-9136-2f9ba7c4247e",
   "metadata": {},
   "outputs": [
    {
     "data": {
      "text/plain": [
       "(-0.17677669529663692+4.329780281177467e-17j)"
      ]
     },
     "execution_count": 32,
     "metadata": {},
     "output_type": "execute_result"
    }
   ],
   "source": [
    "state[N]"
   ]
  },
  {
   "cell_type": "code",
   "execution_count": 33,
   "id": "120556b5-a871-4b95-9251-ef24d0cdbf2f",
   "metadata": {},
   "outputs": [],
   "source": [
    "def oracle(N, n):\n",
    "    '''\n",
    "    '''\n",
    "    if N > 2**n -1:\n",
    "        n = 2**n -1\n",
    "    qc = QuantumCircuit()\n",
    "    qr = QuantumRegister(n)\n",
    "    qc.add_register(qr)\n",
    "    binN = format(N, f'0{n}b')\n",
    "    print('binN =', binN)\n",
    "    # 所望の状態を|11111>にする。\n",
    "    for k in range(n):\n",
    "        if binN[n-1-k] == '0':\n",
    "            print(f\"k = {k}, n-1-k = {n-1-k}: ****************\")\n",
    "            qc.x(qr[k])\n",
    "    # 多重制御Zゲート\n",
    "    qc.h(qr[n-1])\n",
    "    qc.mcx(qr[:n-1] ,qr[n-1])\n",
    "    qc.h(qr[n-1])\n",
    "    # |11111>を所望の状態に戻す。\n",
    "    for k in range(n):\n",
    "        if binN[n-1-k] == '0':\n",
    "            qc.x(qr[k])\n",
    "    # これまで作ってきた量子回路を、一つの量子ゲートにまとめる。\n",
    "    Uoracle = qc.to_gate()\n",
    "    Uoracle.name = 'Uoracle'\n",
    "    return Uoracle"
   ]
  },
  {
   "cell_type": "code",
   "execution_count": 34,
   "id": "5662ccdd-9afc-4d24-b8dd-f2ad2faaafc0",
   "metadata": {},
   "outputs": [
    {
     "name": "stdout",
     "output_type": "stream",
     "text": [
      "binN = 10110\n",
      "k = 0, n-1-k = 4: ****************\n",
      "k = 3, n-1-k = 1: ****************\n"
     ]
    },
    {
     "data": {
      "text/plain": [
       "<qiskit.circuit.instructionset.InstructionSet at 0x7fb1dc9ccee0>"
      ]
     },
     "execution_count": 34,
     "metadata": {},
     "output_type": "execute_result"
    }
   ],
   "source": [
    "n = 5\n",
    "N = 22\n",
    "\n",
    "# 初期化\n",
    "qc = QuantumCircuit()\n",
    "qr = QuantumRegister(n)\n",
    "qc.add_register(qr)\n",
    "\n",
    "# 重ね合わせの状態を作る\n",
    "qc.h(qr)\n",
    "\n",
    "# 自作回路を呼び出す。\n",
    "Uoracle = oracle(N, n)\n",
    "qc.append(Uoracle, qr)"
   ]
  },
  {
   "cell_type": "code",
   "execution_count": 35,
   "id": "40e66d0c-528a-458a-a2b6-89c6a9a6f852",
   "metadata": {},
   "outputs": [
    {
     "data": {
      "image/png": "[encoded data removed]",
      "text/plain": [
       "<Figure size 389.338x451.5 with 1 Axes>"
      ]
     },
     "execution_count": 35,
     "metadata": {},
     "output_type": "execute_result"
    }
   ],
   "source": [
    "qc.draw('mpl')"
   ]
  },
  {
   "cell_type": "code",
   "execution_count": 36,
   "id": "17512edc-82b5-401a-8a07-2c24605e5d95",
   "metadata": {},
   "outputs": [
    {
     "data": {
      "text/html": [
       "<pre style=\"word-wrap: normal;white-space: pre;background: #fff0;line-height: 1.1;font-family: &quot;Courier New&quot;,Courier,monospace\">      ┌───┐┌──────────┐\n",
       "q6_0: ┤ H ├┤0         ├\n",
       "      ├───┤│          │\n",
       "q6_1: ┤ H ├┤1         ├\n",
       "      ├───┤│          │\n",
       "q6_2: ┤ H ├┤2 Uoracle ├\n",
       "      ├───┤│          │\n",
       "q6_3: ┤ H ├┤3         ├\n",
       "      ├───┤│          │\n",
       "q6_4: ┤ H ├┤4         ├\n",
       "      └───┘└──────────┘</pre>"
      ],
      "text/plain": [
       "      ┌───┐┌──────────┐\n",
       "q6_0: ┤ H ├┤0         ├\n",
       "      ├───┤│          │\n",
       "q6_1: ┤ H ├┤1         ├\n",
       "      ├───┤│          │\n",
       "q6_2: ┤ H ├┤2 Uoracle ├\n",
       "      ├───┤│          │\n",
       "q6_3: ┤ H ├┤3         ├\n",
       "      ├───┤│          │\n",
       "q6_4: ┤ H ├┤4         ├\n",
       "      └───┘└──────────┘"
      ]
     },
     "execution_count": 36,
     "metadata": {},
     "output_type": "execute_result"
    }
   ],
   "source": [
    "qc.draw()"
   ]
  },
  {
   "cell_type": "code",
   "execution_count": 37,
   "id": "778bb8ab-d610-4f5c-a5ac-cb428429f418",
   "metadata": {},
   "outputs": [
    {
     "data": {
      "text/latex": [
       "$$\n",
       "state = \n",
       "\\begin{bmatrix}\n",
       "0.1767766953 & 0.1767766953 & 0.1767766953 & 0.1767766953 & \\cdots & 0.1767766953 & 0.1767766953 & 0.1767766953  \\\\\n",
       " \\end{bmatrix}\n",
       "$$"
      ],
      "text/plain": [
       "<IPython.core.display.Latex object>"
      ]
     },
     "execution_count": 37,
     "metadata": {},
     "output_type": "execute_result"
    }
   ],
   "source": [
    "# このままシミュレートすると怒られる。qiskit.transpileを使って、シミュレータに分かるように焼き直す手続きが必要。\n",
    "from qiskit import transpile\n",
    "sim = Aer.get_backend('statevector_simulator')\n",
    "qc = transpile(qc, backend=sim)\n",
    "res = sim.run(qc).result()\n",
    "state = res.data()[\"statevector\"]\n",
    "array_to_latex(state,prefix=\"state = \")"
   ]
  },
  {
   "cell_type": "code",
   "execution_count": 38,
   "id": "0ce1a173-fde9-4712-ab61-db049faea99b",
   "metadata": {},
   "outputs": [
    {
     "name": "stdout",
     "output_type": "stream",
     "text": [
      "Statevector([ 0.1767767+0.00000000e+00j,  0.1767767+0.00000000e+00j,\n",
      "              0.1767767+0.00000000e+00j,  0.1767767+0.00000000e+00j,\n",
      "              0.1767767+0.00000000e+00j,  0.1767767+0.00000000e+00j,\n",
      "              0.1767767-2.16489014e-17j,  0.1767767+0.00000000e+00j,\n",
      "              0.1767767+0.00000000e+00j,  0.1767767+0.00000000e+00j,\n",
      "              0.1767767+0.00000000e+00j,  0.1767767+0.00000000e+00j,\n",
      "              0.1767767+0.00000000e+00j,  0.1767767+0.00000000e+00j,\n",
      "              0.1767767+0.00000000e+00j,  0.1767767+0.00000000e+00j,\n",
      "              0.1767767+0.00000000e+00j,  0.1767767+0.00000000e+00j,\n",
      "              0.1767767+0.00000000e+00j,  0.1767767+0.00000000e+00j,\n",
      "              0.1767767+0.00000000e+00j,  0.1767767+0.00000000e+00j,\n",
      "             -0.1767767+2.16489014e-17j,  0.1767767+0.00000000e+00j,\n",
      "              0.1767767+0.00000000e+00j,  0.1767767+0.00000000e+00j,\n",
      "              0.1767767+0.00000000e+00j,  0.1767767+0.00000000e+00j,\n",
      "              0.1767767+0.00000000e+00j,  0.1767767+0.00000000e+00j,\n",
      "              0.1767767+0.00000000e+00j,  0.1767767+0.00000000e+00j],\n",
      "            dims=(2, 2, 2, 2, 2))\n"
     ]
    }
   ],
   "source": [
    "state"
   ]
  },
  {
   "cell_type": "markdown",
   "id": "377fc305-cf4a-46e7-94d4-69187319769a",
   "metadata": {},
   "source": [
    "---"
   ]
  },
  {
   "cell_type": "code",
   "execution_count": 39,
   "id": "54456812-60ad-4b3c-88b9-a805b8826d6a",
   "metadata": {},
   "outputs": [],
   "source": [
    "n = 2\n",
    "qc = QuantumCircuit()\n",
    "qr = QuantumRegister(n)\n",
    "qc.add_register(qr)"
   ]
  },
  {
   "cell_type": "code",
   "execution_count": 40,
   "id": "4f992e3d-e7ee-4272-b807-aa584d8bc2f4",
   "metadata": {},
   "outputs": [
    {
     "data": {
      "text/latex": [
       "$$\n",
       "state =\n",
       "\\begin{bmatrix}\n",
       "1 & 0 & 0 & 0  \\\\\n",
       " \\end{bmatrix}\n",
       "$$"
      ],
      "text/plain": [
       "<IPython.core.display.Latex object>"
      ]
     },
     "execution_count": 40,
     "metadata": {},
     "output_type": "execute_result"
    }
   ],
   "source": [
    "# 量子回路qcをシミュレートする。\n",
    "sim = Aer.get_backend('statevector_simulator')\n",
    "res = sim.run(qc).result()\n",
    "state = res.data()['statevector']\n",
    "array_to_latex(state, prefix='state =')"
   ]
  },
  {
   "cell_type": "code",
   "execution_count": 41,
   "id": "7695a857-49c2-4350-b784-e51400180777",
   "metadata": {},
   "outputs": [
    {
     "data": {
      "text/plain": [
       "<qiskit.circuit.instructionset.InstructionSet at 0x7fb1dc9c4a30>"
      ]
     },
     "execution_count": 41,
     "metadata": {},
     "output_type": "execute_result"
    }
   ],
   "source": [
    "qc.h(qr)"
   ]
  },
  {
   "cell_type": "code",
   "execution_count": 42,
   "id": "5e867f61-e3d1-4cf9-9d7d-7967e886beed",
   "metadata": {},
   "outputs": [
    {
     "data": {
      "text/latex": [
       "$$\n",
       "state =\n",
       "\\begin{bmatrix}\n",
       "\\frac{1}{2} & \\frac{1}{2} & \\frac{1}{2} & \\frac{1}{2}  \\\\\n",
       " \\end{bmatrix}\n",
       "$$"
      ],
      "text/plain": [
       "<IPython.core.display.Latex object>"
      ]
     },
     "execution_count": 42,
     "metadata": {},
     "output_type": "execute_result"
    }
   ],
   "source": [
    "# 量子回路qcをシミュレートする。\n",
    "sim = Aer.get_backend('statevector_simulator')\n",
    "res = sim.run(qc).result()\n",
    "state = res.data()['statevector']\n",
    "array_to_latex(state, prefix='state =')"
   ]
  },
  {
   "cell_type": "code",
   "execution_count": 43,
   "id": "621a3300-9b79-4c15-ba00-1a53756ecd3b",
   "metadata": {},
   "outputs": [
    {
     "data": {
      "text/plain": [
       "<qiskit.circuit.instructionset.InstructionSet at 0x7fb1d792f7f0>"
      ]
     },
     "execution_count": 43,
     "metadata": {},
     "output_type": "execute_result"
    }
   ],
   "source": [
    "qc.cz(qr[0], qr[1])"
   ]
  },
  {
   "cell_type": "code",
   "execution_count": 44,
   "id": "3a577e85-5aa7-4a0c-854c-d1f9fdd353bb",
   "metadata": {},
   "outputs": [
    {
     "data": {
      "text/latex": [
       "$$\n",
       "state =\n",
       "\\begin{bmatrix}\n",
       "\\frac{1}{2} & \\frac{1}{2} & \\frac{1}{2} & - \\frac{1}{2}  \\\\\n",
       " \\end{bmatrix}\n",
       "$$"
      ],
      "text/plain": [
       "<IPython.core.display.Latex object>"
      ]
     },
     "execution_count": 44,
     "metadata": {},
     "output_type": "execute_result"
    }
   ],
   "source": [
    "# 量子回路qcをシミュレートする。\n",
    "sim = Aer.get_backend('statevector_simulator')\n",
    "res = sim.run(qc).result()\n",
    "state = res.data()['statevector']\n",
    "array_to_latex(state, prefix='state =')"
   ]
  },
  {
   "cell_type": "code",
   "execution_count": 45,
   "id": "338c6c00-808a-46ad-9954-4b6d3f25cbda",
   "metadata": {},
   "outputs": [
    {
     "data": {
      "text/plain": [
       "<qiskit.circuit.instructionset.InstructionSet at 0x7fb1d7937490>"
      ]
     },
     "execution_count": 45,
     "metadata": {},
     "output_type": "execute_result"
    }
   ],
   "source": [
    "qc.h(qr)"
   ]
  },
  {
   "cell_type": "code",
   "execution_count": 46,
   "id": "833af0e8-f137-4ada-bbec-fdb5c1212209",
   "metadata": {},
   "outputs": [
    {
     "data": {
      "text/html": [
       "<pre style=\"word-wrap: normal;white-space: pre;background: #fff0;line-height: 1.1;font-family: &quot;Courier New&quot;,Courier,monospace\">       ┌───┐   ┌───┐\n",
       "q11_0: ┤ H ├─■─┤ H ├\n",
       "       ├───┤ │ ├───┤\n",
       "q11_1: ┤ H ├─■─┤ H ├\n",
       "       └───┘   └───┘</pre>"
      ],
      "text/plain": [
       "       ┌───┐   ┌───┐\n",
       "q11_0: ┤ H ├─■─┤ H ├\n",
       "       ├───┤ │ ├───┤\n",
       "q11_1: ┤ H ├─■─┤ H ├\n",
       "       └───┘   └───┘"
      ]
     },
     "execution_count": 46,
     "metadata": {},
     "output_type": "execute_result"
    }
   ],
   "source": [
    "qc.draw()"
   ]
  },
  {
   "cell_type": "code",
   "execution_count": 47,
   "id": "fdf4710d-0526-41b7-a537-890b4f730f81",
   "metadata": {},
   "outputs": [
    {
     "data": {
      "text/latex": [
       "$$\n",
       "state =\n",
       "\\begin{bmatrix}\n",
       "\\frac{1}{2} & \\frac{1}{2} & \\frac{1}{2} & - \\frac{1}{2}  \\\\\n",
       " \\end{bmatrix}\n",
       "$$"
      ],
      "text/plain": [
       "<IPython.core.display.Latex object>"
      ]
     },
     "execution_count": 47,
     "metadata": {},
     "output_type": "execute_result"
    }
   ],
   "source": [
    "# 量子回路qcをシミュレートする。\n",
    "sim = Aer.get_backend('statevector_simulator')\n",
    "res = sim.run(qc).result()\n",
    "state = res.data()['statevector']\n",
    "array_to_latex(state, prefix='state =')"
   ]
  },
  {
   "cell_type": "code",
   "execution_count": 48,
   "id": "ec4f90e1-c1d7-4afc-959f-b7f734385bfa",
   "metadata": {},
   "outputs": [
    {
     "data": {
      "text/plain": [
       "<qiskit.circuit.instructionset.InstructionSet at 0x7fb1d792f610>"
      ]
     },
     "execution_count": 48,
     "metadata": {},
     "output_type": "execute_result"
    }
   ],
   "source": [
    "# |00>の符号を反転させたい。\n",
    "# |00>を|11>にする。\n",
    "qc.x(qr)\n",
    "qc.cz(qr[0], qr[1])\n",
    "# |11>を|00>に戻す。\n",
    "qc.x(qr)"
   ]
  },
  {
   "cell_type": "code",
   "execution_count": 49,
   "id": "85ab5dbd-134b-461d-8450-91f8a5d6654b",
   "metadata": {},
   "outputs": [
    {
     "data": {
      "text/latex": [
       "$$\n",
       "state =\n",
       "\\begin{bmatrix}\n",
       "- \\frac{1}{2} & \\frac{1}{2} & \\frac{1}{2} & - \\frac{1}{2}  \\\\\n",
       " \\end{bmatrix}\n",
       "$$"
      ],
      "text/plain": [
       "<IPython.core.display.Latex object>"
      ]
     },
     "execution_count": 49,
     "metadata": {},
     "output_type": "execute_result"
    }
   ],
   "source": [
    "# 量子回路qcをシミュレートする。\n",
    "sim = Aer.get_backend('statevector_simulator')\n",
    "res = sim.run(qc).result()\n",
    "state = res.data()['statevector']\n",
    "array_to_latex(state, prefix='state =')"
   ]
  },
  {
   "cell_type": "code",
   "execution_count": 50,
   "id": "5a0ddff7-32f1-4c7b-8941-5e4c7fc8753b",
   "metadata": {},
   "outputs": [
    {
     "data": {
      "text/plain": [
       "<qiskit.circuit.instructionset.InstructionSet at 0x7fb1d7955700>"
      ]
     },
     "execution_count": 50,
     "metadata": {},
     "output_type": "execute_result"
    }
   ],
   "source": [
    "qc.h(qr)"
   ]
  },
  {
   "cell_type": "code",
   "execution_count": 51,
   "id": "bb023d14-dfe3-46bd-82c7-660f567aa9f8",
   "metadata": {},
   "outputs": [
    {
     "data": {
      "text/latex": [
       "$$\n",
       "state =\n",
       "\\begin{bmatrix}\n",
       "0 & 0 & 0 & -1  \\\\\n",
       " \\end{bmatrix}\n",
       "$$"
      ],
      "text/plain": [
       "<IPython.core.display.Latex object>"
      ]
     },
     "execution_count": 51,
     "metadata": {},
     "output_type": "execute_result"
    }
   ],
   "source": [
    "# 量子回路qcをシミュレートする。\n",
    "sim = Aer.get_backend('statevector_simulator')\n",
    "res = sim.run(qc).result()\n",
    "state = res.data()['statevector']\n",
    "array_to_latex(state, prefix='state =')"
   ]
  },
  {
   "cell_type": "code",
   "execution_count": 52,
   "id": "53b2e7ac-52bf-4159-b291-f91d2a10b9d5",
   "metadata": {},
   "outputs": [
    {
     "data": {
      "text/html": [
       "<pre style=\"word-wrap: normal;white-space: pre;background: #fff0;line-height: 1.1;font-family: &quot;Courier New&quot;,Courier,monospace\">       ┌───┐   ┌───┐┌───┐   ┌───┐┌───┐\n",
       "q11_0: ┤ H ├─■─┤ H ├┤ X ├─■─┤ X ├┤ H ├\n",
       "       ├───┤ │ ├───┤├───┤ │ ├───┤├───┤\n",
       "q11_1: ┤ H ├─■─┤ H ├┤ X ├─■─┤ X ├┤ H ├\n",
       "       └───┘   └───┘└───┘   └───┘└───┘</pre>"
      ],
      "text/plain": [
       "       ┌───┐   ┌───┐┌───┐   ┌───┐┌───┐\n",
       "q11_0: ┤ H ├─■─┤ H ├┤ X ├─■─┤ X ├┤ H ├\n",
       "       ├───┤ │ ├───┤├───┤ │ ├───┤├───┤\n",
       "q11_1: ┤ H ├─■─┤ H ├┤ X ├─■─┤ X ├┤ H ├\n",
       "       └───┘   └───┘└───┘   └───┘└───┘"
      ]
     },
     "execution_count": 52,
     "metadata": {},
     "output_type": "execute_result"
    }
   ],
   "source": [
    "qc.draw()"
   ]
  },
  {
   "cell_type": "code",
   "execution_count": 53,
   "id": "9021e0e6-ba9f-4a62-896e-cd360a31015b",
   "metadata": {},
   "outputs": [],
   "source": [
    "def diffusion(n):\n",
    "    qc = QuantumCircuit()\n",
    "    qr = QuantumRegister(n)\n",
    "    qc.add_register(qr)\n",
    "    # 重ね合わせ状態の崩れ具合を調べる。\n",
    "    qc.h(qr)\n",
    "    # |00...0>を|11...1>に変換する。\n",
    "    qc.x(qr)\n",
    "    # 多重制御Zゲート mcz = H mcx H |11...1>の係数を反転させる。\n",
    "    qc.h(qr[n-1])\n",
    "    qc.mcx(qr[:n-1], qr[n-1])\n",
    "    qc.h(qr[n-1])\n",
    "    # |11...1>を|00...0>に戻す。\n",
    "    qc.x(qr)\n",
    "    # 重ね合わせの状態を解く\n",
    "    qc.h(qr)\n",
    "\n",
    "    Udiff = qc.to_gate()\n",
    "    Udiff.name = 'Udiff'\n",
    "    return Udiff"
   ]
  },
  {
   "cell_type": "code",
   "execution_count": 54,
   "id": "8f6b6c23-38dd-43db-9f4f-2536d964626a",
   "metadata": {},
   "outputs": [
    {
     "name": "stdout",
     "output_type": "stream",
     "text": [
      "binN = 10110\n",
      "k = 0, n-1-k = 4: ****************\n",
      "k = 3, n-1-k = 1: ****************\n"
     ]
    }
   ],
   "source": [
    "n = 5\n",
    "N = 22\n",
    "\n",
    "Tall = 5\n",
    "\n",
    "qc = QuantumCircuit()\n",
    "qr = QuantumRegister(n)\n",
    "qc.add_register(qr)\n",
    "\n",
    "# 重ね合わせ状の態でスタートする。\n",
    "qc.h(qr)\n",
    "Uoracle = oracle(N, n)\n",
    "Udiff = diffusion(n)\n",
    "\n",
    "for k in range(Tall):\n",
    "    qc.append(Uoracle, qr)\n",
    "    qc.append(Udiff, qr)\n"
   ]
  },
  {
   "cell_type": "code",
   "execution_count": 55,
   "id": "5c38646c-4c01-43b1-b6a7-12d0dce99fb2",
   "metadata": {},
   "outputs": [
    {
     "data": {
      "image/png": "[encoded data removed]",
      "text/plain": [
       "<Figure size 1912.77x451.5 with 1 Axes>"
      ]
     },
     "execution_count": 55,
     "metadata": {},
     "output_type": "execute_result"
    }
   ],
   "source": [
    "qc.draw('mpl')"
   ]
  },
  {
   "cell_type": "code",
   "execution_count": 56,
   "id": "e6f3b09a-e671-4c1b-a703-e6eab03a2624",
   "metadata": {},
   "outputs": [
    {
     "data": {
      "text/html": [
       "<pre style=\"word-wrap: normal;white-space: pre;background: #fff0;line-height: 1.1;font-family: &quot;Courier New&quot;,Courier,monospace\">       ┌───┐┌──────────┐┌────────┐┌──────────┐┌────────┐┌──────────┐┌────────┐»\n",
       "q12_0: ┤ H ├┤0         ├┤0       ├┤0         ├┤0       ├┤0         ├┤0       ├»\n",
       "       ├───┤│          ││        ││          ││        ││          ││        │»\n",
       "q12_1: ┤ H ├┤1         ├┤1       ├┤1         ├┤1       ├┤1         ├┤1       ├»\n",
       "       ├───┤│          ││        ││          ││        ││          ││        │»\n",
       "q12_2: ┤ H ├┤2 Uoracle ├┤2 Udiff ├┤2 Uoracle ├┤2 Udiff ├┤2 Uoracle ├┤2 Udiff ├»\n",
       "       ├───┤│          ││        ││          ││        ││          ││        │»\n",
       "q12_3: ┤ H ├┤3         ├┤3       ├┤3         ├┤3       ├┤3         ├┤3       ├»\n",
       "       ├───┤│          ││        ││          ││        ││          ││        │»\n",
       "q12_4: ┤ H ├┤4         ├┤4       ├┤4         ├┤4       ├┤4         ├┤4       ├»\n",
       "       └───┘└──────────┘└────────┘└──────────┘└────────┘└──────────┘└────────┘»\n",
       "«       ┌──────────┐┌────────┐┌──────────┐┌────────┐\n",
       "«q12_0: ┤0         ├┤0       ├┤0         ├┤0       ├\n",
       "«       │          ││        ││          ││        │\n",
       "«q12_1: ┤1         ├┤1       ├┤1         ├┤1       ├\n",
       "«       │          ││        ││          ││        │\n",
       "«q12_2: ┤2 Uoracle ├┤2 Udiff ├┤2 Uoracle ├┤2 Udiff ├\n",
       "«       │          ││        ││          ││        │\n",
       "«q12_3: ┤3         ├┤3       ├┤3         ├┤3       ├\n",
       "«       │          ││        ││          ││        │\n",
       "«q12_4: ┤4         ├┤4       ├┤4         ├┤4       ├\n",
       "«       └──────────┘└────────┘└──────────┘└────────┘</pre>"
      ],
      "text/plain": [
       "       ┌───┐┌──────────┐┌────────┐┌──────────┐┌────────┐┌──────────┐┌────────┐»\n",
       "q12_0: ┤ H ├┤0         ├┤0       ├┤0         ├┤0       ├┤0         ├┤0       ├»\n",
       "       ├───┤│          ││        ││          ││        ││          ││        │»\n",
       "q12_1: ┤ H ├┤1         ├┤1       ├┤1         ├┤1       ├┤1         ├┤1       ├»\n",
       "       ├───┤│          ││        ││          ││        ││          ││        │»\n",
       "q12_2: ┤ H ├┤2 Uoracle ├┤2 Udiff ├┤2 Uoracle ├┤2 Udiff ├┤2 Uoracle ├┤2 Udiff ├»\n",
       "       ├───┤│          ││        ││          ││        ││          ││        │»\n",
       "q12_3: ┤ H ├┤3         ├┤3       ├┤3         ├┤3       ├┤3         ├┤3       ├»\n",
       "       ├───┤│          ││        ││          ││        ││          ││        │»\n",
       "q12_4: ┤ H ├┤4         ├┤4       ├┤4         ├┤4       ├┤4         ├┤4       ├»\n",
       "       └───┘└──────────┘└────────┘└──────────┘└────────┘└──────────┘└────────┘»\n",
       "«       ┌──────────┐┌────────┐┌──────────┐┌────────┐\n",
       "«q12_0: ┤0         ├┤0       ├┤0         ├┤0       ├\n",
       "«       │          ││        ││          ││        │\n",
       "«q12_1: ┤1         ├┤1       ├┤1         ├┤1       ├\n",
       "«       │          ││        ││          ││        │\n",
       "«q12_2: ┤2 Uoracle ├┤2 Udiff ├┤2 Uoracle ├┤2 Udiff ├\n",
       "«       │          ││        ││          ││        │\n",
       "«q12_3: ┤3         ├┤3       ├┤3         ├┤3       ├\n",
       "«       │          ││        ││          ││        │\n",
       "«q12_4: ┤4         ├┤4       ├┤4         ├┤4       ├\n",
       "«       └──────────┘└────────┘└──────────┘└────────┘"
      ]
     },
     "execution_count": 56,
     "metadata": {},
     "output_type": "execute_result"
    }
   ],
   "source": [
    "qc.draw()"
   ]
  },
  {
   "cell_type": "code",
   "execution_count": 57,
   "id": "b23c37f7-9790-4ed8-acf5-8bdb15dc85c3",
   "metadata": {},
   "outputs": [
    {
     "data": {
      "text/latex": [
       "$$\n",
       "state =\n",
       "\\begin{bmatrix}\n",
       "0.0672892981 & 0.0672892981 & 0.0672892981 & 0.0672892981 & \\cdots & 0.0672892981 & 0.0672892981 & 0.0672892981  \\\\\n",
       " \\end{bmatrix}\n",
       "$$"
      ],
      "text/plain": [
       "<IPython.core.display.Latex object>"
      ]
     },
     "execution_count": 57,
     "metadata": {},
     "output_type": "execute_result"
    }
   ],
   "source": [
    "# 量子回路qcをシミュレートする。\n",
    "sim = Aer.get_backend('statevector_simulator')\n",
    "qc = transpile(qc, backend=sim)\n",
    "res = sim.run(qc).result()\n",
    "state = res.data()['statevector']\n",
    "array_to_latex(state, prefix='state =')"
   ]
  },
  {
   "cell_type": "code",
   "execution_count": 58,
   "id": "6677ce54-16d7-41fa-b599-aeaa26ba0ee8",
   "metadata": {},
   "outputs": [
    {
     "data": {
      "image/png": "[encoded data removed]",
      "text/plain": [
       "<Figure size 2247.21x953.167 with 1 Axes>"
      ]
     },
     "execution_count": 58,
     "metadata": {},
     "output_type": "execute_result"
    }
   ],
   "source": [
    "qc.draw('mpl')"
   ]
  },
  {
   "cell_type": "code",
   "execution_count": 59,
   "id": "e5656360-dd53-4393-8a39-021191f01ec6",
   "metadata": {},
   "outputs": [
    {
     "data": {
      "text/html": [
       "<pre style=\"word-wrap: normal;white-space: pre;background: #fff0;line-height: 1.1;font-family: &quot;Courier New&quot;,Courier,monospace\">       ┌───┐┌───┐     ┌───┐┌───┐┌───┐     ┌───┐┌───┐┌───┐     ┌───┐┌───┐┌───┐»\n",
       "q12_0: ┤ H ├┤ X ├──■──┤ X ├┤ H ├┤ X ├──■──┤ X ├┤ H ├┤ X ├──■──┤ X ├┤ H ├┤ X ├»\n",
       "       ├───┤└───┘  │  ├───┤├───┤└───┘  │  ├───┤├───┤└───┘  │  ├───┤├───┤└───┘»\n",
       "q12_1: ┤ H ├───────■──┤ H ├┤ X ├───────■──┤ X ├┤ H ├───────■──┤ H ├┤ X ├─────»\n",
       "       ├───┤       │  ├───┤├───┤       │  ├───┤├───┤       │  ├───┤├───┤     »\n",
       "q12_2: ┤ H ├───────■──┤ H ├┤ X ├───────■──┤ X ├┤ H ├───────■──┤ H ├┤ X ├─────»\n",
       "       ├───┤┌───┐  │  ├───┤├───┤┌───┐  │  ├───┤├───┤┌───┐  │  ├───┤├───┤┌───┐»\n",
       "q12_3: ┤ H ├┤ X ├──■──┤ X ├┤ H ├┤ X ├──■──┤ X ├┤ H ├┤ X ├──■──┤ X ├┤ H ├┤ X ├»\n",
       "       └───┘└───┘┌─┴─┐├───┤├───┤└───┘┌─┴─┐├───┤├───┤└───┘┌─┴─┐├───┤├───┤└───┘»\n",
       "q12_4: ──────────┤ X ├┤ X ├┤ H ├─────┤ X ├┤ H ├┤ X ├─────┤ X ├┤ X ├┤ H ├─────»\n",
       "                 └───┘└───┘└───┘     └───┘└───┘└───┘     └───┘└───┘└───┘     »\n",
       "«            ┌───┐┌───┐┌───┐     ┌───┐┌───┐┌───┐     ┌───┐┌───┐┌───┐     ┌───┐»\n",
       "«q12_0: ──■──┤ X ├┤ H ├┤ X ├──■──┤ X ├┤ H ├┤ X ├──■──┤ X ├┤ H ├┤ X ├──■──┤ X ├»\n",
       "«         │  ├───┤├───┤└───┘  │  ├───┤├───┤└───┘  │  ├───┤├───┤└───┘  │  ├───┤»\n",
       "«q12_1: ──■──┤ X ├┤ H ├───────■──┤ H ├┤ X ├───────■──┤ X ├┤ H ├───────■──┤ H ├»\n",
       "«         │  ├───┤├───┤       │  ├───┤├───┤       │  ├───┤├───┤       │  ├───┤»\n",
       "«q12_2: ──■──┤ X ├┤ H ├───────■──┤ H ├┤ X ├───────■──┤ X ├┤ H ├───────■──┤ H ├»\n",
       "«         │  ├───┤├───┤┌───┐  │  ├───┤├───┤┌───┐  │  ├───┤├───┤┌───┐  │  ├───┤»\n",
       "«q12_3: ──■──┤ X ├┤ H ├┤ X ├──■──┤ X ├┤ H ├┤ X ├──■──┤ X ├┤ H ├┤ X ├──■──┤ X ├»\n",
       "«       ┌─┴─┐├───┤├───┤└───┘┌─┴─┐├───┤├───┤└───┘┌─┴─┐├───┤├───┤└───┘┌─┴─┐├───┤»\n",
       "«q12_4: ┤ X ├┤ H ├┤ X ├─────┤ X ├┤ X ├┤ H ├─────┤ X ├┤ H ├┤ X ├─────┤ X ├┤ X ├»\n",
       "«       └───┘└───┘└───┘     └───┘└───┘└───┘     └───┘└───┘└───┘     └───┘└───┘»\n",
       "«       ┌───┐┌───┐     ┌───┐┌───┐┌───┐     ┌───┐┌───┐┌───┐     ┌───┐┌───┐     \n",
       "«q12_0: ┤ H ├┤ X ├──■──┤ X ├┤ H ├┤ X ├──■──┤ X ├┤ H ├┤ X ├──■──┤ X ├┤ H ├─────\n",
       "«       ├───┤└───┘  │  ├───┤├───┤└───┘  │  ├───┤├───┤└───┘  │  ├───┤├───┤     \n",
       "«q12_1: ┤ X ├───────■──┤ X ├┤ H ├───────■──┤ H ├┤ X ├───────■──┤ X ├┤ H ├─────\n",
       "«       ├───┤       │  ├───┤├───┤       │  ├───┤├───┤       │  ├───┤├───┤     \n",
       "«q12_2: ┤ X ├───────■──┤ X ├┤ H ├───────■──┤ H ├┤ X ├───────■──┤ X ├┤ H ├─────\n",
       "«       ├───┤┌───┐  │  ├───┤├───┤┌───┐  │  ├───┤├───┤┌───┐  │  ├───┤├───┤     \n",
       "«q12_3: ┤ H ├┤ X ├──■──┤ X ├┤ H ├┤ X ├──■──┤ X ├┤ H ├┤ X ├──■──┤ X ├┤ H ├─────\n",
       "«       ├───┤└───┘┌─┴─┐├───┤├───┤└───┘┌─┴─┐├───┤├───┤└───┘┌─┴─┐├───┤├───┤┌───┐\n",
       "«q12_4: ┤ H ├─────┤ X ├┤ H ├┤ X ├─────┤ X ├┤ X ├┤ H ├─────┤ X ├┤ H ├┤ X ├┤ H ├\n",
       "«       └───┘     └───┘└───┘└───┘     └───┘└───┘└───┘     └───┘└───┘└───┘└───┘</pre>"
      ],
      "text/plain": [
       "       ┌───┐┌───┐     ┌───┐┌───┐┌───┐     ┌───┐┌───┐┌───┐     ┌───┐┌───┐┌───┐»\n",
       "q12_0: ┤ H ├┤ X ├──■──┤ X ├┤ H ├┤ X ├──■──┤ X ├┤ H ├┤ X ├──■──┤ X ├┤ H ├┤ X ├»\n",
       "       ├───┤└───┘  │  ├───┤├───┤└───┘  │  ├───┤├───┤└───┘  │  ├───┤├───┤└───┘»\n",
       "q12_1: ┤ H ├───────■──┤ H ├┤ X ├───────■──┤ X ├┤ H ├───────■──┤ H ├┤ X ├─────»\n",
       "       ├───┤       │  ├───┤├───┤       │  ├───┤├───┤       │  ├───┤├───┤     »\n",
       "q12_2: ┤ H ├───────■──┤ H ├┤ X ├───────■──┤ X ├┤ H ├───────■──┤ H ├┤ X ├─────»\n",
       "       ├───┤┌───┐  │  ├───┤├───┤┌───┐  │  ├───┤├───┤┌───┐  │  ├───┤├───┤┌───┐»\n",
       "q12_3: ┤ H ├┤ X ├──■──┤ X ├┤ H ├┤ X ├──■──┤ X ├┤ H ├┤ X ├──■──┤ X ├┤ H ├┤ X ├»\n",
       "       └───┘└───┘┌─┴─┐├───┤├───┤└───┘┌─┴─┐├───┤├───┤└───┘┌─┴─┐├───┤├───┤└───┘»\n",
       "q12_4: ──────────┤ X ├┤ X ├┤ H ├─────┤ X ├┤ H ├┤ X ├─────┤ X ├┤ X ├┤ H ├─────»\n",
       "                 └───┘└───┘└───┘     └───┘└───┘└───┘     └───┘└───┘└───┘     »\n",
       "«            ┌───┐┌───┐┌───┐     ┌───┐┌───┐┌───┐     ┌───┐┌───┐┌───┐     ┌───┐»\n",
       "«q12_0: ──■──┤ X ├┤ H ├┤ X ├──■──┤ X ├┤ H ├┤ X ├──■──┤ X ├┤ H ├┤ X ├──■──┤ X ├»\n",
       "«         │  ├───┤├───┤└───┘  │  ├───┤├───┤└───┘  │  ├───┤├───┤└───┘  │  ├───┤»\n",
       "«q12_1: ──■──┤ X ├┤ H ├───────■──┤ H ├┤ X ├───────■──┤ X ├┤ H ├───────■──┤ H ├»\n",
       "«         │  ├───┤├───┤       │  ├───┤├───┤       │  ├───┤├───┤       │  ├───┤»\n",
       "«q12_2: ──■──┤ X ├┤ H ├───────■──┤ H ├┤ X ├───────■──┤ X ├┤ H ├───────■──┤ H ├»\n",
       "«         │  ├───┤├───┤┌───┐  │  ├───┤├───┤┌───┐  │  ├───┤├───┤┌───┐  │  ├───┤»\n",
       "«q12_3: ──■──┤ X ├┤ H ├┤ X ├──■──┤ X ├┤ H ├┤ X ├──■──┤ X ├┤ H ├┤ X ├──■──┤ X ├»\n",
       "«       ┌─┴─┐├───┤├───┤└───┘┌─┴─┐├───┤├───┤└───┘┌─┴─┐├───┤├───┤└───┘┌─┴─┐├───┤»\n",
       "«q12_4: ┤ X ├┤ H ├┤ X ├─────┤ X ├┤ X ├┤ H ├─────┤ X ├┤ H ├┤ X ├─────┤ X ├┤ X ├»\n",
       "«       └───┘└───┘└───┘     └───┘└───┘└───┘     └───┘└───┘└───┘     └───┘└───┘»\n",
       "«       ┌───┐┌───┐     ┌───┐┌───┐┌───┐     ┌───┐┌───┐┌───┐     ┌───┐┌───┐     \n",
       "«q12_0: ┤ H ├┤ X ├──■──┤ X ├┤ H ├┤ X ├──■──┤ X ├┤ H ├┤ X ├──■──┤ X ├┤ H ├─────\n",
       "«       ├───┤└───┘  │  ├───┤├───┤└───┘  │  ├───┤├───┤└───┘  │  ├───┤├───┤     \n",
       "«q12_1: ┤ X ├───────■──┤ X ├┤ H ├───────■──┤ H ├┤ X ├───────■──┤ X ├┤ H ├─────\n",
       "«       ├───┤       │  ├───┤├───┤       │  ├───┤├───┤       │  ├───┤├───┤     \n",
       "«q12_2: ┤ X ├───────■──┤ X ├┤ H ├───────■──┤ H ├┤ X ├───────■──┤ X ├┤ H ├─────\n",
       "«       ├───┤┌───┐  │  ├───┤├───┤┌───┐  │  ├───┤├───┤┌───┐  │  ├───┤├───┤     \n",
       "«q12_3: ┤ H ├┤ X ├──■──┤ X ├┤ H ├┤ X ├──■──┤ X ├┤ H ├┤ X ├──■──┤ X ├┤ H ├─────\n",
       "«       ├───┤└───┘┌─┴─┐├───┤├───┤└───┘┌─┴─┐├───┤├───┤└───┘┌─┴─┐├───┤├───┤┌───┐\n",
       "«q12_4: ┤ H ├─────┤ X ├┤ H ├┤ X ├─────┤ X ├┤ X ├┤ H ├─────┤ X ├┤ H ├┤ X ├┤ H ├\n",
       "«       └───┘     └───┘└───┘└───┘     └───┘└───┘└───┘     └───┘└───┘└───┘└───┘"
      ]
     },
     "execution_count": 59,
     "metadata": {},
     "output_type": "execute_result"
    }
   ],
   "source": [
    "qc.draw()"
   ]
  },
  {
   "cell_type": "code",
   "execution_count": 60,
   "id": "fad90e5c-75ba-4684-b825-c462e3a7a38b",
   "metadata": {},
   "outputs": [
    {
     "data": {
      "text/plain": [
       "(-0.9271659296803556+2.7171353280508516e-15j)"
      ]
     },
     "execution_count": 60,
     "metadata": {},
     "output_type": "execute_result"
    }
   ],
   "source": [
    "state[N]"
   ]
  },
  {
   "cell_type": "code",
   "execution_count": 61,
   "id": "d2cfba74-bfe9-4976-9c00-91dfc99e06e9",
   "metadata": {},
   "outputs": [
    {
     "name": "stderr",
     "output_type": "stream",
     "text": [
      "/home/user/anaconda3/envs/quantum/lib/python3.9/site-packages/matplotlib/cbook.py:1699: ComplexWarning: Casting complex values to real discards the imaginary part\n",
      "  return math.isfinite(val)\n",
      "/home/user/anaconda3/envs/quantum/lib/python3.9/site-packages/matplotlib/transforms.py:766: ComplexWarning: Casting complex values to real discards the imaginary part\n",
      "  points = np.asarray(points, float)\n"
     ]
    },
    {
     "data": {
      "text/plain": [
       "<BarContainer object of 32 artists>"
      ]
     },
     "execution_count": 61,
     "metadata": {},
     "output_type": "execute_result"
    },
    {
     "data": {
      "image/png": "[encoded data removed]",
      "text/plain": [
       "<Figure size 640x480 with 1 Axes>"
      ]
     },
     "metadata": {},
     "output_type": "display_data"
    }
   ],
   "source": [
    "import matplotlib.pyplot as plt\n",
    "plt.bar(range(2**n), state)"
   ]
  },
  {
   "cell_type": "code",
   "execution_count": 62,
   "id": "01e06c8d-5327-4db1-94a9-406038ba8781",
   "metadata": {},
   "outputs": [],
   "source": [
    "qc.measure_all()"
   ]
  },
  {
   "cell_type": "code",
   "execution_count": 63,
   "id": "f36eb56f-50f9-4ce8-9c44-21d650440e72",
   "metadata": {},
   "outputs": [],
   "source": [
    "sim = Aer.get_backend('qasm_simulator')\n",
    "res = sim.run(qc).result()\n",
    "ans = res.get_counts()"
   ]
  },
  {
   "cell_type": "code",
   "execution_count": 64,
   "id": "62cf356f-c78c-4eb6-9bc0-62efe4f3b3c2",
   "metadata": {},
   "outputs": [
    {
     "data": {
      "text/plain": [
       "{'00011': 2,\n",
       " '11010': 6,\n",
       " '00101': 5,\n",
       " '01001': 5,\n",
       " '10001': 4,\n",
       " '11110': 4,\n",
       " '10100': 3,\n",
       " '10111': 1,\n",
       " '11100': 5,\n",
       " '10010': 5,\n",
       " '10101': 2,\n",
       " '10000': 3,\n",
       " '00100': 8,\n",
       " '00001': 3,\n",
       " '00110': 5,\n",
       " '01010': 3,\n",
       " '10011': 5,\n",
       " '01111': 4,\n",
       " '10110': 892,\n",
       " '01101': 9,\n",
       " '01110': 4,\n",
       " '11011': 3,\n",
       " '11111': 9,\n",
       " '11000': 5,\n",
       " '00111': 3,\n",
       " '00010': 4,\n",
       " '00000': 3,\n",
       " '11001': 3,\n",
       " '11101': 4,\n",
       " '01011': 2,\n",
       " '01000': 6,\n",
       " '01100': 4}"
      ]
     },
     "execution_count": 64,
     "metadata": {},
     "output_type": "execute_result"
    }
   ],
   "source": [
    "ans"
   ]
  },
  {
   "cell_type": "code",
   "execution_count": 65,
   "id": "b985aad6-d22f-4491-9cf9-2d7ae894d0e1",
   "metadata": {},
   "outputs": [
    {
     "data": {
      "image/png": "[encoded data removed]",
      "text/plain": [
       "<Figure size 700x500 with 1 Axes>"
      ]
     },
     "execution_count": 65,
     "metadata": {},
     "output_type": "execute_result"
    }
   ],
   "source": [
    "from qiskit.visualization import plot_histogram\n",
    "plot_histogram(ans)"
   ]
  },
  {
   "cell_type": "markdown",
   "id": "f08efcc6-4859-44e3-89e2-0c1f12e646a8",
   "metadata": {},
   "source": [
    "---\n",
    "いろいろ実験。"
   ]
  },
  {
   "cell_type": "code",
   "execution_count": 66,
   "id": "42bb3c65-b761-4816-aefb-326dfcbd327a",
   "metadata": {},
   "outputs": [
    {
     "name": "stdout",
     "output_type": "stream",
     "text": [
      "binN = 11\n"
     ]
    }
   ],
   "source": [
    "n = 2\n",
    "N = 3\n",
    "\n",
    "Tall = 1\n",
    "\n",
    "qc = QuantumCircuit()\n",
    "qr = QuantumRegister(n)\n",
    "qc.add_register(qr)\n",
    "\n",
    "# 重ね合わせの状態でスタートする。\n",
    "qc.h(qr)\n",
    "Uoracle = oracle(N, n)\n",
    "Udiff = diffusion(n)\n",
    "\n",
    "for k in range(Tall):\n",
    "    qc.append(Uoracle, qr)\n",
    "    qc.append(Udiff, qr)\n"
   ]
  },
  {
   "cell_type": "code",
   "execution_count": 67,
   "id": "713f09ee-69bb-4a51-a614-da06e09549c5",
   "metadata": {},
   "outputs": [
    {
     "data": {
      "text/html": [
       "<pre style=\"word-wrap: normal;white-space: pre;background: #fff0;line-height: 1.1;font-family: &quot;Courier New&quot;,Courier,monospace\">       ┌───┐┌──────────┐┌────────┐\n",
       "q18_0: ┤ H ├┤0         ├┤0       ├\n",
       "       ├───┤│  Uoracle ││  Udiff │\n",
       "q18_1: ┤ H ├┤1         ├┤1       ├\n",
       "       └───┘└──────────┘└────────┘</pre>"
      ],
      "text/plain": [
       "       ┌───┐┌──────────┐┌────────┐\n",
       "q18_0: ┤ H ├┤0         ├┤0       ├\n",
       "       ├───┤│  Uoracle ││  Udiff │\n",
       "q18_1: ┤ H ├┤1         ├┤1       ├\n",
       "       └───┘└──────────┘└────────┘"
      ]
     },
     "execution_count": 67,
     "metadata": {},
     "output_type": "execute_result"
    }
   ],
   "source": [
    "qc.draw()"
   ]
  },
  {
   "cell_type": "code",
   "execution_count": 68,
   "id": "05e4e8b2-b208-442c-b00f-93e2f60f2c81",
   "metadata": {},
   "outputs": [
    {
     "data": {
      "text/latex": [
       "$$\n",
       "state =\n",
       "\\begin{bmatrix}\n",
       "0 & 0 & 0 & -1  \\\\\n",
       " \\end{bmatrix}\n",
       "$$"
      ],
      "text/plain": [
       "<IPython.core.display.Latex object>"
      ]
     },
     "execution_count": 68,
     "metadata": {},
     "output_type": "execute_result"
    }
   ],
   "source": [
    "# 量子回路qcをシミュレートする。\n",
    "sim = Aer.get_backend('statevector_simulator')\n",
    "qc = transpile(qc, backend=sim)\n",
    "res = sim.run(qc).result()\n",
    "state = res.data()['statevector']\n",
    "array_to_latex(state, prefix='state =')"
   ]
  },
  {
   "cell_type": "code",
   "execution_count": 69,
   "id": "b1dd3a6d-4cf2-426f-a9de-490e151e8859",
   "metadata": {},
   "outputs": [
    {
     "name": "stderr",
     "output_type": "stream",
     "text": [
      "/home/user/anaconda3/envs/quantum/lib/python3.9/site-packages/matplotlib/cbook.py:1699: ComplexWarning: Casting complex values to real discards the imaginary part\n",
      "  return math.isfinite(val)\n",
      "/home/user/anaconda3/envs/quantum/lib/python3.9/site-packages/matplotlib/transforms.py:766: ComplexWarning: Casting complex values to real discards the imaginary part\n",
      "  points = np.asarray(points, float)\n"
     ]
    },
    {
     "data": {
      "text/plain": [
       "<BarContainer object of 4 artists>"
      ]
     },
     "execution_count": 69,
     "metadata": {},
     "output_type": "execute_result"
    },
    {
     "data": {
      "image/png": "[encoded data removed]",
      "text/plain": [
       "<Figure size 640x480 with 1 Axes>"
      ]
     },
     "metadata": {},
     "output_type": "display_data"
    }
   ],
   "source": [
    "import matplotlib.pyplot as plt\n",
    "plt.bar(range(2**n), state)"
   ]
  },
  {
   "cell_type": "code",
   "execution_count": 70,
   "id": "81ec44de-35d6-4c8b-8d91-3471b25c7d80",
   "metadata": {},
   "outputs": [
    {
     "name": "stdout",
     "output_type": "stream",
     "text": [
      "Statevector([-1.57009246e-16+2.46519033e-32j,\n",
      "             -2.22044605e-16-6.12323400e-17j,\n",
      "             -1.11022302e-16-6.12323400e-17j,\n",
      "             -1.00000000e+00+3.67394040e-16j],\n",
      "            dims=(2, 2))\n"
     ]
    }
   ],
   "source": [
    "state"
   ]
  },
  {
   "cell_type": "code",
   "execution_count": 71,
   "id": "7ac90130-720a-4699-90cd-cdaeddd9b9ef",
   "metadata": {},
   "outputs": [
    {
     "data": {
      "text/html": [
       "<pre style=\"word-wrap: normal;white-space: pre;background: #fff0;line-height: 1.1;font-family: &quot;Courier New&quot;,Courier,monospace\">       ┌───┐     ┌───┐┌───┐     ┌───┐┌───┐     \n",
       "q18_0: ┤ H ├──■──┤ H ├┤ X ├──■──┤ X ├┤ H ├─────\n",
       "       └───┘┌─┴─┐├───┤├───┤┌─┴─┐├───┤├───┤┌───┐\n",
       "q18_1: ─────┤ X ├┤ X ├┤ H ├┤ X ├┤ H ├┤ X ├┤ H ├\n",
       "            └───┘└───┘└───┘└───┘└───┘└───┘└───┘</pre>"
      ],
      "text/plain": [
       "       ┌───┐     ┌───┐┌───┐     ┌───┐┌───┐     \n",
       "q18_0: ┤ H ├──■──┤ H ├┤ X ├──■──┤ X ├┤ H ├─────\n",
       "       └───┘┌─┴─┐├───┤├───┤┌─┴─┐├───┤├───┤┌───┐\n",
       "q18_1: ─────┤ X ├┤ X ├┤ H ├┤ X ├┤ H ├┤ X ├┤ H ├\n",
       "            └───┘└───┘└───┘└───┘└───┘└───┘└───┘"
      ]
     },
     "execution_count": 71,
     "metadata": {},
     "output_type": "execute_result"
    }
   ],
   "source": [
    "qc.draw()"
   ]
  },
  {
   "cell_type": "code",
   "execution_count": 72,
   "id": "7f3eecb3-0373-4460-aba8-95c8dbb7b05a",
   "metadata": {},
   "outputs": [
    {
     "data": {
      "image/png": "[encoded data removed]",
      "text/plain": [
       "<Figure size 825.422x200.667 with 1 Axes>"
      ]
     },
     "execution_count": 72,
     "metadata": {},
     "output_type": "execute_result"
    }
   ],
   "source": [
    "qc.draw('mpl')"
   ]
  }
 ],
 "metadata": {
  "kernelspec": {
   "display_name": "Python 3 (ipykernel)",
   "language": "python",
   "name": "python3"
  },
  "language_info": {
   "codemirror_mode": {
    "name": "ipython",
    "version": 3
   },
   "file_extension": ".py",
   "mimetype": "text/x-python",
   "name": "python",
   "nbconvert_exporter": "python",
   "pygments_lexer": "ipython3",
   "version": "3.9.19"
  }
 },
 "nbformat": 4,
 "nbformat_minor": 5
}
