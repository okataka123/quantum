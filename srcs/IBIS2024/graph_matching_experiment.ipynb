{
 "cells": [
  {
   "cell_type": "markdown",
   "id": "52146285",
   "metadata": {},
   "source": [
    "## IBIS2024 1-R-48 量子回路での一般グラフのマッチング状態の重ね合わせ表現の再現実験。\n",
    "- グラフの各辺をそれぞれの量子ビットに割り当てる。\n",
    "- 辺が無いとき$\\ket{0}$、辺があるとき$\\ket{1}$とする。\n",
    "- 1つの頂点から幅優先探索的に辺を探索していく。"
   ]
  },
  {
   "cell_type": "code",
   "execution_count": 1,
   "id": "bb3b3108",
   "metadata": {},
   "outputs": [],
   "source": [
    "import numpy as np\n",
    "import networkx as nx\n",
    "import matplotlib.pyplot as plt"
   ]
  },
  {
   "cell_type": "code",
   "execution_count": 2,
   "id": "ad20eaa9",
   "metadata": {},
   "outputs": [
    {
     "data": {
      "image/png": "[encoded data removed]",
      "text/plain": [
       "<Figure size 640x480 with 1 Axes>"
      ]
     },
     "metadata": {},
     "output_type": "display_data"
    }
   ],
   "source": [
    "n_nodes = 5\n",
    "n_edges = 6\n",
    "\n",
    "nodes = [i for i in range(n_nodes)]\n",
    "edges = [(0, 1), (0, 2), (0, 3), (1, 2), (2, 3), (3, 4)] # 辺の順番と、量子ビットの順番は合わせる必要あり。\n",
    "\n",
    "G = nx.Graph()\n",
    "G.add_nodes_from(nodes)\n",
    "G.add_edges_from(edges)\n",
    "\n",
    "nx.draw(G, with_labels=True)\n",
    "plt.show()"
   ]
  },
  {
   "cell_type": "code",
   "execution_count": 3,
   "id": "7e015938",
   "metadata": {},
   "outputs": [],
   "source": [
    "def get_matching_states(nodes: list[int], edges: list[(int, int)]) -> list:\n",
    "    # マッチング状態を数え上げ、及び、最大マッチング状態の探索\n",
    "    # bit全探索\n",
    "\n",
    "    n_edges = len(edges)\n",
    "    n_nodes = len(nodes)\n",
    "\n",
    "    all_states = []\n",
    "    for bit in range(2**n_edges):\n",
    "        state = []\n",
    "        for i in range(n_edges):\n",
    "            if bit & (2**i):\n",
    "                state.append(1)\n",
    "            else:\n",
    "                state.append(0)\n",
    "        all_states.append(state)\n",
    "\n",
    "    # print('len(states) =', len(states))\n",
    "    # print('states =', states)\n",
    "\n",
    "    n_matching = 0\n",
    "    matching_states = [] # (番号、状態、matching数)の組で保持\n",
    "    for num, state in enumerate(all_states):\n",
    "        print('state =', state)\n",
    "        to = [[] for _ in range(n_nodes)]\n",
    "        for i in range(len(state)):\n",
    "            if state[i] == 1:\n",
    "                to[edges[i][0]].append(edges[i][1])\n",
    "                to[edges[i][1]].append(edges[i][0])\n",
    "        print('to =', to)\n",
    "        print()\n",
    "\n",
    "        is_matching = True\n",
    "        for e in to:\n",
    "            if len(e) >= 2:\n",
    "                is_matching = False\n",
    "            if not is_matching:\n",
    "                break\n",
    "        if not is_matching:\n",
    "            continue\n",
    "\n",
    "        matching_states.append((num, state, sum(state)))\n",
    "        n_matching += 1\n",
    "    print('n_matching =', n_matching)\n",
    "\n",
    "    return matching_states"
   ]
  },
  {
   "cell_type": "code",
   "execution_count": 4,
   "id": "877320c7",
   "metadata": {},
   "outputs": [
    {
     "name": "stdout",
     "output_type": "stream",
     "text": [
      "state = [0, 0, 0, 0, 0, 0]\n",
      "to = [[], [], [], [], []]\n",
      "\n",
      "state = [1, 0, 0, 0, 0, 0]\n",
      "to = [[1], [0], [], [], []]\n",
      "\n",
      "state = [0, 1, 0, 0, 0, 0]\n",
      "to = [[2], [], [0], [], []]\n",
      "\n",
      "state = [1, 1, 0, 0, 0, 0]\n",
      "to = [[1, 2], [0], [0], [], []]\n",
      "\n",
      "state = [0, 0, 1, 0, 0, 0]\n",
      "to = [[3], [], [], [0], []]\n",
      "\n",
      "state = [1, 0, 1, 0, 0, 0]\n",
      "to = [[1, 3], [0], [], [0], []]\n",
      "\n",
      "state = [0, 1, 1, 0, 0, 0]\n",
      "to = [[2, 3], [], [0], [0], []]\n",
      "\n",
      "state = [1, 1, 1, 0, 0, 0]\n",
      "to = [[1, 2, 3], [0], [0], [0], []]\n",
      "\n",
      "state = [0, 0, 0, 1, 0, 0]\n",
      "to = [[], [2], [1], [], []]\n",
      "\n",
      "state = [1, 0, 0, 1, 0, 0]\n",
      "to = [[1], [0, 2], [1], [], []]\n",
      "\n",
      "state = [0, 1, 0, 1, 0, 0]\n",
      "to = [[2], [2], [0, 1], [], []]\n",
      "\n",
      "state = [1, 1, 0, 1, 0, 0]\n",
      "to = [[1, 2], [0, 2], [0, 1], [], []]\n",
      "\n",
      "state = [0, 0, 1, 1, 0, 0]\n",
      "to = [[3], [2], [1], [0], []]\n",
      "\n",
      "state = [1, 0, 1, 1, 0, 0]\n",
      "to = [[1, 3], [0, 2], [1], [0], []]\n",
      "\n",
      "state = [0, 1, 1, 1, 0, 0]\n",
      "to = [[2, 3], [2], [0, 1], [0], []]\n",
      "\n",
      "state = [1, 1, 1, 1, 0, 0]\n",
      "to = [[1, 2, 3], [0, 2], [0, 1], [0], []]\n",
      "\n",
      "state = [0, 0, 0, 0, 1, 0]\n",
      "to = [[], [], [3], [2], []]\n",
      "\n",
      "state = [1, 0, 0, 0, 1, 0]\n",
      "to = [[1], [0], [3], [2], []]\n",
      "\n",
      "state = [0, 1, 0, 0, 1, 0]\n",
      "to = [[2], [], [0, 3], [2], []]\n",
      "\n",
      "state = [1, 1, 0, 0, 1, 0]\n",
      "to = [[1, 2], [0], [0, 3], [2], []]\n",
      "\n",
      "state = [0, 0, 1, 0, 1, 0]\n",
      "to = [[3], [], [3], [0, 2], []]\n",
      "\n",
      "state = [1, 0, 1, 0, 1, 0]\n",
      "to = [[1, 3], [0], [3], [0, 2], []]\n",
      "\n",
      "state = [0, 1, 1, 0, 1, 0]\n",
      "to = [[2, 3], [], [0, 3], [0, 2], []]\n",
      "\n",
      "state = [1, 1, 1, 0, 1, 0]\n",
      "to = [[1, 2, 3], [0], [0, 3], [0, 2], []]\n",
      "\n",
      "state = [0, 0, 0, 1, 1, 0]\n",
      "to = [[], [2], [1, 3], [2], []]\n",
      "\n",
      "state = [1, 0, 0, 1, 1, 0]\n",
      "to = [[1], [0, 2], [1, 3], [2], []]\n",
      "\n",
      "state = [0, 1, 0, 1, 1, 0]\n",
      "to = [[2], [2], [0, 1, 3], [2], []]\n",
      "\n",
      "state = [1, 1, 0, 1, 1, 0]\n",
      "to = [[1, 2], [0, 2], [0, 1, 3], [2], []]\n",
      "\n",
      "state = [0, 0, 1, 1, 1, 0]\n",
      "to = [[3], [2], [1, 3], [0, 2], []]\n",
      "\n",
      "state = [1, 0, 1, 1, 1, 0]\n",
      "to = [[1, 3], [0, 2], [1, 3], [0, 2], []]\n",
      "\n",
      "state = [0, 1, 1, 1, 1, 0]\n",
      "to = [[2, 3], [2], [0, 1, 3], [0, 2], []]\n",
      "\n",
      "state = [1, 1, 1, 1, 1, 0]\n",
      "to = [[1, 2, 3], [0, 2], [0, 1, 3], [0, 2], []]\n",
      "\n",
      "state = [0, 0, 0, 0, 0, 1]\n",
      "to = [[], [], [], [4], [3]]\n",
      "\n",
      "state = [1, 0, 0, 0, 0, 1]\n",
      "to = [[1], [0], [], [4], [3]]\n",
      "\n",
      "state = [0, 1, 0, 0, 0, 1]\n",
      "to = [[2], [], [0], [4], [3]]\n",
      "\n",
      "state = [1, 1, 0, 0, 0, 1]\n",
      "to = [[1, 2], [0], [0], [4], [3]]\n",
      "\n",
      "state = [0, 0, 1, 0, 0, 1]\n",
      "to = [[3], [], [], [0, 4], [3]]\n",
      "\n",
      "state = [1, 0, 1, 0, 0, 1]\n",
      "to = [[1, 3], [0], [], [0, 4], [3]]\n",
      "\n",
      "state = [0, 1, 1, 0, 0, 1]\n",
      "to = [[2, 3], [], [0], [0, 4], [3]]\n",
      "\n",
      "state = [1, 1, 1, 0, 0, 1]\n",
      "to = [[1, 2, 3], [0], [0], [0, 4], [3]]\n",
      "\n",
      "state = [0, 0, 0, 1, 0, 1]\n",
      "to = [[], [2], [1], [4], [3]]\n",
      "\n",
      "state = [1, 0, 0, 1, 0, 1]\n",
      "to = [[1], [0, 2], [1], [4], [3]]\n",
      "\n",
      "state = [0, 1, 0, 1, 0, 1]\n",
      "to = [[2], [2], [0, 1], [4], [3]]\n",
      "\n",
      "state = [1, 1, 0, 1, 0, 1]\n",
      "to = [[1, 2], [0, 2], [0, 1], [4], [3]]\n",
      "\n",
      "state = [0, 0, 1, 1, 0, 1]\n",
      "to = [[3], [2], [1], [0, 4], [3]]\n",
      "\n",
      "state = [1, 0, 1, 1, 0, 1]\n",
      "to = [[1, 3], [0, 2], [1], [0, 4], [3]]\n",
      "\n",
      "state = [0, 1, 1, 1, 0, 1]\n",
      "to = [[2, 3], [2], [0, 1], [0, 4], [3]]\n",
      "\n",
      "state = [1, 1, 1, 1, 0, 1]\n",
      "to = [[1, 2, 3], [0, 2], [0, 1], [0, 4], [3]]\n",
      "\n",
      "state = [0, 0, 0, 0, 1, 1]\n",
      "to = [[], [], [3], [2, 4], [3]]\n",
      "\n",
      "state = [1, 0, 0, 0, 1, 1]\n",
      "to = [[1], [0], [3], [2, 4], [3]]\n",
      "\n",
      "state = [0, 1, 0, 0, 1, 1]\n",
      "to = [[2], [], [0, 3], [2, 4], [3]]\n",
      "\n",
      "state = [1, 1, 0, 0, 1, 1]\n",
      "to = [[1, 2], [0], [0, 3], [2, 4], [3]]\n",
      "\n",
      "state = [0, 0, 1, 0, 1, 1]\n",
      "to = [[3], [], [3], [0, 2, 4], [3]]\n",
      "\n",
      "state = [1, 0, 1, 0, 1, 1]\n",
      "to = [[1, 3], [0], [3], [0, 2, 4], [3]]\n",
      "\n",
      "state = [0, 1, 1, 0, 1, 1]\n",
      "to = [[2, 3], [], [0, 3], [0, 2, 4], [3]]\n",
      "\n",
      "state = [1, 1, 1, 0, 1, 1]\n",
      "to = [[1, 2, 3], [0], [0, 3], [0, 2, 4], [3]]\n",
      "\n",
      "state = [0, 0, 0, 1, 1, 1]\n",
      "to = [[], [2], [1, 3], [2, 4], [3]]\n",
      "\n",
      "state = [1, 0, 0, 1, 1, 1]\n",
      "to = [[1], [0, 2], [1, 3], [2, 4], [3]]\n",
      "\n",
      "state = [0, 1, 0, 1, 1, 1]\n",
      "to = [[2], [2], [0, 1, 3], [2, 4], [3]]\n",
      "\n",
      "state = [1, 1, 0, 1, 1, 1]\n",
      "to = [[1, 2], [0, 2], [0, 1, 3], [2, 4], [3]]\n",
      "\n",
      "state = [0, 0, 1, 1, 1, 1]\n",
      "to = [[3], [2], [1, 3], [0, 2, 4], [3]]\n",
      "\n",
      "state = [1, 0, 1, 1, 1, 1]\n",
      "to = [[1, 3], [0, 2], [1, 3], [0, 2, 4], [3]]\n",
      "\n",
      "state = [0, 1, 1, 1, 1, 1]\n",
      "to = [[2, 3], [2], [0, 1, 3], [0, 2, 4], [3]]\n",
      "\n",
      "state = [1, 1, 1, 1, 1, 1]\n",
      "to = [[1, 2, 3], [0, 2], [0, 1, 3], [0, 2, 4], [3]]\n",
      "\n",
      "n_matching = 12\n"
     ]
    }
   ],
   "source": [
    "matching_states = get_matching_states(nodes, edges)"
   ]
  },
  {
   "cell_type": "code",
   "execution_count": 5,
   "id": "f2e19f23",
   "metadata": {},
   "outputs": [
    {
     "name": "stdout",
     "output_type": "stream",
     "text": [
      "[(0, [0, 0, 0, 0, 0, 0], 0), (1, [1, 0, 0, 0, 0, 0], 1), (2, [0, 1, 0, 0, 0, 0], 1), (4, [0, 0, 1, 0, 0, 0], 1), (8, [0, 0, 0, 1, 0, 0], 1), (12, [0, 0, 1, 1, 0, 0], 2), (16, [0, 0, 0, 0, 1, 0], 1), (17, [1, 0, 0, 0, 1, 0], 2), (32, [0, 0, 0, 0, 0, 1], 1), (33, [1, 0, 0, 0, 0, 1], 2), (34, [0, 1, 0, 0, 0, 1], 2), (40, [0, 0, 0, 1, 0, 1], 2)]\n"
     ]
    }
   ],
   "source": [
    "print(matching_states)\n",
    "\n",
    "c_state_list = []\n",
    "for e in matching_states:\n",
    "    c_state_list.append(e[0])"
   ]
  },
  {
   "cell_type": "code",
   "execution_count": 6,
   "id": "096f730b",
   "metadata": {},
   "outputs": [
    {
     "name": "stdout",
     "output_type": "stream",
     "text": [
      "12\n",
      "[0, 1, 2, 4, 8, 12, 16, 17, 32, 33, 34, 40]\n"
     ]
    }
   ],
   "source": [
    "print(len(c_state_list))\n",
    "print(c_state_list)"
   ]
  },
  {
   "cell_type": "code",
   "execution_count": 7,
   "id": "499c3e12",
   "metadata": {},
   "outputs": [
    {
     "data": {
      "image/png": "[encoded data removed]",
      "text/plain": [
       "<Figure size 640x480 with 1 Axes>"
      ]
     },
     "metadata": {},
     "output_type": "display_data"
    }
   ],
   "source": [
    "d = [0 for _ in range(64)]\n",
    "for i, state, num in matching_states:\n",
    "    d[i] = 1\n",
    "\n",
    "plt.figure()\n",
    "x = range(64)\n",
    "y = d\n",
    "plt.bar(x, y)\n",
    "plt.show()"
   ]
  },
  {
   "cell_type": "markdown",
   "id": "590a8b82",
   "metadata": {},
   "source": [
    "---\n",
    "### 量子回路でマッチングの重ね合わせを表現"
   ]
  },
  {
   "cell_type": "code",
   "execution_count": 8,
   "id": "22a10fd6-1c9e-4a21-9cfa-1605ae67805e",
   "metadata": {},
   "outputs": [],
   "source": [
    "from qiskit import QuantumCircuit, QuantumRegister, transpile\n",
    "from qiskit.circuit.library import HGate\n",
    "from qiskit_aer import Aer\n",
    "from qiskit.visualization import array_to_latex"
   ]
  },
  {
   "cell_type": "code",
   "execution_count": 9,
   "id": "8be827ae",
   "metadata": {},
   "outputs": [],
   "source": [
    "def mc_h(control_qubits, target_qubit):\n",
    "    '''\n",
    "    多重制御Hadamardゲート\n",
    "\n",
    "    Args:\n",
    "        control_qubits (list[int]): 制御ビットとして設定したいキュービット番号のリスト。例：[0, 1, 3]など\n",
    "        target_qubit (int): ターゲットとして設定したいキュービット番号\n",
    "    '''\n",
    "    num_controls = len(control_qubits)\n",
    "    num_qubits = max(control_qubits + [target_qubit]) + 1\n",
    "    qc = QuantumCircuit(num_qubits)\n",
    "    hgate = HGate()\n",
    "    controlled_hadamard = hgate.control(num_controls)\n",
    "    qc.append(controlled_hadamard, control_qubits + [target_qubit])\n",
    "\n",
    "    return qc"
   ]
  },
  {
   "cell_type": "code",
   "execution_count": 10,
   "id": "4f40b6cc-df0c-45b5-8a1f-01457defd5a5",
   "metadata": {},
   "outputs": [
    {
     "data": {
      "image/png": "[encoded data removed]",
      "text/plain": [
       "<Figure size 1894.34x535.111 with 1 Axes>"
      ]
     },
     "execution_count": 10,
     "metadata": {},
     "output_type": "execute_result"
    }
   ],
   "source": [
    "qc = QuantumCircuit()\n",
    "qr = QuantumRegister(n_edges)\n",
    "qc.add_register(qr)\n",
    "\n",
    "qc.h(0)\n",
    "qc.x(0)\n",
    "\n",
    "qc.ch(0, 1)\n",
    "# mch_gate = mc_h([0], 1).to_gate(label='MCH')\n",
    "# qc.append(mch_gate, [0, 1])\n",
    "qc.x(1)\n",
    "\n",
    "mch_gate = mc_h([0, 1], 2).to_gate(label='MCH([0, 1], 2)')\n",
    "qc.append(mch_gate, [0, 1, 2])\n",
    "qc.x(2)\n",
    "\n",
    "mch_gate = mc_h([0, 1], 3).to_gate(label='MCH([0, 1], 3)')\n",
    "qc.append(mch_gate, [0, 1, 2, 3])\n",
    "qc.x(3)\n",
    "\n",
    "mch_gate = mc_h([1, 2, 3], 4).to_gate(label='MCH([1, 2, 3], 4)')\n",
    "qc.append(mch_gate, [0, 1, 2, 3, 4])\n",
    "qc.x(4)\n",
    "\n",
    "mch_gate = mc_h([2, 4], 5).to_gate(label='MCH([2, 4], 5)')\n",
    "qc.append(mch_gate, [0, 1, 2, 3, 4, 5])\n",
    "qc.x(5)\n",
    "\n",
    "qc.x(0)\n",
    "qc.x(1)\n",
    "qc.x(2)\n",
    "qc.x(3)\n",
    "qc.x(4)\n",
    "qc.x(5)\n",
    "\n",
    "qc.draw('mpl')"
   ]
  },
  {
   "cell_type": "code",
   "execution_count": 11,
   "id": "78e638e6",
   "metadata": {},
   "outputs": [
    {
     "data": {
      "text/latex": [
       "$$\n",
       "state =\n",
       "\\begin{bmatrix}\n",
       "\\frac{1}{8} & \\frac{\\sqrt{2}}{4} & \\frac{\\sqrt{2}}{4} & 0 & \\cdots & 0 & 0 & 0  \\\\\n",
       " \\end{bmatrix}\n",
       "$$"
      ],
      "text/plain": [
       "<IPython.core.display.Latex object>"
      ]
     },
     "execution_count": 11,
     "metadata": {},
     "output_type": "execute_result"
    }
   ],
   "source": [
    "sim = Aer.get_backend('statevector_simulator')\n",
    "qc = transpile(qc, backend=sim)\n",
    "res = sim.run(qc).result()\n",
    "state = res.data()['statevector']\n",
    "array_to_latex(state, prefix='state =')"
   ]
  },
  {
   "cell_type": "code",
   "execution_count": 12,
   "id": "095af32f",
   "metadata": {},
   "outputs": [
    {
     "name": "stderr",
     "output_type": "stream",
     "text": [
      "/home/user/anaconda3/envs/quantum_q_p/lib/python3.9/site-packages/matplotlib/cbook.py:1699: ComplexWarning: Casting complex values to real discards the imaginary part\n",
      "  return math.isfinite(val)\n",
      "/home/user/anaconda3/envs/quantum_q_p/lib/python3.9/site-packages/matplotlib/transforms.py:766: ComplexWarning: Casting complex values to real discards the imaginary part\n",
      "  points = np.asarray(points, float)\n"
     ]
    },
    {
     "data": {
      "text/plain": [
       "<BarContainer object of 64 artists>"
      ]
     },
     "execution_count": 12,
     "metadata": {},
     "output_type": "execute_result"
    },
    {
     "data": {
      "image/png": "[encoded data removed]",
      "text/plain": [
       "<Figure size 640x480 with 1 Axes>"
      ]
     },
     "metadata": {},
     "output_type": "display_data"
    }
   ],
   "source": [
    "plt.bar(range(2**6), state)"
   ]
  },
  {
   "cell_type": "code",
   "execution_count": 13,
   "id": "d9b710cf",
   "metadata": {},
   "outputs": [
    {
     "name": "stdout",
     "output_type": "stream",
     "text": [
      "0: 0.12499999999999997\n",
      "1: 0.35355339059327384\n",
      "2: 0.35355339059327384\n",
      "3: 7.878763007045448e-17\n",
      "4: 0.25000000000000006\n",
      "5: 1.2325951644078318e-32\n",
      "6: 0.0\n",
      "7: 0.0\n",
      "8: 0.17677669529663692\n",
      "9: 1.96261557335472e-17\n",
      "10: 0.0\n",
      "11: 0.0\n",
      "12: 0.2500000000000001\n",
      "13: 0.0\n",
      "14: 0.0\n",
      "15: 0.0\n",
      "16: 0.17677669529663698\n",
      "17: 0.5000000000000002\n",
      "18: 8.900933018370749e-17\n",
      "19: 1.2705300141197633e-32\n",
      "20: 1.510656218090215e-17\n",
      "21: 1.1211578427767056e-48\n",
      "22: 0.0\n",
      "23: 0.0\n",
      "24: 1.8014014492744945e-17\n",
      "25: 1.8049898154812098e-33\n",
      "26: 0.0\n",
      "27: 0.0\n",
      "28: 1.625790292081742e-17\n",
      "29: 0.0\n",
      "30: 0.0\n",
      "31: 0.0\n",
      "32: 0.12499999999999997\n",
      "33: 0.35355339059327384\n",
      "34: 0.35355339059327384\n",
      "35: 7.878763007045448e-17\n",
      "36: 0.0\n",
      "37: 9.495567745759799e-66\n",
      "38: 0.0\n",
      "39: 0.0\n",
      "40: 0.17677669529663692\n",
      "41: 1.96261557335472e-17\n",
      "42: 0.0\n",
      "43: 0.0\n",
      "44: 1.3877787807814457e-17\n",
      "45: 0.0\n",
      "46: 0.0\n",
      "47: 0.0\n",
      "48: 0.0\n",
      "49: 2.7755575615628914e-17\n",
      "50: 0.0\n",
      "51: 0.0\n",
      "52: 0.0\n",
      "53: 0.0\n",
      "54: 0.0\n",
      "55: 0.0\n",
      "56: 0.0\n",
      "57: 8.552847072295026e-50\n",
      "58: 0.0\n",
      "59: 0.0\n",
      "60: 0.0\n",
      "61: 0.0\n",
      "62: 0.0\n",
      "63: 0.0\n"
     ]
    },
    {
     "name": "stderr",
     "output_type": "stream",
     "text": [
      "/tmp/ipykernel_9861/2876000424.py:2: DeprecationWarning: The return type of saved statevectors has been changed from a `numpy.ndarray` to a `qiskit.quantum_info.Statevector` as of qiskit-aer 0.10. Accessing numpy array attributes is deprecated and will result in an error in a future release. To continue using saved result objects as arrays you can explicitly cast them using  `np.asarray(object)`.\n",
      "  for i, s in enumerate(state):\n"
     ]
    }
   ],
   "source": [
    "q_state_list = []\n",
    "for i, s in enumerate(state):\n",
    "    print(f'{i}: {np.abs(s)}')\n",
    "    if np.abs(s) >= 0.01:\n",
    "        q_state_list.append(i)\n"
   ]
  },
  {
   "cell_type": "code",
   "execution_count": 14,
   "id": "40203f8a",
   "metadata": {},
   "outputs": [
    {
     "name": "stdout",
     "output_type": "stream",
     "text": [
      "12\n",
      "[0, 1, 2, 4, 8, 12, 16, 17, 32, 33, 34, 40]\n"
     ]
    }
   ],
   "source": [
    "print(len(q_state_list))\n",
    "print(q_state_list)"
   ]
  },
  {
   "cell_type": "code",
   "execution_count": 15,
   "id": "0b912cdc",
   "metadata": {},
   "outputs": [
    {
     "name": "stdout",
     "output_type": "stream",
     "text": [
      "12\n",
      "[0, 1, 2, 4, 8, 12, 16, 17, 32, 33, 34, 40]\n"
     ]
    }
   ],
   "source": [
    "print(len(c_state_list))\n",
    "print(c_state_list)"
   ]
  },
  {
   "cell_type": "markdown",
   "id": "e33afe17",
   "metadata": {},
   "source": [
    "---\n",
    "### もっと単純なグラフでやってみる"
   ]
  },
  {
   "cell_type": "code",
   "execution_count": 16,
   "id": "cba52cd4",
   "metadata": {},
   "outputs": [
    {
     "data": {
      "image/png": "[encoded data removed]",
      "text/plain": [
       "<Figure size 640x480 with 1 Axes>"
      ]
     },
     "metadata": {},
     "output_type": "display_data"
    }
   ],
   "source": [
    "n_nodes = 4\n",
    "n_edges = 4\n",
    "\n",
    "nodes = [i for i in range(n_nodes)]\n",
    "# edges = [(0, 1), (1, 2), (2, 3), (3, 0)]\n",
    "edges = [(0, 1), (0, 3), (1, 2), (2, 3)]\n",
    "\n",
    "G = nx.Graph()\n",
    "G.add_nodes_from(nodes)\n",
    "G.add_edges_from(edges)\n",
    "\n",
    "nx.draw(G, with_labels=True)\n",
    "plt.show()"
   ]
  },
  {
   "cell_type": "code",
   "execution_count": 17,
   "id": "dfcb9733",
   "metadata": {},
   "outputs": [
    {
     "name": "stdout",
     "output_type": "stream",
     "text": [
      "state = [0, 0, 0, 0]\n",
      "to = [[], [], [], []]\n",
      "\n",
      "state = [1, 0, 0, 0]\n",
      "to = [[1], [0], [], []]\n",
      "\n",
      "state = [0, 1, 0, 0]\n",
      "to = [[3], [], [], [0]]\n",
      "\n",
      "state = [1, 1, 0, 0]\n",
      "to = [[1, 3], [0], [], [0]]\n",
      "\n",
      "state = [0, 0, 1, 0]\n",
      "to = [[], [2], [1], []]\n",
      "\n",
      "state = [1, 0, 1, 0]\n",
      "to = [[1], [0, 2], [1], []]\n",
      "\n",
      "state = [0, 1, 1, 0]\n",
      "to = [[3], [2], [1], [0]]\n",
      "\n",
      "state = [1, 1, 1, 0]\n",
      "to = [[1, 3], [0, 2], [1], [0]]\n",
      "\n",
      "state = [0, 0, 0, 1]\n",
      "to = [[], [], [3], [2]]\n",
      "\n",
      "state = [1, 0, 0, 1]\n",
      "to = [[1], [0], [3], [2]]\n",
      "\n",
      "state = [0, 1, 0, 1]\n",
      "to = [[3], [], [3], [0, 2]]\n",
      "\n",
      "state = [1, 1, 0, 1]\n",
      "to = [[1, 3], [0], [3], [0, 2]]\n",
      "\n",
      "state = [0, 0, 1, 1]\n",
      "to = [[], [2], [1, 3], [2]]\n",
      "\n",
      "state = [1, 0, 1, 1]\n",
      "to = [[1], [0, 2], [1, 3], [2]]\n",
      "\n",
      "state = [0, 1, 1, 1]\n",
      "to = [[3], [2], [1, 3], [0, 2]]\n",
      "\n",
      "state = [1, 1, 1, 1]\n",
      "to = [[1, 3], [0, 2], [1, 3], [0, 2]]\n",
      "\n",
      "n_matching = 7\n",
      "[(0, [0, 0, 0, 0], 0), (1, [1, 0, 0, 0], 1), (2, [0, 1, 0, 0], 1), (4, [0, 0, 1, 0], 1), (6, [0, 1, 1, 0], 2), (8, [0, 0, 0, 1], 1), (9, [1, 0, 0, 1], 2)]\n"
     ]
    }
   ],
   "source": [
    "matching_states = get_matching_states(nodes, edges)\n",
    "print(matching_states)\n"
   ]
  },
  {
   "cell_type": "code",
   "execution_count": 18,
   "id": "3c1c6ca7",
   "metadata": {},
   "outputs": [
    {
     "data": {
      "image/png": "[encoded data removed]",
      "text/plain": [
       "<Figure size 1243.68x367.889 with 1 Axes>"
      ]
     },
     "execution_count": 18,
     "metadata": {},
     "output_type": "execute_result"
    }
   ],
   "source": [
    "qc = QuantumCircuit()\n",
    "qr = QuantumRegister(n_edges)\n",
    "qc.add_register(qr)\n",
    "\n",
    "qc.h(0)\n",
    "qc.x(0)\n",
    "\n",
    "qc.ch(0, 1)\n",
    "# mch_gate = mc_h([0], 1).to_gate(label='MCH')\n",
    "# qc.append(mch_gate, [0, 1])\n",
    "qc.x(1)\n",
    "\n",
    "mch_gate = mc_h([0], 2).to_gate(label='MCH([0, 3], 2)')\n",
    "qc.append(mch_gate, [0, 1, 2])\n",
    "qc.x(2)\n",
    "\n",
    "mch_gate = mc_h([1, 2], 3).to_gate(label='MCH([1, 2], 3)')\n",
    "qc.append(mch_gate, [0, 1, 2, 3])\n",
    "qc.x(3)\n",
    "\n",
    "qc.x(0)\n",
    "qc.x(1)\n",
    "qc.x(2)\n",
    "qc.x(3)\n",
    "\n",
    "qc.draw('mpl')"
   ]
  },
  {
   "cell_type": "code",
   "execution_count": 19,
   "id": "1b815bdb",
   "metadata": {},
   "outputs": [
    {
     "data": {
      "text/latex": [
       "$$\n",
       "state =\n",
       "\\begin{bmatrix}\n",
       "\\frac{1}{4} & \\frac{1}{2} & \\frac{\\sqrt{2}}{4} & 0 & \\cdots & 0 & 0 & 0  \\\\\n",
       " \\end{bmatrix}\n",
       "$$"
      ],
      "text/plain": [
       "<IPython.core.display.Latex object>"
      ]
     },
     "execution_count": 19,
     "metadata": {},
     "output_type": "execute_result"
    }
   ],
   "source": [
    "sim = Aer.get_backend('statevector_simulator')\n",
    "qc = transpile(qc, backend=sim)\n",
    "res = sim.run(qc).result()\n",
    "state = res.data()['statevector']\n",
    "array_to_latex(state, prefix='state =')"
   ]
  },
  {
   "cell_type": "code",
   "execution_count": 20,
   "id": "9eb10184",
   "metadata": {},
   "outputs": [
    {
     "name": "stderr",
     "output_type": "stream",
     "text": [
      "/home/user/anaconda3/envs/quantum_q_p/lib/python3.9/site-packages/matplotlib/cbook.py:1699: ComplexWarning: Casting complex values to real discards the imaginary part\n",
      "  return math.isfinite(val)\n",
      "/home/user/anaconda3/envs/quantum_q_p/lib/python3.9/site-packages/matplotlib/transforms.py:766: ComplexWarning: Casting complex values to real discards the imaginary part\n",
      "  points = np.asarray(points, float)\n"
     ]
    },
    {
     "data": {
      "text/plain": [
       "<BarContainer object of 16 artists>"
      ]
     },
     "execution_count": 20,
     "metadata": {},
     "output_type": "execute_result"
    },
    {
     "data": {
      "image/png": "[encoded data removed]",
      "text/plain": [
       "<Figure size 640x480 with 1 Axes>"
      ]
     },
     "metadata": {},
     "output_type": "display_data"
    }
   ],
   "source": [
    "plt.bar(range(2**4), state)"
   ]
  },
  {
   "cell_type": "code",
   "execution_count": 21,
   "id": "54a583d1",
   "metadata": {},
   "outputs": [
    {
     "name": "stdout",
     "output_type": "stream",
     "text": [
      "[(0, [0, 0, 0, 0], 0), (1, [1, 0, 0, 0], 1), (2, [0, 1, 0, 0], 1), (4, [0, 0, 1, 0], 1), (6, [0, 1, 1, 0], 2), (8, [0, 0, 0, 1], 1), (9, [1, 0, 0, 1], 2)]\n"
     ]
    }
   ],
   "source": [
    "print(matching_states)\n",
    "\n",
    "c_state_list = []\n",
    "for e in matching_states:\n",
    "    c_state_list.append(e[0])"
   ]
  },
  {
   "cell_type": "code",
   "execution_count": 22,
   "id": "f0d09774",
   "metadata": {},
   "outputs": [
    {
     "name": "stdout",
     "output_type": "stream",
     "text": [
      "0: 0.24999999999999994\n",
      "1: 0.49999999999999994\n",
      "2: 0.3535533905932737\n",
      "3: 1.1169206562551344e-16\n",
      "4: 0.3535533905932737\n",
      "5: 1.1338735305352004e-16\n",
      "6: 0.3535533905932736\n",
      "7: 2.4663937413007216e-32\n",
      "8: 0.24999999999999994\n",
      "9: 0.5\n",
      "10: 0.0\n",
      "11: 0.0\n",
      "12: 1.3877787807814457e-17\n",
      "13: 0.0\n",
      "14: 1.3877787807814457e-17\n",
      "15: 0.0\n"
     ]
    },
    {
     "name": "stderr",
     "output_type": "stream",
     "text": [
      "/tmp/ipykernel_9861/4047471416.py:2: DeprecationWarning: The return type of saved statevectors has been changed from a `numpy.ndarray` to a `qiskit.quantum_info.Statevector` as of qiskit-aer 0.10. Accessing numpy array attributes is deprecated and will result in an error in a future release. To continue using saved result objects as arrays you can explicitly cast them using  `np.asarray(object)`.\n",
      "  for i, s in enumerate(state):\n"
     ]
    }
   ],
   "source": [
    "q_state_list = []\n",
    "for i, s in enumerate(state):\n",
    "    print(f'{i}: {np.abs(s)}')\n",
    "    if np.abs(s) >= 0.01:\n",
    "        q_state_list.append(i)"
   ]
  },
  {
   "cell_type": "code",
   "execution_count": 23,
   "id": "8a004ea9",
   "metadata": {},
   "outputs": [
    {
     "name": "stdout",
     "output_type": "stream",
     "text": [
      "7\n",
      "[0, 1, 2, 4, 6, 8, 9]\n"
     ]
    }
   ],
   "source": [
    "print(len(q_state_list))\n",
    "print(q_state_list)"
   ]
  },
  {
   "cell_type": "code",
   "execution_count": 24,
   "id": "d725913e",
   "metadata": {},
   "outputs": [
    {
     "name": "stdout",
     "output_type": "stream",
     "text": [
      "7\n",
      "[0, 1, 2, 4, 6, 8, 9]\n"
     ]
    }
   ],
   "source": [
    "print(len(c_state_list))\n",
    "print(c_state_list)"
   ]
  }
 ],
 "metadata": {
  "kernelspec": {
   "display_name": "Python 3 (ipykernel)",
   "language": "python",
   "name": "python3"
  },
  "language_info": {
   "codemirror_mode": {
    "name": "ipython",
    "version": 3
   },
   "file_extension": ".py",
   "mimetype": "text/x-python",
   "name": "python",
   "nbconvert_exporter": "python",
   "pygments_lexer": "ipython3",
   "version": "3.9.19"
  }
 },
 "nbformat": 4,
 "nbformat_minor": 5
}
