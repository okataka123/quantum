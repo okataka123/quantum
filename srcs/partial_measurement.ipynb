{
 "cells": [
  {
   "cell_type": "markdown",
   "id": "ee10cced-8284-417d-903b-e7506a6ae978",
   "metadata": {},
   "source": [
    "## 部分測定について"
   ]
  },
  {
   "cell_type": "code",
   "execution_count": null,
   "id": "30ce0ed0-1c0c-49f6-887a-20c3684ec7bd",
   "metadata": {},
   "outputs": [],
   "source": [
    "from qiskit import QuantumCircuit, QuantumRegister, transpile\n",
    "from qiskit_aer import Aer\n",
    "from qiskit.visualization import array_to_latex\n",
    "from sympy.physics.quantum.qubit import matrix_to_qubit\n",
    "from qiskit.visualization import plot_bloch_multivector\n",
    "import numpy as np"
   ]
  },
  {
   "cell_type": "code",
   "execution_count": 2,
   "id": "7f2f855e-3b49-46a1-b707-26b7e90db2db",
   "metadata": {},
   "outputs": [
    {
     "data": {
      "image/png": "[encoded data removed]",
      "text/plain": [
       "<Figure size 287.294x200.667 with 1 Axes>"
      ]
     },
     "execution_count": 2,
     "metadata": {},
     "output_type": "execute_result"
    }
   ],
   "source": [
    "n = 2 \n",
    "qc = QuantumCircuit(n)\n",
    "qc.h(0)\n",
    "qc.cx(0, 1)\n",
    "qc.draw('mpl')"
   ]
  },
  {
   "cell_type": "code",
   "execution_count": 25,
   "id": "26773110-4a2a-43c6-91a7-eee394dc827f",
   "metadata": {},
   "outputs": [
    {
     "data": {
      "image/png": "[encoded data removed]",
      "text/plain": [
       "<Figure size 371.107x367.889 with 1 Axes>"
      ]
     },
     "execution_count": 25,
     "metadata": {},
     "output_type": "execute_result"
    }
   ],
   "source": [
    "n = 3\n",
    "qc = QuantumCircuit(n, n)\n",
    "\n",
    "for i in range(n):\n",
    "    qc.h(i)\n",
    "    if i == 0 or i == 1:\n",
    "        qc.measure(i, i)\n",
    "    #qc.measure(i, i)\n",
    "\n",
    "qc.draw('mpl')"
   ]
  },
  {
   "cell_type": "code",
   "execution_count": 26,
   "id": "f7a741c4-6944-45f8-a34b-f97c9000bddb",
   "metadata": {},
   "outputs": [
    {
     "data": {
      "text/plain": [
       "{'011': 273, '001': 253, '000': 230, '010': 244}"
      ]
     },
     "execution_count": 26,
     "metadata": {},
     "output_type": "execute_result"
    }
   ],
   "source": [
    "sim = Aer.get_backend('qasm_simulator')\n",
    "res = sim.run(qc, shots = 1000).result()\n",
    "res.get_counts()"
   ]
  },
  {
   "cell_type": "code",
   "execution_count": null,
   "id": "94c5f9bc-da3e-4351-9e48-4f1cfbe0e5c1",
   "metadata": {},
   "outputs": [],
   "source": []
  },
  {
   "cell_type": "code",
   "execution_count": null,
   "id": "41019211-33d2-416e-8b78-ac5a2bd22d50",
   "metadata": {},
   "outputs": [],
   "source": []
  }
 ],
 "metadata": {
  "kernelspec": {
   "display_name": "Python 3 (ipykernel)",
   "language": "python",
   "name": "python3"
  },
  "language_info": {
   "codemirror_mode": {
    "name": "ipython",
    "version": 3
   },
   "file_extension": ".py",
   "mimetype": "text/x-python",
   "name": "python",
   "nbconvert_exporter": "python",
   "pygments_lexer": "ipython3",
   "version": "3.9.19"
  }
 },
 "nbformat": 4,
 "nbformat_minor": 5
}
