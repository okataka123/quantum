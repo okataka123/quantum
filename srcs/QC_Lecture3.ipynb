{
 "cells": [
  {
   "cell_type": "markdown",
   "id": "878faede-2645-46fd-9a5a-3a98e3550edf",
   "metadata": {},
   "source": [
    "# Lec3 Quantum Machine Learning\n",
    "Reference\n",
    "- [[Youtube]【誰でも量子コンピュータ！量子機械学習編】Quantum Computing for You【第3回・9/22実施】](https://www.youtube.com/watch?v=L4TSZBOlq-k&list=TLGGDOGXcmiqXZowNDA1MjAyNA)"
   ]
  },
  {
   "cell_type": "code",
   "execution_count": 1,
   "id": "6401e06a-4416-459a-917e-159088f36824",
   "metadata": {},
   "outputs": [],
   "source": [
    "from qiskit import QuantumCircuit, QuantumRegister, transpile\n",
    "from qiskit_aer import Aer\n",
    "from qiskit.visualization import array_to_latex"
   ]
  },
  {
   "cell_type": "code",
   "execution_count": 2,
   "id": "06e3e30e-a66e-4367-8512-6cf50f2b1978",
   "metadata": {},
   "outputs": [],
   "source": [
    "import numpy as np\n",
    "from sympy.physics.quantum.qubit import matrix_to_qubit"
   ]
  },
  {
   "cell_type": "code",
   "execution_count": 3,
   "id": "4ef3cc1b-0222-4648-9c7f-c3ec53a28189",
   "metadata": {},
   "outputs": [],
   "source": [
    "def sim_state(qc, disp=True):\n",
    "    sim = Aer.get_backend('statevector_simulator')\n",
    "    qc = transpile(qc, backend=sim)\n",
    "    res = sim.run(qc).result()\n",
    "    state = res.data()['statevector']\n",
    "    if disp:\n",
    "        ket = matrix_to_qubit(np.array(state)[:, np.newaxis])\n",
    "        print(ket)\n",
    "    return state"
   ]
  },
  {
   "cell_type": "code",
   "execution_count": 4,
   "id": "804f66b5-237b-4540-a726-ef476a366bd7",
   "metadata": {},
   "outputs": [
    {
     "data": {
      "text/plain": [
       "<qiskit.circuit.instructionset.InstructionSet at 0x7f74846e7ca0>"
      ]
     },
     "execution_count": 4,
     "metadata": {},
     "output_type": "execute_result"
    }
   ],
   "source": [
    "n = 2\n",
    "qc = QuantumCircuit()\n",
    "qr = QuantumRegister(n)\n",
    "qc.add_register(qr)\n",
    "qc.h(qr)"
   ]
  },
  {
   "cell_type": "code",
   "execution_count": 5,
   "id": "9644e63d-77e5-4944-899f-3a874044f250",
   "metadata": {},
   "outputs": [
    {
     "name": "stdout",
     "output_type": "stream",
     "text": [
      "0.5*|00> + 0.5*|01> + 0.5*|10> + 0.5*|11>\n"
     ]
    }
   ],
   "source": [
    "state = sim_state(qc)"
   ]
  },
  {
   "cell_type": "markdown",
   "id": "d6773da8-00e7-4d25-ab0d-4e5f1d069ee3",
   "metadata": {},
   "source": [
    "---\n",
    "### $CX \\cdot Z  \\cdot CX$について"
   ]
  },
  {
   "cell_type": "code",
   "execution_count": 6,
   "id": "256c1c34-5fca-4442-bb1e-0b35f79fcecd",
   "metadata": {},
   "outputs": [],
   "source": [
    "n = 2\n",
    "qc = QuantumCircuit()\n",
    "qr = QuantumRegister(n)\n",
    "qc.add_register(qr)"
   ]
  },
  {
   "cell_type": "code",
   "execution_count": 7,
   "id": "c45fefc1-3889-4252-aad9-767f7433cb17",
   "metadata": {},
   "outputs": [
    {
     "data": {
      "text/plain": [
       "<qiskit.circuit.instructionset.InstructionSet at 0x7f74a0f6ec40>"
      ]
     },
     "execution_count": 7,
     "metadata": {},
     "output_type": "execute_result"
    }
   ],
   "source": [
    "qc.h(qr)\n",
    "qc.cx(qr[0], qr[1])\n",
    "qc.z(qr[1])\n",
    "qc.cx(qr[0], qr[1])"
   ]
  },
  {
   "cell_type": "code",
   "execution_count": 8,
   "id": "22c3aa8c-624e-41ed-9ae4-c887ccd54207",
   "metadata": {},
   "outputs": [
    {
     "data": {
      "text/html": [
       "<pre style=\"word-wrap: normal;white-space: pre;background: #fff0;line-height: 1.1;font-family: &quot;Courier New&quot;,Courier,monospace\">      ┌───┐               \n",
       "q3_0: ┤ H ├──■─────────■──\n",
       "      ├───┤┌─┴─┐┌───┐┌─┴─┐\n",
       "q3_1: ┤ H ├┤ X ├┤ Z ├┤ X ├\n",
       "      └───┘└───┘└───┘└───┘</pre>"
      ],
      "text/plain": [
       "      ┌───┐               \n",
       "q3_0: ┤ H ├──■─────────■──\n",
       "      ├───┤┌─┴─┐┌───┐┌─┴─┐\n",
       "q3_1: ┤ H ├┤ X ├┤ Z ├┤ X ├\n",
       "      └───┘└───┘└───┘└───┘"
      ]
     },
     "execution_count": 8,
     "metadata": {},
     "output_type": "execute_result"
    }
   ],
   "source": [
    "qc.draw()"
   ]
  },
  {
   "cell_type": "code",
   "execution_count": 9,
   "id": "59b071bb-26bd-478e-a122-fc58ac67dfcb",
   "metadata": {},
   "outputs": [
    {
     "name": "stdout",
     "output_type": "stream",
     "text": [
      "0.5*|00> - 0.5*|01> - 0.5*|10> + 0.5*|11>\n"
     ]
    }
   ],
   "source": [
    "state = sim_state(qc)"
   ]
  },
  {
   "cell_type": "markdown",
   "id": "b0187419-1b29-45b4-a7b7-d84f9529d9ba",
   "metadata": {},
   "source": [
    "上記の結果の説明について、\n",
    "$$\n",
    "\\begin{align}\n",
    "    \\ket{00} \\xrightarrow{CX} \\ket{00} &\\xrightarrow{2bit目にZ} &\\ket{00} \\xrightarrow{CX} &\\ket{00} \\\\\n",
    "    \\ket{01} \\xrightarrow{CX} \\ket{11} &\\xrightarrow{2bit目にZ} &-\\ket{11} \\xrightarrow{CX} &-\\ket{01} \\\\\n",
    "    \\ket{10} \\xrightarrow{CX} \\ket{10} &\\xrightarrow{2bit目にZ} &-\\ket{10} \\xrightarrow{CX} &-\\ket{10} \\\\\n",
    "    \\ket{11} \\xrightarrow{CX} \\ket{01} &\\xrightarrow{2bit目にZ} &\\ket{01} \\xrightarrow{CX} &\\ket{11} \\\\\n",
    "\\end{align}\n",
    "$$\n",
    "となる。よって最終的に、$\\ket{\\psi} = \\frac{1}{2}\\ket{00} - \\frac{1}{2}\\ket{01} - \\frac{1}{2}\\ket{10} + \\frac{1}{2}\\ket{11}$となる。"
   ]
  },
  {
   "cell_type": "markdown",
   "id": "8b146203-072e-4cda-9c07-9771f8e66850",
   "metadata": {},
   "source": [
    "---\n",
    "### 回転について"
   ]
  },
  {
   "cell_type": "code",
   "execution_count": 10,
   "id": "c42b155d-45e4-4a81-94be-033318ef231c",
   "metadata": {},
   "outputs": [],
   "source": [
    "n = 2\n",
    "qc = QuantumCircuit()\n",
    "qr = QuantumRegister(n)\n",
    "qc.add_register(qr)"
   ]
  },
  {
   "cell_type": "code",
   "execution_count": 11,
   "id": "8c2d2a0f-3ffc-402e-bb04-7ece519157fb",
   "metadata": {},
   "outputs": [
    {
     "data": {
      "text/plain": [
       "<qiskit.circuit.instructionset.InstructionSet at 0x7f74a0f6e1c0>"
      ]
     },
     "execution_count": 11,
     "metadata": {},
     "output_type": "execute_result"
    }
   ],
   "source": [
    "qc.h(qr)\n",
    "\n",
    "theta = 0.5\n",
    "qc.cx(qr[0], qr[1])\n",
    "qc.rz(theta, qr[1]) # z軸周りに角度theta回す\n",
    "qc.cx(qr[0], qr[1])"
   ]
  },
  {
   "cell_type": "code",
   "execution_count": 12,
   "id": "e355f8b5-8e47-4231-b953-90f043523074",
   "metadata": {},
   "outputs": [
    {
     "data": {
      "text/html": [
       "<pre style=\"word-wrap: normal;white-space: pre;background: #fff0;line-height: 1.1;font-family: &quot;Courier New&quot;,Courier,monospace\">      ┌───┐                     \n",
       "q7_0: ┤ H ├──■───────────────■──\n",
       "      ├───┤┌─┴─┐┌─────────┐┌─┴─┐\n",
       "q7_1: ┤ H ├┤ X ├┤ Rz(0.5) ├┤ X ├\n",
       "      └───┘└───┘└─────────┘└───┘</pre>"
      ],
      "text/plain": [
       "      ┌───┐                     \n",
       "q7_0: ┤ H ├──■───────────────■──\n",
       "      ├───┤┌─┴─┐┌─────────┐┌─┴─┐\n",
       "q7_1: ┤ H ├┤ X ├┤ Rz(0.5) ├┤ X ├\n",
       "      └───┘└───┘└─────────┘└───┘"
      ]
     },
     "execution_count": 12,
     "metadata": {},
     "output_type": "execute_result"
    }
   ],
   "source": [
    "qc.draw()"
   ]
  },
  {
   "cell_type": "code",
   "execution_count": 13,
   "id": "9e1f912a-0b33-4003-aca6-ba467bd843f0",
   "metadata": {},
   "outputs": [
    {
     "name": "stdout",
     "output_type": "stream",
     "text": [
      "0.484456210855322*|00> - 0.123701979627261*I*|00> + 0.484456210855322*|01> + 0.123701979627261*I*|01> + 0.484456210855322*|10> + 0.123701979627261*I*|10> + 0.484456210855322*|11> - 0.123701979627261*I*|11>\n"
     ]
    }
   ],
   "source": [
    "state = sim_state(qc)"
   ]
  },
  {
   "cell_type": "code",
   "execution_count": 14,
   "id": "a948960c-6cab-4c13-b436-7602f889e881",
   "metadata": {},
   "outputs": [],
   "source": [
    "from qiskit.quantum_info.operators import Operator, Pauli"
   ]
  },
  {
   "cell_type": "code",
   "execution_count": 15,
   "id": "96d1d85d-5786-4c99-a60e-a129e25a2d5e",
   "metadata": {},
   "outputs": [
    {
     "name": "stdout",
     "output_type": "stream",
     "text": [
      "(4.718447854656915e-16+0j)\n"
     ]
    }
   ],
   "source": [
    "# 期待値の計算　（一度、手でも計算してみたい）\n",
    "op = Operator(Pauli('ZI')) + Operator(Pauli('IZ'))\n",
    "y = state.expectation_value(op)\n",
    "print(y)"
   ]
  },
  {
   "cell_type": "markdown",
   "id": "f45de11a-5a0b-4781-8c62-fa67a6e3e4ca",
   "metadata": {},
   "source": [
    "\n",
    "$Z$ゲートを表す行列は\n",
    "$$\n",
    "Z = \n",
    "\\begin{pmatrix}\n",
    "   1 & 0 \\\\\n",
    "   0 & -1\n",
    "\\end{pmatrix}\n",
    ", I = \n",
    "\\begin{pmatrix}\n",
    "   1 & 0 \\\\\n",
    "   0 & 1\n",
    "\\end{pmatrix}\n",
    "$$\n",
    "\n",
    "$Z \\otimes I + I \\otimes Z = $  \n",
    "また、物理的な意味について。"
   ]
  },
  {
   "cell_type": "markdown",
   "id": "ede26dee-c0ec-40e2-b8fe-45451ca82207",
   "metadata": {},
   "source": [
    "---\n",
    "### Ising Model"
   ]
  },
  {
   "cell_type": "code",
   "execution_count": 16,
   "id": "ddebcb5a-d098-4bdb-ac64-c5c54fc0b58c",
   "metadata": {},
   "outputs": [],
   "source": [
    "n = 2\n",
    "qc = QuantumCircuit()\n",
    "qr = QuantumRegister(n)\n",
    "qc.add_register(qr)"
   ]
  },
  {
   "cell_type": "code",
   "execution_count": 17,
   "id": "0befa533-1b37-4ecf-8ca5-b7412ac8bbf6",
   "metadata": {},
   "outputs": [
    {
     "data": {
      "text/plain": [
       "<qiskit.circuit.instructionset.InstructionSet at 0x7f7482582580>"
      ]
     },
     "execution_count": 17,
     "metadata": {},
     "output_type": "execute_result"
    }
   ],
   "source": [
    "\n",
    "\n",
    "theta_z = 0.3\n",
    "theta_x = 0.5\n",
    "\n",
    "qc.cx(qr[0], qr[1])\n",
    "qc.rz(theta_z, qr[1]) # z軸周りに角度theta回す\n",
    "qc.cx(qr[0], qr[1])\n",
    "\n",
    "# 横磁場をかける。\n",
    "qc.rx(theta_x, qr)"
   ]
  },
  {
   "cell_type": "code",
   "execution_count": 18,
   "id": "8e1f6f51-6c5a-4d06-bd39-42ba7365d19d",
   "metadata": {},
   "outputs": [],
   "source": [
    "def Ising_dynamics(n, theta_z, theta_x):\n",
    "    qc = QuantumCircuit()\n",
    "    qr = QuantumRegister(n)\n",
    "    qc.add_register(qr)\n",
    "\n",
    "    # 横磁場をかける。\n",
    "    for k in range(n):\n",
    "        qc.rx(theta_x[k], qr[k])\n",
    "    # Ising模型の相互作用\n",
    "    if n > 1:\n",
    "        for k in range(n-1):\n",
    "            qc.cx(qr[k], qr[k+1])\n",
    "            qc.rz(theta_z[k+1], qr[k+1])\n",
    "            qc.cx(qr[k], qr[k+1])\n",
    "        qc.cx(qr[n-1], qr[0])\n",
    "        qc.rz(theta_z[0], qr[0])\n",
    "        qc.cx(qr[n-1], qr[0])\n",
    "\n",
    "    UIsing = qc.to_gate()\n",
    "    UIsing.name = 'UIsing'\n",
    "\n",
    "    return UIsing"
   ]
  },
  {
   "cell_type": "code",
   "execution_count": 19,
   "id": "0d184a9b-1b60-4ac3-a8e0-e786f7257c59",
   "metadata": {},
   "outputs": [],
   "source": [
    "def mag_exp(qc, n):\n",
    "    '''\n",
    "    期待値を計算する。\n",
    "    '''\n",
    "    state = sim_state(qc, disp=False)\n",
    "    op = Operator(np.zeros([2**n, 2**n]))\n",
    "    for k in range(n):\n",
    "        op_str = ''\n",
    "        for l in range(n):\n",
    "            if l == k:\n",
    "                op_str += 'Z'\n",
    "            else:\n",
    "                op_str += 'I'\n",
    "        op += Operator(Pauli(op_str))\n",
    "        \n",
    "    y = state.expectation_value(op)/n\n",
    "    return y"
   ]
  },
  {
   "cell_type": "code",
   "execution_count": 20,
   "id": "0f983806-9f3c-4836-a8f0-d61cbcd5ed8a",
   "metadata": {},
   "outputs": [],
   "source": [
    "# Ising modelの量子シミュレーション\n",
    "\n",
    "n = 5\n",
    "Tall = 50\n",
    "m_series = []\n",
    "\n",
    "dt = 0.1\n",
    "\n",
    "qc = QuantumCircuit()\n",
    "qr = QuantumRegister(n)\n",
    "qc.add_register(qr)\n",
    "\n",
    "theta_x = 5.0*np.ones(n)*dt\n",
    "theta_z = 3.0*np.ones(n)*dt\n",
    "\n",
    "UIsing = Ising_dynamics(n, theta_z, theta_x)"
   ]
  },
  {
   "cell_type": "code",
   "execution_count": 21,
   "id": "cb6556bb-bd27-4a7a-9ac2-47a575ee166b",
   "metadata": {},
   "outputs": [],
   "source": [
    "for t in range(Tall):\n",
    "    qc.append(UIsing, qr)\n",
    "    m = mag_exp(qc, n)\n",
    "    m_series.append(m)"
   ]
  },
  {
   "cell_type": "code",
   "execution_count": 22,
   "id": "bf9ec804-e383-4903-ae88-bde547f910a5",
   "metadata": {},
   "outputs": [
    {
     "name": "stderr",
     "output_type": "stream",
     "text": [
      "/home/user/anaconda3/envs/quantum/lib/python3.9/site-packages/matplotlib/cbook.py:1699: ComplexWarning: Casting complex values to real discards the imaginary part\n",
      "  return math.isfinite(val)\n",
      "/home/user/anaconda3/envs/quantum/lib/python3.9/site-packages/matplotlib/cbook.py:1345: ComplexWarning: Casting complex values to real discards the imaginary part\n",
      "  return np.asarray(x, float)\n"
     ]
    },
    {
     "data": {
      "text/plain": [
       "[<matplotlib.lines.Line2D at 0x7f7480d7f490>]"
      ]
     },
     "execution_count": 22,
     "metadata": {},
     "output_type": "execute_result"
    },
    {
     "data": {
      "image/png": "[encoded data removed]",
      "text/plain": [
       "<Figure size 640x480 with 1 Axes>"
      ]
     },
     "metadata": {},
     "output_type": "display_data"
    }
   ],
   "source": [
    "import matplotlib.pyplot as plt\n",
    "plt.plot(m_series)"
   ]
  },
  {
   "cell_type": "markdown",
   "id": "6a2d6b39-77dd-49db-809f-cc9b74366080",
   "metadata": {},
   "source": [
    "---\n",
    "### 量子機械学習"
   ]
  },
  {
   "cell_type": "code",
   "execution_count": 23,
   "id": "6bed21e5-1aa9-44b8-a820-f402e591423a",
   "metadata": {},
   "outputs": [],
   "source": [
    "def U_in(x, n):\n",
    "    '''\n",
    "    Args:\n",
    "        x データ。-1〜1に規格化された\n",
    "    '''\n",
    "    qc = QuantumCircuit()\n",
    "    qr = QuantumRegister(n)\n",
    "    qc.add_register(qr)\n",
    "\n",
    "    angle = np.arcsin(x)\n",
    "    qc.rx(angle, qr)\n",
    "    \n",
    "    U_in = qc.to_gate()\n",
    "    U_in.name = 'U_in'\n",
    "\n",
    "    return U_in"
   ]
  },
  {
   "cell_type": "code",
   "execution_count": 24,
   "id": "7f59c90c-86fe-48b8-987d-8179e4d14585",
   "metadata": {},
   "outputs": [],
   "source": [
    "def QCLinput(x, n):\n",
    "    '''\n",
    "    量子回路を作るための関数\n",
    "    '''\n",
    "    qc = QuantumCircuit()\n",
    "    qr = QuantumRegister(n)\n",
    "    qc.add_register(qr)\n",
    "    qc.append(U_in(x, n), qr)\n",
    "    return qc"
   ]
  },
  {
   "cell_type": "code",
   "execution_count": 25,
   "id": "040f972f-7134-48a0-9f34-3afe95fad611",
   "metadata": {},
   "outputs": [
    {
     "name": "stdout",
     "output_type": "stream",
     "text": [
      "(0.9949874371066201+0j)\n"
     ]
    }
   ],
   "source": [
    "n = 3\n",
    "x = 0.1\n",
    "\n",
    "qc = QCLinput(x, n)\n",
    "y = mag_exp(qc, n)\n",
    "print(y)"
   ]
  },
  {
   "cell_type": "code",
   "execution_count": 26,
   "id": "10f4447a-83f3-4639-947d-f018a65dd3d8",
   "metadata": {},
   "outputs": [
    {
     "data": {
      "text/html": [
       "<pre style=\"word-wrap: normal;white-space: pre;background: #fff0;line-height: 1.1;font-family: &quot;Courier New&quot;,Courier,monospace\">        ┌───────┐\n",
       "q164_0: ┤0      ├\n",
       "        │       │\n",
       "q164_1: ┤1 U_in ├\n",
       "        │       │\n",
       "q164_2: ┤2      ├\n",
       "        └───────┘</pre>"
      ],
      "text/plain": [
       "        ┌───────┐\n",
       "q164_0: ┤0      ├\n",
       "        │       │\n",
       "q164_1: ┤1 U_in ├\n",
       "        │       │\n",
       "q164_2: ┤2      ├\n",
       "        └───────┘"
      ]
     },
     "execution_count": 26,
     "metadata": {},
     "output_type": "execute_result"
    }
   ],
   "source": [
    "qc.draw()"
   ]
  },
  {
   "cell_type": "code",
   "execution_count": 27,
   "id": "6a843b6d-1b3d-4b49-8c9e-38c77ed7661d",
   "metadata": {},
   "outputs": [],
   "source": [
    "x_series = np.linspace(-1, 1, 100)\n",
    "y_series = []\n",
    "\n",
    "for x in x_series:\n",
    "    qc = QCLinput(x, n)\n",
    "    y = mag_exp(qc, n)\n",
    "    y_series.append(y)"
   ]
  },
  {
   "cell_type": "code",
   "execution_count": 28,
   "id": "c751bb75-bbb2-4f76-94ac-ad5e50d9fbca",
   "metadata": {},
   "outputs": [
    {
     "data": {
      "image/png": "[encoded data removed]",
      "text/plain": [
       "<Figure size 640x480 with 1 Axes>"
      ]
     },
     "metadata": {},
     "output_type": "display_data"
    }
   ],
   "source": [
    "plt.plot(x_series, y_series)\n",
    "plt.show()"
   ]
  },
  {
   "cell_type": "code",
   "execution_count": 29,
   "id": "a3932e24-77ab-48e6-847e-3f2ff8099fb6",
   "metadata": {},
   "outputs": [],
   "source": [
    "def U_rot(n, params):\n",
    "    '''\n",
    "    Args:\n",
    "        n (int):\n",
    "        params (list): rx: 0, 1, 2, ..., n-1\n",
    "                       ry: n, n+1, n+2, ..., n+n-1\n",
    "                       rz: 2n, 2n+1, 2n+2, ..., 2n+n-1\n",
    "    '''\n",
    "    qc = QuantumCircuit()\n",
    "    qr = QuantumRegister(n)\n",
    "    qc.add_register(qr)\n",
    "    for k in range(n):\n",
    "        qc.rx(params[k], qr[k])\n",
    "        qc.ry(params[n+k], qr[k])\n",
    "        qc.rz(params[2*n+k], qr[k])\n",
    "    Urot = qc.to_gate()\n",
    "    Urot.name = 'Urot'\n",
    "    return Urot"
   ]
  },
  {
   "cell_type": "code",
   "execution_count": 30,
   "id": "fb1d092e-4bd7-4adb-b8b0-51b44edd3b76",
   "metadata": {},
   "outputs": [],
   "source": [
    "y_series = []\n",
    "params = np.random.rand(3*n)*2*np.pi\n",
    "\n",
    "for x in x_series:\n",
    "    # 入力層\n",
    "    qc = QCLinput(x, n)\n",
    "    qr = qc.qubits\n",
    "    # 中間層\n",
    "    qc.append(U_rot(n, params), qr)\n",
    "    # 出力層\n",
    "    y = mag_exp(qc, n)\n",
    "    y_series.append(y)"
   ]
  },
  {
   "cell_type": "code",
   "execution_count": 31,
   "id": "f9e3c0f6-c7e2-46bf-95a1-1c617e65f059",
   "metadata": {},
   "outputs": [
    {
     "data": {
      "text/html": [
       "<pre style=\"word-wrap: normal;white-space: pre;background: #fff0;line-height: 1.1;font-family: &quot;Courier New&quot;,Courier,monospace\">         ┌───────┐┌───────┐\n",
       "q1061_0: ┤0      ├┤0      ├\n",
       "         │       ││       │\n",
       "q1061_1: ┤1 U_in ├┤1 Urot ├\n",
       "         │       ││       │\n",
       "q1061_2: ┤2      ├┤2      ├\n",
       "         └───────┘└───────┘</pre>"
      ],
      "text/plain": [
       "         ┌───────┐┌───────┐\n",
       "q1061_0: ┤0      ├┤0      ├\n",
       "         │       ││       │\n",
       "q1061_1: ┤1 U_in ├┤1 Urot ├\n",
       "         │       ││       │\n",
       "q1061_2: ┤2      ├┤2      ├\n",
       "         └───────┘└───────┘"
      ]
     },
     "execution_count": 31,
     "metadata": {},
     "output_type": "execute_result"
    }
   ],
   "source": [
    "qc.draw()"
   ]
  },
  {
   "cell_type": "code",
   "execution_count": 32,
   "id": "d23510a0-aa9c-4dc1-a731-eba247e6bfcd",
   "metadata": {},
   "outputs": [
    {
     "data": {
      "image/png": "[encoded data removed]",
      "text/plain": [
       "<Figure size 640x480 with 1 Axes>"
      ]
     },
     "metadata": {},
     "output_type": "display_data"
    }
   ],
   "source": [
    "plt.plot(x_series, y_series)\n",
    "plt.show()"
   ]
  },
  {
   "cell_type": "code",
   "execution_count": 33,
   "id": "03f196b6-e388-45e3-874c-2ee071484140",
   "metadata": {},
   "outputs": [],
   "source": [
    "def U_ent(n):\n",
    "    '''\n",
    "    entanglement\n",
    "    '''\n",
    "    qc = QuantumCircuit()\n",
    "    qr = QuantumRegister(n)\n",
    "    qc.add_register(qr)\n",
    "\n",
    "    if n > 1:\n",
    "        for k in range(n-1):\n",
    "            qc.cz(qr[k], qr[k+1])\n",
    "        qc.cz(qr[n-1], qr[0])\n",
    "\n",
    "    Uent = qc.to_gate()\n",
    "    Uent.name = 'U_ent'\n",
    "\n",
    "    return Uent    "
   ]
  },
  {
   "cell_type": "code",
   "execution_count": 34,
   "id": "86a072d8-3ab4-4228-a92a-985449045f76",
   "metadata": {},
   "outputs": [],
   "source": [
    "y_series = []\n",
    "depth = 3\n",
    "params = np.random.rand(3*n*depth)*2*np.pi\n",
    "\n",
    "for x in x_series:\n",
    "    # 入力層\n",
    "    qc = QCLinput(x, n)\n",
    "    qr = qc.qubits\n",
    "    # 中間層\n",
    "    for k in range(depth):\n",
    "        qc.append(U_ent(n), qr)\n",
    "        qc.append(U_rot(n, params[k*3*n:(k+1)*3*n]), qr)\n",
    "    # 出力層\n",
    "    y = mag_exp(qc, n)\n",
    "    y_series.append(y)"
   ]
  },
  {
   "cell_type": "code",
   "execution_count": 35,
   "id": "447dcc95-34dc-41ba-ae65-25e3280749fa",
   "metadata": {},
   "outputs": [
    {
     "data": {
      "text/html": [
       "<pre style=\"word-wrap: normal;white-space: pre;background: #fff0;line-height: 1.1;font-family: &quot;Courier New&quot;,Courier,monospace\">         ┌───────┐┌────────┐┌───────┐┌────────┐┌───────┐┌────────┐┌───────┐\n",
       "q2255_0: ┤0      ├┤0       ├┤0      ├┤0       ├┤0      ├┤0       ├┤0      ├\n",
       "         │       ││        ││       ││        ││       ││        ││       │\n",
       "q2255_1: ┤1 U_in ├┤1 U_ent ├┤1 Urot ├┤1 U_ent ├┤1 Urot ├┤1 U_ent ├┤1 Urot ├\n",
       "         │       ││        ││       ││        ││       ││        ││       │\n",
       "q2255_2: ┤2      ├┤2       ├┤2      ├┤2       ├┤2      ├┤2       ├┤2      ├\n",
       "         └───────┘└────────┘└───────┘└────────┘└───────┘└────────┘└───────┘</pre>"
      ],
      "text/plain": [
       "         ┌───────┐┌────────┐┌───────┐┌────────┐┌───────┐┌────────┐┌───────┐\n",
       "q2255_0: ┤0      ├┤0       ├┤0      ├┤0       ├┤0      ├┤0       ├┤0      ├\n",
       "         │       ││        ││       ││        ││       ││        ││       │\n",
       "q2255_1: ┤1 U_in ├┤1 U_ent ├┤1 Urot ├┤1 U_ent ├┤1 Urot ├┤1 U_ent ├┤1 Urot ├\n",
       "         │       ││        ││       ││        ││       ││        ││       │\n",
       "q2255_2: ┤2      ├┤2       ├┤2      ├┤2       ├┤2      ├┤2       ├┤2      ├\n",
       "         └───────┘└────────┘└───────┘└────────┘└───────┘└────────┘└───────┘"
      ]
     },
     "execution_count": 35,
     "metadata": {},
     "output_type": "execute_result"
    }
   ],
   "source": [
    "qc.draw()"
   ]
  },
  {
   "cell_type": "code",
   "execution_count": 36,
   "id": "f0e98a29-3de1-409b-827d-c564ae00a702",
   "metadata": {},
   "outputs": [
    {
     "data": {
      "image/png": "[encoded data removed]",
      "text/plain": [
       "<Figure size 640x480 with 1 Axes>"
      ]
     },
     "metadata": {},
     "output_type": "display_data"
    }
   ],
   "source": [
    "plt.plot(x_series, y_series)\n",
    "plt.show()"
   ]
  },
  {
   "cell_type": "markdown",
   "id": "1811f933-3502-4701-9498-88a3a8079022",
   "metadata": {},
   "source": [
    "#### 学習"
   ]
  },
  {
   "cell_type": "code",
   "execution_count": 37,
   "id": "6433f15e-cee7-4d9f-9f6c-0a6ca8643044",
   "metadata": {},
   "outputs": [],
   "source": [
    "# 真値\n",
    "func = lambda x: 0.5*x**3"
   ]
  },
  {
   "cell_type": "code",
   "execution_count": 38,
   "id": "f6d03576-9b2f-44ae-a7f7-a83c36bf3513",
   "metadata": {},
   "outputs": [],
   "source": [
    "ntrain = 10\n",
    "\n",
    "# 訓練データ（-1〜1）\n",
    "xtrain = 2*np.random.rand(ntrain)-1\n",
    "# 教師データ\n",
    "ytrain = func(xtrain)"
   ]
  },
  {
   "cell_type": "code",
   "execution_count": 39,
   "id": "e595e752-6b51-410d-9126-be1ee226e71c",
   "metadata": {},
   "outputs": [
    {
     "data": {
      "image/png": "[encoded data removed]",
      "text/plain": [
       "<Figure size 640x480 with 1 Axes>"
      ]
     },
     "metadata": {},
     "output_type": "display_data"
    }
   ],
   "source": [
    "plt.scatter(xtrain, ytrain)\n",
    "plt.xlim([-1, 1])\n",
    "plt.ylim([-0.5, 0.5])\n",
    "plt.show()"
   ]
  },
  {
   "cell_type": "code",
   "execution_count": 40,
   "id": "75cbdb8e-ced6-45b3-8eb7-26ad885ced5f",
   "metadata": {},
   "outputs": [],
   "source": [
    "def cost_func(params):\n",
    "    '''\n",
    "    コスト関数\n",
    "    '''\n",
    "    cost_total = 0\n",
    "    for k in range(ntrain):\n",
    "        x = xtrain[k]\n",
    "        qc = QCLinput(x, n)\n",
    "        qr = qc.qubits\n",
    "        for d in range(depth):\n",
    "            qc.append(U_ent(n), qr)\n",
    "            qc.append(U_rot(n, params[d*3*n:(d+1)*3*n]), qr)\n",
    "        y = mag_exp(qc, n)\n",
    "        cost = 0.5*(ytrain[k]-y)**2\n",
    "        cost_total += cost\n",
    "    cost_total /= ntrain\n",
    "    return cost_total"
   ]
  },
  {
   "cell_type": "code",
   "execution_count": 41,
   "id": "de3fff59-db07-4b43-9f6e-39fab004e8e1",
   "metadata": {},
   "outputs": [
    {
     "name": "stderr",
     "output_type": "stream",
     "text": [
      "/home/user/anaconda3/envs/quantum/lib/python3.9/site-packages/scipy/optimize/_cobyla_py.py:293: ComplexWarning: Casting complex values to real discards the imaginary part\n",
      "  xopt, info = cobyla.minimize(calcfc, m=m, x=np.copy(x0), rhobeg=rhobeg,\n"
     ]
    }
   ],
   "source": [
    "from scipy.optimize import minimize\n",
    "\n",
    "# 勾配を使わない、探索的な最適化方法\n",
    "result =  minimize(cost_func, params, method='COBYLA', options={'maxiter': 50})"
   ]
  },
  {
   "cell_type": "code",
   "execution_count": 42,
   "id": "1a3d9fd1-4730-4b44-a90a-42cb1ee3b6e0",
   "metadata": {},
   "outputs": [
    {
     "data": {
      "text/plain": [
       "0.0006175679921497584"
      ]
     },
     "execution_count": 42,
     "metadata": {},
     "output_type": "execute_result"
    }
   ],
   "source": [
    "# 0に近いほうが良い。\n",
    "result.fun"
   ]
  },
  {
   "cell_type": "code",
   "execution_count": 43,
   "id": "d56f49af-c58a-487d-8f9f-782ea79ac4fc",
   "metadata": {},
   "outputs": [
    {
     "data": {
      "text/plain": [
       "array([2.0833258 , 3.92104331, 4.39718552, 1.76831441, 4.40360522,\n",
       "       4.64364933, 1.41496936, 2.66162753, 4.46048825, 5.43884493,\n",
       "       1.17650609, 0.0794803 , 2.58360064, 6.26139032, 0.92113448,\n",
       "       5.9165779 , 3.79691425, 3.6880197 , 2.48654529, 1.31895073,\n",
       "       7.25368408, 4.60155874, 3.97665176, 3.55139356, 4.31669774,\n",
       "       2.84165533, 4.91029984])"
      ]
     },
     "execution_count": 43,
     "metadata": {},
     "output_type": "execute_result"
    }
   ],
   "source": [
    "result.x"
   ]
  },
  {
   "cell_type": "code",
   "execution_count": 44,
   "id": "52a82447-d475-4ddb-8ed6-5fc7e80121c9",
   "metadata": {},
   "outputs": [],
   "source": [
    "# 学習済みのパラメータを使って推論\n",
    "y_series = []\n",
    "params = result.x\n",
    "\n",
    "for x in x_series:\n",
    "    qc = QCLinput(x, n)\n",
    "    qr = qc.qubits\n",
    "    for d in range(depth):\n",
    "        qc.append(U_ent(n), qr)\n",
    "        qc.append(U_rot(n, params[d*3*n:(d+1)*3*n]), qr)\n",
    "    y = mag_exp(qc, n)\n",
    "    y_series.append(y)"
   ]
  },
  {
   "cell_type": "code",
   "execution_count": 45,
   "id": "4f882bc8-8aea-4158-818a-e0129dc2981e",
   "metadata": {},
   "outputs": [],
   "source": [
    "y_correct = func(x_series)"
   ]
  },
  {
   "cell_type": "code",
   "execution_count": 46,
   "id": "b894f251-54fc-439a-811b-e4171bf5bb32",
   "metadata": {},
   "outputs": [
    {
     "name": "stderr",
     "output_type": "stream",
     "text": [
      "/home/user/anaconda3/envs/quantum/lib/python3.9/site-packages/matplotlib/cbook.py:1699: ComplexWarning: Casting complex values to real discards the imaginary part\n",
      "  return math.isfinite(val)\n",
      "/home/user/anaconda3/envs/quantum/lib/python3.9/site-packages/matplotlib/cbook.py:1345: ComplexWarning: Casting complex values to real discards the imaginary part\n",
      "  return np.asarray(x, float)\n"
     ]
    },
    {
     "data": {
      "image/png": "[encoded data removed]",
      "text/plain": [
       "<Figure size 640x480 with 1 Axes>"
      ]
     },
     "metadata": {},
     "output_type": "display_data"
    }
   ],
   "source": [
    "plt.scatter(xtrain, ytrain)\n",
    "plt.plot(x_series, y_correct)\n",
    "plt.plot(x_series, y_series)\n",
    "plt.show()"
   ]
  }
 ],
 "metadata": {
  "kernelspec": {
   "display_name": "Python 3 (ipykernel)",
   "language": "python",
   "name": "python3"
  },
  "language_info": {
   "codemirror_mode": {
    "name": "ipython",
    "version": 3
   },
   "file_extension": ".py",
   "mimetype": "text/x-python",
   "name": "python",
   "nbconvert_exporter": "python",
   "pygments_lexer": "ipython3",
   "version": "3.9.19"
  }
 },
 "nbformat": 4,
 "nbformat_minor": 5
}
