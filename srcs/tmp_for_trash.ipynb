{
 "cells": [
  {
   "cell_type": "markdown",
   "id": "878faede-2645-46fd-9a5a-3a98e3550edf",
   "metadata": {},
   "source": [
    "# MNIST classification with Qiskit"
   ]
  },
  {
   "cell_type": "code",
   "execution_count": 1,
   "id": "6401e06a-4416-459a-917e-159088f36824",
   "metadata": {},
   "outputs": [],
   "source": [
    "from qiskit import QuantumCircuit, QuantumRegister, transpile\n",
    "from qiskit_aer import Aer\n",
    "from qiskit.visualization import array_to_latex\n",
    "\n",
    "import numpy as np\n",
    "from sympy.physics.quantum.qubit import matrix_to_qubit\n",
    "from qiskit.quantum_info.operators import Operator, Pauli"
   ]
  },
  {
   "cell_type": "code",
   "execution_count": 2,
   "id": "4ef3cc1b-0222-4648-9c7f-c3ec53a28189",
   "metadata": {},
   "outputs": [],
   "source": [
    "def sim_state(qc, disp=True):\n",
    "    '''\n",
    "    量子回路qcの量子状態を取得する。\n",
    "\n",
    "    Args:\n",
    "        qc (QuantumCircuit): 量子回路\n",
    "        disp (Bool): Trueにするとketベクトルの線型結合の形で量子状態表記を得る。\n",
    "    '''\n",
    "    sim = Aer.get_backend('statevector_simulator')\n",
    "    qc = transpile(qc, backend=sim)\n",
    "    res = sim.run(qc).result()\n",
    "    state = res.data()['statevector']\n",
    "    if disp:\n",
    "        ket = matrix_to_qubit(np.array(state)[:, np.newaxis])\n",
    "        print(ket)\n",
    "    return state"
   ]
  },
  {
   "cell_type": "code",
   "execution_count": 3,
   "id": "0d184a9b-1b60-4ac3-a8e0-e786f7257c59",
   "metadata": {},
   "outputs": [],
   "source": [
    "def mag_exp(qc, n):\n",
    "    '''\n",
    "    引数に与えられた期待値を計算する。\n",
    "\n",
    "    Args:\n",
    "        qc (QuantumCircuit): 量子回路\n",
    "        n (int): qubit数\n",
    "\n",
    "    Returns:\n",
    "        y (float): 期待値\n",
    "    '''\n",
    "    state = sim_state(qc, disp=False)\n",
    "    op = Operator(np.zeros([2**n, 2**n]))\n",
    "    for k in range(n):\n",
    "        op_str = ''\n",
    "        for l in range(n):\n",
    "            if l == k:\n",
    "                op_str += 'Z'\n",
    "            else:\n",
    "                op_str += 'I'\n",
    "        op += Operator(Pauli(op_str))\n",
    "        \n",
    "    y = state.expectation_value(op)/n\n",
    "    return y"
   ]
  },
  {
   "cell_type": "code",
   "execution_count": 4,
   "id": "0f983806-9f3c-4836-a8f0-d61cbcd5ed8a",
   "metadata": {},
   "outputs": [],
   "source": [
    "def U_in(x, n):\n",
    "    '''\n",
    "    Args:\n",
    "        x データ。-1〜1に規格化された\n",
    "    '''\n",
    "    qc = QuantumCircuit()\n",
    "    qr = QuantumRegister(n)\n",
    "    qc.add_register(qr)\n",
    "\n",
    "    angle = np.arcsin(x)\n",
    "    qc.rx(angle, qr)\n",
    "    \n",
    "    U_in = qc.to_gate()\n",
    "    U_in.name = 'U_in'\n",
    "\n",
    "    return U_in"
   ]
  },
  {
   "cell_type": "code",
   "execution_count": 5,
   "id": "cb6556bb-bd27-4a7a-9ac2-47a575ee166b",
   "metadata": {},
   "outputs": [],
   "source": [
    "def QCLinput(x, n):\n",
    "    '''\n",
    "    量子回路を作るための関数\n",
    "    '''\n",
    "    qc = QuantumCircuit()\n",
    "    qr = QuantumRegister(n)\n",
    "    qc.add_register(qr)\n",
    "    qc.append(U_in(x, n), qr)\n",
    "    return qc"
   ]
  },
  {
   "cell_type": "code",
   "execution_count": 6,
   "id": "bf9ec804-e383-4903-ae88-bde547f910a5",
   "metadata": {},
   "outputs": [],
   "source": [
    "def U_rot(n, params):\n",
    "    '''\n",
    "    Args:\n",
    "        n (int):\n",
    "        params (list): rx: 0, 1, 2, ..., n-1\n",
    "                       ry: n, n+1, n+2, ..., n+n-1\n",
    "                       rz: 2n, 2n+1, 2n+2, ..., 2n+n-1\n",
    "    '''\n",
    "    qc = QuantumCircuit()\n",
    "    qr = QuantumRegister(n)\n",
    "    qc.add_register(qr)\n",
    "    for k in range(n):\n",
    "        qc.rx(params[k], qr[k])\n",
    "        qc.ry(params[n+k], qr[k])\n",
    "        qc.rz(params[2*n+k], qr[k])\n",
    "    Urot = qc.to_gate()\n",
    "    Urot.name = 'Urot'\n",
    "    return Urot\n"
   ]
  },
  {
   "cell_type": "code",
   "execution_count": 7,
   "id": "4605a557-1d81-4cc5-920c-c1bb671f93cf",
   "metadata": {},
   "outputs": [
    {
     "ename": "NameError",
     "evalue": "name 'n' is not defined",
     "output_type": "error",
     "traceback": [
      "\u001b[0;31m---------------------------------------------------------------------------\u001b[0m",
      "\u001b[0;31mNameError\u001b[0m                                 Traceback (most recent call last)",
      "Cell \u001b[0;32mIn[7], line 2\u001b[0m\n\u001b[1;32m      1\u001b[0m y_series \u001b[38;5;241m=\u001b[39m []\n\u001b[0;32m----> 2\u001b[0m params \u001b[38;5;241m=\u001b[39m np\u001b[38;5;241m.\u001b[39mrandom\u001b[38;5;241m.\u001b[39mrand(\u001b[38;5;241m3\u001b[39m\u001b[38;5;241m*\u001b[39m\u001b[43mn\u001b[49m)\u001b[38;5;241m*\u001b[39m\u001b[38;5;241m2\u001b[39m\u001b[38;5;241m*\u001b[39mnp\u001b[38;5;241m.\u001b[39mpi\n\u001b[1;32m      4\u001b[0m \u001b[38;5;28;01mfor\u001b[39;00m x \u001b[38;5;129;01min\u001b[39;00m x_series:\n\u001b[1;32m      5\u001b[0m     \u001b[38;5;66;03m# 入力層\u001b[39;00m\n\u001b[1;32m      6\u001b[0m     qc \u001b[38;5;241m=\u001b[39m QCLinput(x, n)\n",
      "\u001b[0;31mNameError\u001b[0m: name 'n' is not defined"
     ]
    }
   ],
   "source": [
    "y_series = []\n",
    "params = np.random.rand(3*n)*2*np.pi\n",
    "\n",
    "for x in x_series:\n",
    "    # 入力層\n",
    "    qc = QCLinput(x, n)\n",
    "    qr = qc.qubits\n",
    "    # 中間層\n",
    "    qc.append(U_rot(n, params), qr)\n",
    "    # 出力層\n",
    "    y = mag_exp(qc, n)\n",
    "    y_series.append(y)"
   ]
  },
  {
   "cell_type": "code",
   "execution_count": null,
   "id": "bf296a5d-db11-431b-8f66-276cb62748b8",
   "metadata": {},
   "outputs": [],
   "source": [
    "qc.draw()"
   ]
  },
  {
   "cell_type": "code",
   "execution_count": null,
   "id": "e5f5f0f4-997b-4c89-9d79-4f700d7af4f3",
   "metadata": {},
   "outputs": [],
   "source": [
    "def U_ent(n):\n",
    "    '''\n",
    "    entanglement\n",
    "    '''\n",
    "    qc = QuantumCircuit()\n",
    "    qr = QuantumRegister(n)\n",
    "    qc.add_register(qr)\n",
    "\n",
    "    if n > 1:\n",
    "        for k in range(n-1):\n",
    "            qc.cz(qr[k], qr[k+1])\n",
    "        qc.cz(qr[n-1], qr[0])\n",
    "\n",
    "    Uent = qc.to_gate()\n",
    "    Uent.name = 'U_ent'\n",
    "\n",
    "    return Uent    \n"
   ]
  },
  {
   "cell_type": "code",
   "execution_count": null,
   "id": "ccad23a3-d44a-4a31-bd6d-f7ff7ad0a68a",
   "metadata": {},
   "outputs": [],
   "source": [
    "y_series = []\n",
    "depth = 3\n",
    "params = np.random.rand(3*n*depth)*2*np.pi\n",
    "\n",
    "for x in x_series:\n",
    "    # 入力層\n",
    "    qc = QCLinput(x, n)\n",
    "    qr = qc.qubits\n",
    "    # 中間層\n",
    "    for k in range(depth):\n",
    "        qc.append(U_ent(n), qr)\n",
    "        qc.append(U_rot(n, params[k*3*n:(k+1)*3*n]), qr)\n",
    "    # 出力層\n",
    "    y = mag_exp(qc, n)\n",
    "    y_series.append(y)\n"
   ]
  },
  {
   "cell_type": "code",
   "execution_count": null,
   "id": "55090914-6c1d-4ae0-9618-d1e59ffba544",
   "metadata": {},
   "outputs": [],
   "source": [
    "qc.draw()\n"
   ]
  },
  {
   "cell_type": "code",
   "execution_count": null,
   "id": "06fc1474-13a6-4a12-a43b-27eb4d466ac7",
   "metadata": {},
   "outputs": [],
   "source": [
    "plt.plot(x_series, y_series)\n",
    "plt.show()\n"
   ]
  },
  {
   "cell_type": "markdown",
   "id": "9234c4f6-5a4a-4ee2-aa8f-e2316083d037",
   "metadata": {},
   "source": [
    "### 学習"
   ]
  },
  {
   "cell_type": "code",
   "execution_count": null,
   "id": "99f421fe-b264-4b80-b2b2-62ac60a3f0be",
   "metadata": {},
   "outputs": [],
   "source": [
    "# 真値\n",
    "func = lambda x: 0.5*x**3"
   ]
  },
  {
   "cell_type": "code",
   "execution_count": null,
   "id": "05ef9c49-6294-444b-b313-8aad3a4f1b97",
   "metadata": {},
   "outputs": [],
   "source": [
    "ntrain = 10\n",
    "\n",
    "# 訓練データ（-1〜1）\n",
    "xtrain = 2*np.random.rand(ntrain)-1\n",
    "# 教師データ\n",
    "ytrain = func(xtrain)"
   ]
  },
  {
   "cell_type": "code",
   "execution_count": null,
   "id": "e19271a0-8d30-4ded-a780-fb9e29208ec2",
   "metadata": {},
   "outputs": [],
   "source": [
    "plt.scatter(xtrain, ytrain)\n",
    "plt.xlim([-1, 1])\n",
    "plt.ylim([-0.5, 0.5])\n",
    "plt.show()"
   ]
  },
  {
   "cell_type": "code",
   "execution_count": null,
   "id": "9b49b6df-b335-4dee-93d6-ae4f24c716d1",
   "metadata": {},
   "outputs": [],
   "source": [
    "def cost_func(params):\n",
    "    '''\n",
    "    コスト関数\n",
    "    '''\n",
    "    cost_total = 0\n",
    "    for k in range(ntrain):\n",
    "        x = xtrain[k]\n",
    "        qc = QCLinput(x, n)\n",
    "        qr = qc.qubits\n",
    "        for d in range(depth):\n",
    "            qc.append(U_ent(n), qr)\n",
    "            qc.append(U_rot(n, params[d*3*n:(d+1)*3*n]), qr)\n",
    "        y = mag_exp(qc, n)\n",
    "        cost = 0.5*(ytrain[k]-y)**2\n",
    "        cost_total += cost\n",
    "    cost_total /= ntrain\n",
    "    return cost_total\n"
   ]
  },
  {
   "cell_type": "code",
   "execution_count": null,
   "id": "e747d531-0de1-4323-a382-8c68584b88f0",
   "metadata": {},
   "outputs": [],
   "source": [
    "from scipy.optimize import minimize\n",
    "\n",
    "# 勾配を使わない、探索的な最適化方法\n",
    "result =  minimize(cost_func, params, method='COBYLA', options={'maxiter': 50})"
   ]
  },
  {
   "cell_type": "code",
   "execution_count": null,
   "id": "954c1624-23e8-4d67-90cb-a06cc0ed7f26",
   "metadata": {},
   "outputs": [],
   "source": [
    "# 0に近いほうが良い。\n",
    "result.fun\n"
   ]
  },
  {
   "cell_type": "code",
   "execution_count": null,
   "id": "a36cf4c7-e605-492d-afee-7a4b7b84d103",
   "metadata": {},
   "outputs": [],
   "source": [
    "result.x\n"
   ]
  },
  {
   "cell_type": "code",
   "execution_count": null,
   "id": "a0a758b0-2b6d-4f8a-b16e-6cd5077e6dd1",
   "metadata": {},
   "outputs": [],
   "source": [
    "# 学習済みのパラメータを使って推論\n",
    "y_series = []\n",
    "params = result.x\n",
    "\n",
    "for x in x_series:\n",
    "    qc = QCLinput(x, n)\n",
    "    qr = qc.qubits\n",
    "    for d in range(depth):\n",
    "        qc.append(U_ent(n), qr)\n",
    "        qc.append(U_rot(n, params[d*3*n:(d+1)*3*n]), qr)\n",
    "    y = mag_exp(qc, n)\n",
    "    y_series.append(y)"
   ]
  },
  {
   "cell_type": "code",
   "execution_count": null,
   "id": "043b4623-5a76-4562-b00e-b6b82869c7e6",
   "metadata": {},
   "outputs": [],
   "source": [
    "y_correct = func(x_series)\n"
   ]
  },
  {
   "cell_type": "code",
   "execution_count": null,
   "id": "e8c94d72-a895-4191-83e9-0cc14a3937ee",
   "metadata": {},
   "outputs": [],
   "source": [
    "plt.scatter(xtrain, ytrain)\n",
    "plt.plot(x_series, y_correct)\n",
    "plt.plot(x_series, y_series)\n",
    "plt.show()"
   ]
  },
  {
   "cell_type": "code",
   "execution_count": null,
   "id": "a517d416-0dd8-4484-ad5b-5b8b51a3236a",
   "metadata": {},
   "outputs": [],
   "source": []
  },
  {
   "cell_type": "code",
   "execution_count": null,
   "id": "86d6f9e7-3051-4b76-85de-86ba1cc8d5c2",
   "metadata": {},
   "outputs": [],
   "source": []
  },
  {
   "cell_type": "code",
   "execution_count": null,
   "id": "639d86c9-424a-470c-90b8-4695d4126bc3",
   "metadata": {},
   "outputs": [],
   "source": []
  },
  {
   "cell_type": "code",
   "execution_count": null,
   "id": "6bed21e5-1aa9-44b8-a820-f402e591423a",
   "metadata": {},
   "outputs": [],
   "source": [
    "def U_in(x, n):\n",
    "    '''\n",
    "    \n",
    "    Args:\n",
    "        x データ。-1〜1に規格化された\n",
    "        n\n",
    "    '''\n",
    "    qc = QuantumCircuit()\n",
    "    qr = QuantumRegister(n)\n",
    "    qc.add_register(qr)\n",
    "\n",
    "    angle = np.arcsin(x)\n",
    "    qc.rx(angle, qr)\n",
    "    \n",
    "    U_in = qc.to_gate()\n",
    "    U_in.name = 'U_in'\n",
    "\n",
    "    return U_in"
   ]
  },
  {
   "cell_type": "code",
   "execution_count": null,
   "id": "7f59c90c-86fe-48b8-987d-8179e4d14585",
   "metadata": {},
   "outputs": [],
   "source": [
    "def QCLinput(x, n):\n",
    "    '''\n",
    "    量子回路を作るための関数\n",
    "    '''\n",
    "    qc = QuantumCircuit()\n",
    "    qr = QuantumRegister(n)\n",
    "    qc.add_register(qr)\n",
    "    qc.append(U_in(x, n), qr)\n",
    "    return qc"
   ]
  },
  {
   "cell_type": "code",
   "execution_count": null,
   "id": "040f972f-7134-48a0-9f34-3afe95fad611",
   "metadata": {},
   "outputs": [],
   "source": [
    "n = 3\n",
    "x = 0.1\n",
    "\n",
    "qc = QCLinput(x, n)\n",
    "y = mag_exp(qc, n)\n",
    "print(y)"
   ]
  },
  {
   "cell_type": "code",
   "execution_count": null,
   "id": "10f4447a-83f3-4639-947d-f018a65dd3d8",
   "metadata": {},
   "outputs": [],
   "source": [
    "qc.draw()"
   ]
  },
  {
   "cell_type": "code",
   "execution_count": null,
   "id": "6a843b6d-1b3d-4b49-8c9e-38c77ed7661d",
   "metadata": {},
   "outputs": [],
   "source": [
    "x_series = np.linspace(-1, 1, 100)\n",
    "y_series = []\n",
    "\n",
    "for x in x_series:\n",
    "    qc = QCLinput(x, n)\n",
    "    y = mag_exp(qc, n)\n",
    "    y_series.append(y)"
   ]
  },
  {
   "cell_type": "code",
   "execution_count": null,
   "id": "c751bb75-bbb2-4f76-94ac-ad5e50d9fbca",
   "metadata": {},
   "outputs": [],
   "source": [
    "plt.plot(x_series, y_series)\n",
    "plt.show()"
   ]
  },
  {
   "cell_type": "code",
   "execution_count": null,
   "id": "a3932e24-77ab-48e6-847e-3f2ff8099fb6",
   "metadata": {},
   "outputs": [],
   "source": [
    "def U_rot(n, params):\n",
    "    '''\n",
    "    Args:\n",
    "        n (int):\n",
    "        params (list): rx: 0, 1, 2, ..., n-1\n",
    "                       ry: n, n+1, n+2, ..., n+n-1\n",
    "                       rz: 2n, 2n+1, 2n+2, ..., 2n+n-1\n",
    "    '''\n",
    "    qc = QuantumCircuit()\n",
    "    qr = QuantumRegister(n)\n",
    "    qc.add_register(qr)\n",
    "    for k in range(n):\n",
    "        qc.rx(params[k], qr[k])\n",
    "        qc.ry(params[n+k], qr[k])\n",
    "        qc.rz(params[2*n+k], qr[k])\n",
    "    Urot = qc.to_gate()\n",
    "    Urot.name = 'Urot'\n",
    "    return Urot"
   ]
  },
  {
   "cell_type": "code",
   "execution_count": null,
   "id": "fb1d092e-4bd7-4adb-b8b0-51b44edd3b76",
   "metadata": {},
   "outputs": [],
   "source": [
    "y_series = []\n",
    "params = np.random.rand(3*n)*2*np.pi\n",
    "\n",
    "for x in x_series:\n",
    "    # 入力層\n",
    "    qc = QCLinput(x, n)\n",
    "    qr = qc.qubits\n",
    "    # 中間層\n",
    "    qc.append(U_rot(n, params), qr)\n",
    "    # 出力層\n",
    "    y = mag_exp(qc, n)\n",
    "    y_series.append(y)"
   ]
  },
  {
   "cell_type": "code",
   "execution_count": null,
   "id": "f9e3c0f6-c7e2-46bf-95a1-1c617e65f059",
   "metadata": {},
   "outputs": [],
   "source": [
    "qc.draw()"
   ]
  },
  {
   "cell_type": "code",
   "execution_count": null,
   "id": "d23510a0-aa9c-4dc1-a731-eba247e6bfcd",
   "metadata": {},
   "outputs": [],
   "source": [
    "plt.plot(x_series, y_series)\n",
    "plt.show()"
   ]
  },
  {
   "cell_type": "code",
   "execution_count": null,
   "id": "03f196b6-e388-45e3-874c-2ee071484140",
   "metadata": {},
   "outputs": [],
   "source": [
    "def U_ent(n):\n",
    "    '''\n",
    "    entanglement\n",
    "    '''\n",
    "    qc = QuantumCircuit()\n",
    "    qr = QuantumRegister(n)\n",
    "    qc.add_register(qr)\n",
    "\n",
    "    if n > 1:\n",
    "        for k in range(n-1):\n",
    "            qc.cz(qr[k], qr[k+1])\n",
    "        qc.cz(qr[n-1], qr[0])\n",
    "\n",
    "    Uent = qc.to_gate()\n",
    "    Uent.name = 'U_ent'\n",
    "\n",
    "    return Uent    "
   ]
  },
  {
   "cell_type": "code",
   "execution_count": null,
   "id": "86a072d8-3ab4-4228-a92a-985449045f76",
   "metadata": {},
   "outputs": [],
   "source": [
    "y_series = []\n",
    "depth = 3\n",
    "params = np.random.rand(3*n*depth)*2*np.pi\n",
    "\n",
    "for x in x_series:\n",
    "    # 入力層\n",
    "    qc = QCLinput(x, n)\n",
    "    qr = qc.qubits\n",
    "    # 中間層\n",
    "    for k in range(depth):\n",
    "        qc.append(U_ent(n), qr)\n",
    "        qc.append(U_rot(n, params[k*3*n:(k+1)*3*n]), qr)\n",
    "    # 出力層\n",
    "    y = mag_exp(qc, n)\n",
    "    y_series.append(y)"
   ]
  },
  {
   "cell_type": "code",
   "execution_count": null,
   "id": "447dcc95-34dc-41ba-ae65-25e3280749fa",
   "metadata": {},
   "outputs": [],
   "source": [
    "qc.draw()"
   ]
  },
  {
   "cell_type": "code",
   "execution_count": null,
   "id": "f0e98a29-3de1-409b-827d-c564ae00a702",
   "metadata": {},
   "outputs": [],
   "source": [
    "plt.plot(x_series, y_series)\n",
    "plt.show()"
   ]
  },
  {
   "cell_type": "markdown",
   "id": "1811f933-3502-4701-9498-88a3a8079022",
   "metadata": {},
   "source": [
    "#### 学習"
   ]
  },
  {
   "cell_type": "code",
   "execution_count": null,
   "id": "6433f15e-cee7-4d9f-9f6c-0a6ca8643044",
   "metadata": {},
   "outputs": [],
   "source": [
    "# 真値\n",
    "func = lambda x: 0.5*x**3"
   ]
  },
  {
   "cell_type": "code",
   "execution_count": null,
   "id": "f6d03576-9b2f-44ae-a7f7-a83c36bf3513",
   "metadata": {},
   "outputs": [],
   "source": [
    "ntrain = 10\n",
    "\n",
    "# 訓練データ（-1〜1）\n",
    "xtrain = 2*np.random.rand(ntrain)-1\n",
    "# 教師データ\n",
    "ytrain = func(xtrain)"
   ]
  },
  {
   "cell_type": "code",
   "execution_count": null,
   "id": "e595e752-6b51-410d-9126-be1ee226e71c",
   "metadata": {},
   "outputs": [],
   "source": [
    "plt.scatter(xtrain, ytrain)\n",
    "plt.xlim([-1, 1])\n",
    "plt.ylim([-0.5, 0.5])\n",
    "plt.show()"
   ]
  },
  {
   "cell_type": "code",
   "execution_count": null,
   "id": "75cbdb8e-ced6-45b3-8eb7-26ad885ced5f",
   "metadata": {},
   "outputs": [],
   "source": [
    "def cost_func(params):\n",
    "    '''\n",
    "    コスト関数\n",
    "    '''\n",
    "    cost_total = 0\n",
    "    for k in range(ntrain):\n",
    "        x = xtrain[k]\n",
    "        qc = QCLinput(x, n)\n",
    "        qr = qc.qubits\n",
    "        for d in range(depth):\n",
    "            qc.append(U_ent(n), qr)\n",
    "            qc.append(U_rot(n, params[d*3*n:(d+1)*3*n]), qr)\n",
    "        y = mag_exp(qc, n)\n",
    "        cost = 0.5*(ytrain[k]-y)**2\n",
    "        cost_total += cost\n",
    "    cost_total /= ntrain\n",
    "    return cost_total"
   ]
  },
  {
   "cell_type": "code",
   "execution_count": null,
   "id": "de3fff59-db07-4b43-9f6e-39fab004e8e1",
   "metadata": {},
   "outputs": [],
   "source": [
    "from scipy.optimize import minimize\n",
    "\n",
    "# 勾配を使わない、探索的な最適化方法\n",
    "result =  minimize(cost_func, params, method='COBYLA', options={'maxiter': 50})"
   ]
  },
  {
   "cell_type": "code",
   "execution_count": null,
   "id": "1a3d9fd1-4730-4b44-a90a-42cb1ee3b6e0",
   "metadata": {},
   "outputs": [],
   "source": [
    "# 0に近いほうが良い。\n",
    "result.fun"
   ]
  },
  {
   "cell_type": "code",
   "execution_count": null,
   "id": "d56f49af-c58a-487d-8f9f-782ea79ac4fc",
   "metadata": {},
   "outputs": [],
   "source": [
    "result.x"
   ]
  },
  {
   "cell_type": "code",
   "execution_count": null,
   "id": "52a82447-d475-4ddb-8ed6-5fc7e80121c9",
   "metadata": {},
   "outputs": [],
   "source": [
    "# 学習済みのパラメータを使って推論\n",
    "y_series = []\n",
    "params = result.x\n",
    "\n",
    "for x in x_series:\n",
    "    qc = QCLinput(x, n)\n",
    "    qr = qc.qubits\n",
    "    for d in range(depth):\n",
    "        qc.append(U_ent(n), qr)\n",
    "        qc.append(U_rot(n, params[d*3*n:(d+1)*3*n]), qr)\n",
    "    y = mag_exp(qc, n)\n",
    "    y_series.append(y)"
   ]
  },
  {
   "cell_type": "code",
   "execution_count": null,
   "id": "4f882bc8-8aea-4158-818a-e0129dc2981e",
   "metadata": {},
   "outputs": [],
   "source": [
    "y_correct = func(x_series)"
   ]
  },
  {
   "cell_type": "code",
   "execution_count": null,
   "id": "b894f251-54fc-439a-811b-e4171bf5bb32",
   "metadata": {},
   "outputs": [],
   "source": [
    "plt.scatter(xtrain, ytrain)\n",
    "plt.plot(x_series, y_correct)\n",
    "plt.plot(x_series, y_series)\n",
    "plt.show()"
   ]
  }
 ],
 "metadata": {
  "kernelspec": {
   "display_name": "Python 3 (ipykernel)",
   "language": "python",
   "name": "python3"
  },
  "language_info": {
   "codemirror_mode": {
    "name": "ipython",
    "version": 3
   },
   "file_extension": ".py",
   "mimetype": "text/x-python",
   "name": "python",
   "nbconvert_exporter": "python",
   "pygments_lexer": "ipython3",
   "version": "3.9.19"
  }
 },
 "nbformat": 4,
 "nbformat_minor": 5
}
