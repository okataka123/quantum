{
 "cells": [
  {
   "cell_type": "markdown",
   "id": "878faede-2645-46fd-9a5a-3a98e3550edf",
   "metadata": {},
   "source": [
    "# MNIST classification with Qiskit"
   ]
  },
  {
   "cell_type": "code",
   "execution_count": 1,
   "id": "6401e06a-4416-459a-917e-159088f36824",
   "metadata": {},
   "outputs": [],
   "source": [
    "from qiskit import QuantumCircuit, QuantumRegister, transpile\n",
    "from qiskit_aer import Aer\n",
    "from qiskit.visualization import array_to_latex\n",
    "from qiskit.quantum_info.operators import Operator, Pauli\n",
    "\n",
    "import numpy as np\n",
    "import matplotlib.pyplot as plt\n",
    "from sympy.physics.quantum.qubit import matrix_to_qubit\n",
    "from scipy.optimize import minimize\n",
    "from sklearn.datasets import fetch_openml\n",
    "from sklearn.model_selection import train_test_split"
   ]
  },
  {
   "cell_type": "code",
   "execution_count": 2,
   "id": "4ef3cc1b-0222-4648-9c7f-c3ec53a28189",
   "metadata": {},
   "outputs": [],
   "source": [
    "def sim_state(qc, disp=True):\n",
    "    '''\n",
    "    量子回路qcの量子状態を取得する。\n",
    "\n",
    "    Args:\n",
    "        qc (QuantumCircuit): 量子回路\n",
    "        disp (Bool): Trueにするとketベクトルの線型結合の形で量子状態表記を得る。\n",
    "    '''\n",
    "    sim = Aer.get_backend('statevector_simulator')\n",
    "    qc = transpile(qc, backend=sim)\n",
    "    res = sim.run(qc).result()\n",
    "    state = res.data()['statevector']\n",
    "    if disp:\n",
    "        ket = matrix_to_qubit(np.array(state)[:, np.newaxis])\n",
    "        print(ket)\n",
    "    return state"
   ]
  },
  {
   "cell_type": "code",
   "execution_count": 3,
   "id": "0d184a9b-1b60-4ac3-a8e0-e786f7257c59",
   "metadata": {},
   "outputs": [],
   "source": [
    "def mag_exp(qc, n):\n",
    "    '''\n",
    "    引数に与えられた期待値を計算する。\n",
    "\n",
    "    Args:\n",
    "        qc (QuantumCircuit): 量子回路\n",
    "        n (int): qubit数\n",
    "\n",
    "    Returns:\n",
    "        y (float): 期待値\n",
    "    '''\n",
    "    state = sim_state(qc, disp=False)\n",
    "    op = Operator(np.zeros([2**n, 2**n]))\n",
    "    for k in range(n):\n",
    "        op_str = ''\n",
    "        for l in range(n):\n",
    "            if l == k:\n",
    "                op_str += 'Z'\n",
    "            else:\n",
    "                op_str += 'I'\n",
    "        op += Operator(Pauli(op_str))\n",
    "        \n",
    "    y = state.expectation_value(op)/n\n",
    "    return y"
   ]
  },
  {
   "cell_type": "code",
   "execution_count": 4,
   "id": "6bed21e5-1aa9-44b8-a820-f402e591423a",
   "metadata": {},
   "outputs": [],
   "source": [
    "def U_in(x, n):\n",
    "    '''\n",
    "    Args:\n",
    "        x データ。-1〜1に規格化された\n",
    "    '''\n",
    "    qc = QuantumCircuit()\n",
    "    qr = QuantumRegister(n)\n",
    "    qc.add_register(qr)\n",
    "\n",
    "    angle = np.arcsin(x)\n",
    "    qc.rx(angle, qr)\n",
    "    \n",
    "    U_in = qc.to_gate()\n",
    "    U_in.name = 'U_in'\n",
    "\n",
    "    return U_in"
   ]
  },
  {
   "cell_type": "code",
   "execution_count": 5,
   "id": "7f59c90c-86fe-48b8-987d-8179e4d14585",
   "metadata": {},
   "outputs": [],
   "source": [
    "def QCLinput(x, n):\n",
    "    '''\n",
    "    量子回路を作るための関数\n",
    "    '''\n",
    "    qc = QuantumCircuit()\n",
    "    qr = QuantumRegister(n)\n",
    "    qc.add_register(qr)\n",
    "    qc.append(U_in(x, n), qr)\n",
    "    return qc"
   ]
  },
  {
   "cell_type": "code",
   "execution_count": 6,
   "id": "a3932e24-77ab-48e6-847e-3f2ff8099fb6",
   "metadata": {},
   "outputs": [],
   "source": [
    "def U_rot(n, params):\n",
    "    '''\n",
    "    Args:\n",
    "        n (int):\n",
    "        params (list): rx: 0, 1, 2, ..., n-1\n",
    "                       ry: n, n+1, n+2, ..., n+n-1\n",
    "                       rz: 2n, 2n+1, 2n+2, ..., 2n+n-1\n",
    "    '''\n",
    "    qc = QuantumCircuit()\n",
    "    qr = QuantumRegister(n)\n",
    "    qc.add_register(qr)\n",
    "    for k in range(n):\n",
    "        qc.rx(params[k], qr[k])\n",
    "        qc.ry(params[n+k], qr[k])\n",
    "        qc.rz(params[2*n+k], qr[k])\n",
    "    Urot = qc.to_gate()\n",
    "    Urot.name = 'Urot'\n",
    "    return Urot"
   ]
  },
  {
   "cell_type": "code",
   "execution_count": 7,
   "id": "03f196b6-e388-45e3-874c-2ee071484140",
   "metadata": {},
   "outputs": [],
   "source": [
    "def U_ent(n):\n",
    "    '''\n",
    "    entanglement\n",
    "    '''\n",
    "    qc = QuantumCircuit()\n",
    "    qr = QuantumRegister(n)\n",
    "    qc.add_register(qr)\n",
    "\n",
    "    if n > 1:\n",
    "        for k in range(n-1):\n",
    "            qc.cz(qr[k], qr[k+1])\n",
    "        qc.cz(qr[n-1], qr[0])\n",
    "\n",
    "    Uent = qc.to_gate()\n",
    "    Uent.name = 'U_ent'\n",
    "    return Uent    "
   ]
  },
  {
   "cell_type": "code",
   "execution_count": 8,
   "id": "86a072d8-3ab4-4228-a92a-985449045f76",
   "metadata": {},
   "outputs": [],
   "source": [
    "# 回帰用データでQNN作成\n",
    "# まずは、ランダムに生成したparamをそのまま用いたQNNではどのような出力をするかの実験\n",
    "\n",
    "n = 3\n",
    "x_series = np.linspace(-1, 1, 100)\n",
    "y_series = []\n",
    "depth = 3\n",
    "params = np.random.rand(3*n*depth)*2*np.pi\n",
    "\n",
    "for x in x_series:\n",
    "    # 入力層\n",
    "    qc = QCLinput(x, n)\n",
    "    qr = qc.qubits\n",
    "    # 中間層\n",
    "    for k in range(depth):\n",
    "        qc.append(U_ent(n), qr)\n",
    "        qc.append(U_rot(n, params[k*3*n:(k+1)*3*n]), qr)\n",
    "    # 出力層\n",
    "    y = mag_exp(qc, n)\n",
    "    y_series.append(y)"
   ]
  },
  {
   "cell_type": "code",
   "execution_count": 9,
   "id": "447dcc95-34dc-41ba-ae65-25e3280749fa",
   "metadata": {},
   "outputs": [
    {
     "data": {
      "text/html": [
       "<pre style=\"word-wrap: normal;white-space: pre;background: #fff0;line-height: 1.1;font-family: &quot;Courier New&quot;,Courier,monospace\">        ┌───────┐┌────────┐┌───────┐┌────────┐┌───────┐┌────────┐┌───────┐\n",
       "q793_0: ┤0      ├┤0       ├┤0      ├┤0       ├┤0      ├┤0       ├┤0      ├\n",
       "        │       ││        ││       ││        ││       ││        ││       │\n",
       "q793_1: ┤1 U_in ├┤1 U_ent ├┤1 Urot ├┤1 U_ent ├┤1 Urot ├┤1 U_ent ├┤1 Urot ├\n",
       "        │       ││        ││       ││        ││       ││        ││       │\n",
       "q793_2: ┤2      ├┤2       ├┤2      ├┤2       ├┤2      ├┤2       ├┤2      ├\n",
       "        └───────┘└────────┘└───────┘└────────┘└───────┘└────────┘└───────┘</pre>"
      ],
      "text/plain": [
       "        ┌───────┐┌────────┐┌───────┐┌────────┐┌───────┐┌────────┐┌───────┐\n",
       "q793_0: ┤0      ├┤0       ├┤0      ├┤0       ├┤0      ├┤0       ├┤0      ├\n",
       "        │       ││        ││       ││        ││       ││        ││       │\n",
       "q793_1: ┤1 U_in ├┤1 U_ent ├┤1 Urot ├┤1 U_ent ├┤1 Urot ├┤1 U_ent ├┤1 Urot ├\n",
       "        │       ││        ││       ││        ││       ││        ││       │\n",
       "q793_2: ┤2      ├┤2       ├┤2      ├┤2       ├┤2      ├┤2       ├┤2      ├\n",
       "        └───────┘└────────┘└───────┘└────────┘└───────┘└────────┘└───────┘"
      ]
     },
     "execution_count": 9,
     "metadata": {},
     "output_type": "execute_result"
    }
   ],
   "source": [
    "qc.draw()"
   ]
  },
  {
   "cell_type": "code",
   "execution_count": 10,
   "id": "f0e98a29-3de1-409b-827d-c564ae00a702",
   "metadata": {},
   "outputs": [
    {
     "name": "stderr",
     "output_type": "stream",
     "text": [
      "/home/user/anaconda3/envs/quantum_q_p/lib/python3.9/site-packages/matplotlib/cbook.py:1699: ComplexWarning: Casting complex values to real discards the imaginary part\n",
      "  return math.isfinite(val)\n",
      "/home/user/anaconda3/envs/quantum_q_p/lib/python3.9/site-packages/matplotlib/cbook.py:1345: ComplexWarning: Casting complex values to real discards the imaginary part\n",
      "  return np.asarray(x, float)\n"
     ]
    },
    {
     "data": {
      "image/png": "[encoded data removed]",
      "text/plain": [
       "<Figure size 640x480 with 1 Axes>"
      ]
     },
     "metadata": {},
     "output_type": "display_data"
    }
   ],
   "source": [
    "plt.plot(x_series, y_series)\n",
    "plt.show()"
   ]
  },
  {
   "cell_type": "markdown",
   "id": "1811f933-3502-4701-9498-88a3a8079022",
   "metadata": {},
   "source": [
    "#### 学習"
   ]
  },
  {
   "cell_type": "code",
   "execution_count": 11,
   "id": "6433f15e-cee7-4d9f-9f6c-0a6ca8643044",
   "metadata": {},
   "outputs": [],
   "source": [
    "# 真値\n",
    "func = lambda x: 0.5*x**3"
   ]
  },
  {
   "cell_type": "code",
   "execution_count": 12,
   "id": "f6d03576-9b2f-44ae-a7f7-a83c36bf3513",
   "metadata": {},
   "outputs": [],
   "source": [
    "ntrain = 10\n",
    "\n",
    "# 訓練データ（-1〜1）\n",
    "xtrain = 2*np.random.rand(ntrain)-1\n",
    "# 教師データ\n",
    "ytrain = func(xtrain)"
   ]
  },
  {
   "cell_type": "code",
   "execution_count": 13,
   "id": "e595e752-6b51-410d-9126-be1ee226e71c",
   "metadata": {},
   "outputs": [
    {
     "data": {
      "image/png": "[encoded data removed]",
      "text/plain": [
       "<Figure size 640x480 with 1 Axes>"
      ]
     },
     "metadata": {},
     "output_type": "display_data"
    }
   ],
   "source": [
    "plt.scatter(xtrain, ytrain)\n",
    "plt.xlim([-1, 1])\n",
    "plt.ylim([-0.5, 0.5])\n",
    "plt.show()"
   ]
  },
  {
   "cell_type": "code",
   "execution_count": 14,
   "id": "75cbdb8e-ced6-45b3-8eb7-26ad885ced5f",
   "metadata": {},
   "outputs": [],
   "source": [
    "def cost_func(params):\n",
    "    '''\n",
    "    コスト関数\n",
    "    '''\n",
    "    cost_total = 0\n",
    "    for k in range(ntrain):\n",
    "        x = xtrain[k]\n",
    "        qc = QCLinput(x, n)\n",
    "        qr = qc.qubits\n",
    "        for d in range(depth):\n",
    "            qc.append(U_ent(n), qr)\n",
    "            qc.append(U_rot(n, params[d*3*n:(d+1)*3*n]), qr)\n",
    "        y = mag_exp(qc, n)\n",
    "        cost = 0.5*(ytrain[k]-y)**2\n",
    "        cost_total += cost\n",
    "    cost_total /= ntrain\n",
    "    return cost_total"
   ]
  },
  {
   "cell_type": "code",
   "execution_count": 15,
   "id": "de3fff59-db07-4b43-9f6e-39fab004e8e1",
   "metadata": {
    "scrolled": true
   },
   "outputs": [
    {
     "name": "stderr",
     "output_type": "stream",
     "text": [
      "/home/user/anaconda3/envs/quantum_q_p/lib/python3.9/site-packages/scipy/optimize/_cobyla_py.py:293: ComplexWarning: Casting complex values to real discards the imaginary part\n",
      "  xopt, info = cobyla.minimize(calcfc, m=m, x=np.copy(x0), rhobeg=rhobeg,\n",
      "/home/user/anaconda3/envs/quantum_q_p/lib/python3.9/site-packages/scipy/optimize/_cobyla_py.py:293: ComplexWarning: Casting complex values to real discards the imaginary part\n",
      "  xopt, info = cobyla.minimize(calcfc, m=m, x=np.copy(x0), rhobeg=rhobeg,\n",
      "/home/user/anaconda3/envs/quantum_q_p/lib/python3.9/site-packages/scipy/optimize/_cobyla_py.py:293: ComplexWarning: Casting complex values to real discards the imaginary part\n",
      "  xopt, info = cobyla.minimize(calcfc, m=m, x=np.copy(x0), rhobeg=rhobeg,\n",
      "/home/user/anaconda3/envs/quantum_q_p/lib/python3.9/site-packages/scipy/optimize/_cobyla_py.py:293: ComplexWarning: Casting complex values to real discards the imaginary part\n",
      "  xopt, info = cobyla.minimize(calcfc, m=m, x=np.copy(x0), rhobeg=rhobeg,\n",
      "/home/user/anaconda3/envs/quantum_q_p/lib/python3.9/site-packages/scipy/optimize/_cobyla_py.py:293: ComplexWarning: Casting complex values to real discards the imaginary part\n",
      "  xopt, info = cobyla.minimize(calcfc, m=m, x=np.copy(x0), rhobeg=rhobeg,\n",
      "/home/user/anaconda3/envs/quantum_q_p/lib/python3.9/site-packages/scipy/optimize/_cobyla_py.py:293: ComplexWarning: Casting complex values to real discards the imaginary part\n",
      "  xopt, info = cobyla.minimize(calcfc, m=m, x=np.copy(x0), rhobeg=rhobeg,\n",
      "/home/user/anaconda3/envs/quantum_q_p/lib/python3.9/site-packages/scipy/optimize/_cobyla_py.py:293: ComplexWarning: Casting complex values to real discards the imaginary part\n",
      "  xopt, info = cobyla.minimize(calcfc, m=m, x=np.copy(x0), rhobeg=rhobeg,\n",
      "/home/user/anaconda3/envs/quantum_q_p/lib/python3.9/site-packages/scipy/optimize/_cobyla_py.py:293: ComplexWarning: Casting complex values to real discards the imaginary part\n",
      "  xopt, info = cobyla.minimize(calcfc, m=m, x=np.copy(x0), rhobeg=rhobeg,\n",
      "/home/user/anaconda3/envs/quantum_q_p/lib/python3.9/site-packages/scipy/optimize/_cobyla_py.py:293: ComplexWarning: Casting complex values to real discards the imaginary part\n",
      "  xopt, info = cobyla.minimize(calcfc, m=m, x=np.copy(x0), rhobeg=rhobeg,\n",
      "/home/user/anaconda3/envs/quantum_q_p/lib/python3.9/site-packages/scipy/optimize/_cobyla_py.py:293: ComplexWarning: Casting complex values to real discards the imaginary part\n",
      "  xopt, info = cobyla.minimize(calcfc, m=m, x=np.copy(x0), rhobeg=rhobeg,\n",
      "/home/user/anaconda3/envs/quantum_q_p/lib/python3.9/site-packages/scipy/optimize/_cobyla_py.py:293: ComplexWarning: Casting complex values to real discards the imaginary part\n",
      "  xopt, info = cobyla.minimize(calcfc, m=m, x=np.copy(x0), rhobeg=rhobeg,\n",
      "/home/user/anaconda3/envs/quantum_q_p/lib/python3.9/site-packages/scipy/optimize/_cobyla_py.py:293: ComplexWarning: Casting complex values to real discards the imaginary part\n",
      "  xopt, info = cobyla.minimize(calcfc, m=m, x=np.copy(x0), rhobeg=rhobeg,\n",
      "/home/user/anaconda3/envs/quantum_q_p/lib/python3.9/site-packages/scipy/optimize/_cobyla_py.py:293: ComplexWarning: Casting complex values to real discards the imaginary part\n",
      "  xopt, info = cobyla.minimize(calcfc, m=m, x=np.copy(x0), rhobeg=rhobeg,\n",
      "/home/user/anaconda3/envs/quantum_q_p/lib/python3.9/site-packages/scipy/optimize/_cobyla_py.py:293: ComplexWarning: Casting complex values to real discards the imaginary part\n",
      "  xopt, info = cobyla.minimize(calcfc, m=m, x=np.copy(x0), rhobeg=rhobeg,\n",
      "/home/user/anaconda3/envs/quantum_q_p/lib/python3.9/site-packages/scipy/optimize/_cobyla_py.py:293: ComplexWarning: Casting complex values to real discards the imaginary part\n",
      "  xopt, info = cobyla.minimize(calcfc, m=m, x=np.copy(x0), rhobeg=rhobeg,\n",
      "/home/user/anaconda3/envs/quantum_q_p/lib/python3.9/site-packages/scipy/optimize/_cobyla_py.py:293: ComplexWarning: Casting complex values to real discards the imaginary part\n",
      "  xopt, info = cobyla.minimize(calcfc, m=m, x=np.copy(x0), rhobeg=rhobeg,\n",
      "/home/user/anaconda3/envs/quantum_q_p/lib/python3.9/site-packages/scipy/optimize/_cobyla_py.py:293: ComplexWarning: Casting complex values to real discards the imaginary part\n",
      "  xopt, info = cobyla.minimize(calcfc, m=m, x=np.copy(x0), rhobeg=rhobeg,\n",
      "/home/user/anaconda3/envs/quantum_q_p/lib/python3.9/site-packages/scipy/optimize/_cobyla_py.py:293: ComplexWarning: Casting complex values to real discards the imaginary part\n",
      "  xopt, info = cobyla.minimize(calcfc, m=m, x=np.copy(x0), rhobeg=rhobeg,\n",
      "/home/user/anaconda3/envs/quantum_q_p/lib/python3.9/site-packages/scipy/optimize/_cobyla_py.py:293: ComplexWarning: Casting complex values to real discards the imaginary part\n",
      "  xopt, info = cobyla.minimize(calcfc, m=m, x=np.copy(x0), rhobeg=rhobeg,\n",
      "/home/user/anaconda3/envs/quantum_q_p/lib/python3.9/site-packages/scipy/optimize/_cobyla_py.py:293: ComplexWarning: Casting complex values to real discards the imaginary part\n",
      "  xopt, info = cobyla.minimize(calcfc, m=m, x=np.copy(x0), rhobeg=rhobeg,\n",
      "/home/user/anaconda3/envs/quantum_q_p/lib/python3.9/site-packages/scipy/optimize/_cobyla_py.py:293: ComplexWarning: Casting complex values to real discards the imaginary part\n",
      "  xopt, info = cobyla.minimize(calcfc, m=m, x=np.copy(x0), rhobeg=rhobeg,\n",
      "/home/user/anaconda3/envs/quantum_q_p/lib/python3.9/site-packages/scipy/optimize/_cobyla_py.py:293: ComplexWarning: Casting complex values to real discards the imaginary part\n",
      "  xopt, info = cobyla.minimize(calcfc, m=m, x=np.copy(x0), rhobeg=rhobeg,\n",
      "/home/user/anaconda3/envs/quantum_q_p/lib/python3.9/site-packages/scipy/optimize/_cobyla_py.py:293: ComplexWarning: Casting complex values to real discards the imaginary part\n",
      "  xopt, info = cobyla.minimize(calcfc, m=m, x=np.copy(x0), rhobeg=rhobeg,\n",
      "/home/user/anaconda3/envs/quantum_q_p/lib/python3.9/site-packages/scipy/optimize/_cobyla_py.py:293: ComplexWarning: Casting complex values to real discards the imaginary part\n",
      "  xopt, info = cobyla.minimize(calcfc, m=m, x=np.copy(x0), rhobeg=rhobeg,\n",
      "/home/user/anaconda3/envs/quantum_q_p/lib/python3.9/site-packages/scipy/optimize/_cobyla_py.py:293: ComplexWarning: Casting complex values to real discards the imaginary part\n",
      "  xopt, info = cobyla.minimize(calcfc, m=m, x=np.copy(x0), rhobeg=rhobeg,\n",
      "/home/user/anaconda3/envs/quantum_q_p/lib/python3.9/site-packages/scipy/optimize/_cobyla_py.py:293: ComplexWarning: Casting complex values to real discards the imaginary part\n",
      "  xopt, info = cobyla.minimize(calcfc, m=m, x=np.copy(x0), rhobeg=rhobeg,\n",
      "/home/user/anaconda3/envs/quantum_q_p/lib/python3.9/site-packages/scipy/optimize/_cobyla_py.py:293: ComplexWarning: Casting complex values to real discards the imaginary part\n",
      "  xopt, info = cobyla.minimize(calcfc, m=m, x=np.copy(x0), rhobeg=rhobeg,\n",
      "/home/user/anaconda3/envs/quantum_q_p/lib/python3.9/site-packages/scipy/optimize/_cobyla_py.py:293: ComplexWarning: Casting complex values to real discards the imaginary part\n",
      "  xopt, info = cobyla.minimize(calcfc, m=m, x=np.copy(x0), rhobeg=rhobeg,\n",
      "/home/user/anaconda3/envs/quantum_q_p/lib/python3.9/site-packages/scipy/optimize/_cobyla_py.py:293: ComplexWarning: Casting complex values to real discards the imaginary part\n",
      "  xopt, info = cobyla.minimize(calcfc, m=m, x=np.copy(x0), rhobeg=rhobeg,\n",
      "/home/user/anaconda3/envs/quantum_q_p/lib/python3.9/site-packages/scipy/optimize/_cobyla_py.py:293: ComplexWarning: Casting complex values to real discards the imaginary part\n",
      "  xopt, info = cobyla.minimize(calcfc, m=m, x=np.copy(x0), rhobeg=rhobeg,\n",
      "/home/user/anaconda3/envs/quantum_q_p/lib/python3.9/site-packages/scipy/optimize/_cobyla_py.py:293: ComplexWarning: Casting complex values to real discards the imaginary part\n",
      "  xopt, info = cobyla.minimize(calcfc, m=m, x=np.copy(x0), rhobeg=rhobeg,\n",
      "/home/user/anaconda3/envs/quantum_q_p/lib/python3.9/site-packages/scipy/optimize/_cobyla_py.py:293: ComplexWarning: Casting complex values to real discards the imaginary part\n",
      "  xopt, info = cobyla.minimize(calcfc, m=m, x=np.copy(x0), rhobeg=rhobeg,\n",
      "/home/user/anaconda3/envs/quantum_q_p/lib/python3.9/site-packages/scipy/optimize/_cobyla_py.py:293: ComplexWarning: Casting complex values to real discards the imaginary part\n",
      "  xopt, info = cobyla.minimize(calcfc, m=m, x=np.copy(x0), rhobeg=rhobeg,\n",
      "/home/user/anaconda3/envs/quantum_q_p/lib/python3.9/site-packages/scipy/optimize/_cobyla_py.py:293: ComplexWarning: Casting complex values to real discards the imaginary part\n",
      "  xopt, info = cobyla.minimize(calcfc, m=m, x=np.copy(x0), rhobeg=rhobeg,\n",
      "/home/user/anaconda3/envs/quantum_q_p/lib/python3.9/site-packages/scipy/optimize/_cobyla_py.py:293: ComplexWarning: Casting complex values to real discards the imaginary part\n",
      "  xopt, info = cobyla.minimize(calcfc, m=m, x=np.copy(x0), rhobeg=rhobeg,\n",
      "/home/user/anaconda3/envs/quantum_q_p/lib/python3.9/site-packages/scipy/optimize/_cobyla_py.py:293: ComplexWarning: Casting complex values to real discards the imaginary part\n",
      "  xopt, info = cobyla.minimize(calcfc, m=m, x=np.copy(x0), rhobeg=rhobeg,\n",
      "/home/user/anaconda3/envs/quantum_q_p/lib/python3.9/site-packages/scipy/optimize/_cobyla_py.py:293: ComplexWarning: Casting complex values to real discards the imaginary part\n",
      "  xopt, info = cobyla.minimize(calcfc, m=m, x=np.copy(x0), rhobeg=rhobeg,\n",
      "/home/user/anaconda3/envs/quantum_q_p/lib/python3.9/site-packages/scipy/optimize/_cobyla_py.py:293: ComplexWarning: Casting complex values to real discards the imaginary part\n",
      "  xopt, info = cobyla.minimize(calcfc, m=m, x=np.copy(x0), rhobeg=rhobeg,\n",
      "/home/user/anaconda3/envs/quantum_q_p/lib/python3.9/site-packages/scipy/optimize/_cobyla_py.py:293: ComplexWarning: Casting complex values to real discards the imaginary part\n",
      "  xopt, info = cobyla.minimize(calcfc, m=m, x=np.copy(x0), rhobeg=rhobeg,\n",
      "/home/user/anaconda3/envs/quantum_q_p/lib/python3.9/site-packages/scipy/optimize/_cobyla_py.py:293: ComplexWarning: Casting complex values to real discards the imaginary part\n",
      "  xopt, info = cobyla.minimize(calcfc, m=m, x=np.copy(x0), rhobeg=rhobeg,\n",
      "/home/user/anaconda3/envs/quantum_q_p/lib/python3.9/site-packages/scipy/optimize/_cobyla_py.py:293: ComplexWarning: Casting complex values to real discards the imaginary part\n",
      "  xopt, info = cobyla.minimize(calcfc, m=m, x=np.copy(x0), rhobeg=rhobeg,\n",
      "/home/user/anaconda3/envs/quantum_q_p/lib/python3.9/site-packages/scipy/optimize/_cobyla_py.py:293: ComplexWarning: Casting complex values to real discards the imaginary part\n",
      "  xopt, info = cobyla.minimize(calcfc, m=m, x=np.copy(x0), rhobeg=rhobeg,\n",
      "/home/user/anaconda3/envs/quantum_q_p/lib/python3.9/site-packages/scipy/optimize/_cobyla_py.py:293: ComplexWarning: Casting complex values to real discards the imaginary part\n",
      "  xopt, info = cobyla.minimize(calcfc, m=m, x=np.copy(x0), rhobeg=rhobeg,\n",
      "/home/user/anaconda3/envs/quantum_q_p/lib/python3.9/site-packages/scipy/optimize/_cobyla_py.py:293: ComplexWarning: Casting complex values to real discards the imaginary part\n",
      "  xopt, info = cobyla.minimize(calcfc, m=m, x=np.copy(x0), rhobeg=rhobeg,\n",
      "/home/user/anaconda3/envs/quantum_q_p/lib/python3.9/site-packages/scipy/optimize/_cobyla_py.py:293: ComplexWarning: Casting complex values to real discards the imaginary part\n",
      "  xopt, info = cobyla.minimize(calcfc, m=m, x=np.copy(x0), rhobeg=rhobeg,\n",
      "/home/user/anaconda3/envs/quantum_q_p/lib/python3.9/site-packages/scipy/optimize/_cobyla_py.py:293: ComplexWarning: Casting complex values to real discards the imaginary part\n",
      "  xopt, info = cobyla.minimize(calcfc, m=m, x=np.copy(x0), rhobeg=rhobeg,\n",
      "/home/user/anaconda3/envs/quantum_q_p/lib/python3.9/site-packages/scipy/optimize/_cobyla_py.py:293: ComplexWarning: Casting complex values to real discards the imaginary part\n",
      "  xopt, info = cobyla.minimize(calcfc, m=m, x=np.copy(x0), rhobeg=rhobeg,\n",
      "/home/user/anaconda3/envs/quantum_q_p/lib/python3.9/site-packages/scipy/optimize/_cobyla_py.py:293: ComplexWarning: Casting complex values to real discards the imaginary part\n",
      "  xopt, info = cobyla.minimize(calcfc, m=m, x=np.copy(x0), rhobeg=rhobeg,\n",
      "/home/user/anaconda3/envs/quantum_q_p/lib/python3.9/site-packages/scipy/optimize/_cobyla_py.py:293: ComplexWarning: Casting complex values to real discards the imaginary part\n",
      "  xopt, info = cobyla.minimize(calcfc, m=m, x=np.copy(x0), rhobeg=rhobeg,\n",
      "/home/user/anaconda3/envs/quantum_q_p/lib/python3.9/site-packages/scipy/optimize/_cobyla_py.py:293: ComplexWarning: Casting complex values to real discards the imaginary part\n",
      "  xopt, info = cobyla.minimize(calcfc, m=m, x=np.copy(x0), rhobeg=rhobeg,\n"
     ]
    }
   ],
   "source": [
    "# 勾配を使わない、探索的な最適化方法\n",
    "result =  minimize(cost_func, params, method='COBYLA', options={'maxiter': 50})"
   ]
  },
  {
   "cell_type": "code",
   "execution_count": 16,
   "id": "1a3d9fd1-4730-4b44-a90a-42cb1ee3b6e0",
   "metadata": {},
   "outputs": [
    {
     "data": {
      "text/plain": [
       "0.000633861811974053"
      ]
     },
     "execution_count": 16,
     "metadata": {},
     "output_type": "execute_result"
    }
   ],
   "source": [
    "# 0に近いほうが良い。\n",
    "result.fun"
   ]
  },
  {
   "cell_type": "code",
   "execution_count": 17,
   "id": "d56f49af-c58a-487d-8f9f-782ea79ac4fc",
   "metadata": {},
   "outputs": [
    {
     "data": {
      "text/plain": [
       "array([2.49071708, 6.65046411, 5.57605119, 5.47444311, 2.4780659 ,\n",
       "       4.77166383, 2.31746287, 5.92549056, 6.0292418 , 7.1065618 ,\n",
       "       1.00056517, 5.57052676, 2.12822434, 1.91341474, 1.82173216,\n",
       "       1.25770624, 2.36783451, 1.83701908, 3.10681556, 2.9956318 ,\n",
       "       3.20454443, 5.04574829, 5.97472436, 3.19123889, 2.55823768,\n",
       "       1.7590029 , 0.11366578])"
      ]
     },
     "execution_count": 17,
     "metadata": {},
     "output_type": "execute_result"
    }
   ],
   "source": [
    "result.x"
   ]
  },
  {
   "cell_type": "code",
   "execution_count": 18,
   "id": "52a82447-d475-4ddb-8ed6-5fc7e80121c9",
   "metadata": {},
   "outputs": [],
   "source": [
    "# 学習済みのパラメータを使って推論\n",
    "y_series = []\n",
    "params = result.x\n",
    "\n",
    "for x in x_series:\n",
    "    qc = QCLinput(x, n)\n",
    "    qr = qc.qubits\n",
    "    for d in range(depth):\n",
    "        qc.append(U_ent(n), qr)\n",
    "        qc.append(U_rot(n, params[d*3*n:(d+1)*3*n]), qr)\n",
    "    y = mag_exp(qc, n)\n",
    "    y_series.append(y)"
   ]
  },
  {
   "cell_type": "code",
   "execution_count": 19,
   "id": "4f882bc8-8aea-4158-818a-e0129dc2981e",
   "metadata": {},
   "outputs": [],
   "source": [
    "y_correct = func(x_series)"
   ]
  },
  {
   "cell_type": "code",
   "execution_count": 20,
   "id": "b894f251-54fc-439a-811b-e4171bf5bb32",
   "metadata": {},
   "outputs": [
    {
     "name": "stderr",
     "output_type": "stream",
     "text": [
      "/home/user/anaconda3/envs/quantum_q_p/lib/python3.9/site-packages/matplotlib/cbook.py:1699: ComplexWarning: Casting complex values to real discards the imaginary part\n",
      "  return math.isfinite(val)\n",
      "/home/user/anaconda3/envs/quantum_q_p/lib/python3.9/site-packages/matplotlib/cbook.py:1345: ComplexWarning: Casting complex values to real discards the imaginary part\n",
      "  return np.asarray(x, float)\n"
     ]
    },
    {
     "data": {
      "image/png": "[encoded data removed]",
      "text/plain": [
       "<Figure size 640x480 with 1 Axes>"
      ]
     },
     "metadata": {},
     "output_type": "display_data"
    }
   ],
   "source": [
    "plt.scatter(xtrain, ytrain)\n",
    "plt.plot(x_series, y_correct)\n",
    "plt.plot(x_series, y_series)\n",
    "plt.show()"
   ]
  }
 ],
 "metadata": {
  "kernelspec": {
   "display_name": "Python 3 (ipykernel)",
   "language": "python",
   "name": "python3"
  },
  "language_info": {
   "codemirror_mode": {
    "name": "ipython",
    "version": 3
   },
   "file_extension": ".py",
   "mimetype": "text/x-python",
   "name": "python",
   "nbconvert_exporter": "python",
   "pygments_lexer": "ipython3",
   "version": "3.9.19"
  }
 },
 "nbformat": 4,
 "nbformat_minor": 5
}
